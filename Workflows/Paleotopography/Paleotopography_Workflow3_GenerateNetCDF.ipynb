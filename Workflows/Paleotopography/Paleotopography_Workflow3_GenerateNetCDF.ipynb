{
 "cells": [
  {
   "cell_type": "code",
   "execution_count": 3,
   "id": "f834506a-02ef-4e35-8f2f-cc7985a43f37",
   "metadata": {},
   "outputs": [],
   "source": [
    "from pyDTDM import *\n",
    "import warnings\n",
    "import yaml\n",
    "try:\n",
    "    from yaml import Cloader as Loader\n",
    "except ImportError:\n",
    "\n",
    "    from yaml import Loader\n",
    "\n",
    "import xarray as xr\n"
   ]
  },
  {
   "cell_type": "code",
   "execution_count": 4,
   "id": "f95d3525-27b4-482b-97fb-3beab889e37a",
   "metadata": {},
   "outputs": [
    {
     "name": "stdout",
     "output_type": "stream",
     "text": [
      "––––––––––––––––––––––––––––––––––––––––––––––––––––––––––––––––––––––– \n",
      " Parameters set from InputFiles/phase2NNR_paleotopography.yaml\n",
      "––––––––––––––––––––––––––––––––––––––––––––––––––––––––––––––––––––––– \n"
     ]
    }
   ],
   "source": [
    "# Define the path to the configuration file\n",
    "config_file = \"InputFiles/phase2NNR_paleotopography.yaml\"\n",
    "\n",
    "# Open the configuration file and load parameters using YAML\n",
    "with open(config_file) as f:\n",
    "    PARAMS = yaml.load(f, Loader=Loader)  # Load parameters from YAML file using the specified Loader\n",
    "\n",
    "# Print a confirmation message indicating the configuration file and parameters\n",
    "print(\"––––––––––––––––––––––––––––––––––––––––––––––––––––––––––––––––––––––– \")\n",
    "print(\" Parameters set from %s\" % config_file)  # Display the path of the configuration file\n",
    "print(\"––––––––––––––––––––––––––––––––––––––––––––––––––––––––––––––––––––––– \")"
   ]
  },
  {
   "cell_type": "code",
   "execution_count": 5,
   "id": "c79e1195-9d59-46c9-adac-4b406e092f37",
   "metadata": {},
   "outputs": [
    {
     "name": "stdout",
     "output_type": "stream",
     "text": [
      "––––––––––––––––––––––––––––––––––––––––––––––––––––––––––––––––––––––– \n",
      "Reading input file..... \n",
      "\n",
      "––––––––––––––––––––––––––––––––––––––––––––––––––––––––––––––––––––––– \n",
      "Plate Model: phase2NNR \n",
      "\n",
      "Model Directory: /Users/ssin4735/Documents/PROJECT/PhD Project/Codes and Data/BhuDM/Zahirovic_etal_2022_GDJ_NNR \n",
      "\n",
      "Coastlines: /Users/ssin4735/Documents/PROJECT/PhD Project/Codes and Data/BhuDM/Zahirovic_etal_2022_GDJ_NNR/StaticGeometries/Coastlines/Global_coastlines_low_res.shp \n",
      "\n",
      "Continents: /Users/ssin4735/Documents/PROJECT/PhD Project/Codes and Data/BhuDM/Zahirovic_etal_2022_GDJ_NNR/StaticGeometries/ContinentalPolygons/Global_EarthByte_GPlates_PresentDay_ContinentalPolygons.shp \n",
      "\n",
      "Static Polygons: /Users/ssin4735/Documents/PROJECT/PhD Project/Codes and Data/BhuDM/Zahirovic_etal_2022_GDJ_NNR/StaticGeometries/StaticPolygons/Global_EarthByte_GPlates_PresentDay_StaticPlatePolygons.shp \n",
      "\n",
      "Model Agegrid: /Users/ssin4735/Documents/PROJECT/PhD Project/Codes and Data/BhuDM/SeafloorAgegrid \n",
      "\n",
      "ETopo grid: /Users/ssin4735/Documents/PROJECT/PhD Project/Codes and Data/Part 2/A_DEEPTIMETOPO/Data/Smoothed ETopo.tif\n",
      "––––––––––––––––––––––––––––––––––––––––––––––––––––––––––––––––––––––– \n",
      "\n"
     ]
    }
   ],
   "source": [
    "# Input Files \n",
    "MODEL_NAME=PARAMS['InputFiles']['plate_kinematics']['model_name']\n",
    "MODEL_DIR = PARAMS['InputFiles']['plate_kinematics']['model_dir']  ## plate model\n",
    "topology_filenames =[f\"{MODEL_DIR}/{i}\" for i in PARAMS['InputFiles']['plate_kinematics']['topology_files']]\n",
    "rotation_filenames = [f\"{MODEL_DIR}/{i}\" for i in PARAMS['InputFiles']['plate_kinematics']['rotation_files']]\n",
    "agegrid=PARAMS['InputFiles']['plate_kinematics']['agegrid']\n",
    "\n",
    "ETOPO_FILE=PARAMS['InputFiles']['Raster']['ETOPO_FILE'] # ETOPO grid in meters (can be netCDf or GeoTiff)\n",
    "ETOPO_Type=PARAMS['InputFiles']['Raster']['Raster_type']\n",
    "coastlines = f\"{MODEL_DIR }/{PARAMS['InputFiles']['plate_kinematics']['coastline_file']}\"\n",
    "static_polygon_file=f\"{MODEL_DIR }/{PARAMS['InputFiles']['plate_kinematics']['static_polygon']}\"\n",
    "static_polygons = pygplates.FeatureCollection(static_polygon_file)\n",
    "continents=f\"{MODEL_DIR }/{PARAMS['InputFiles']['plate_kinematics']['continents']}\"\n",
    "print(\"––––––––––––––––––––––––––––––––––––––––––––––––––––––––––––––––––––––– \")\n",
    "print(\"Reading input file..... \\n\")\n",
    "print(\"––––––––––––––––––––––––––––––––––––––––––––––––––––––––––––––––––––––– \")\n",
    "print(f\"Plate Model: {MODEL_NAME} \\n\")\n",
    "print(f\"Model Directory: {MODEL_DIR} \\n\")\n",
    "print(f\"Coastlines: {coastlines} \\n\")\n",
    "print(f\"Continents: {continents} \\n\")\n",
    "print(f\"Static Polygons: {static_polygon_file} \\n\")\n",
    "print(f\"Model Agegrid: {agegrid} \\n\")\n",
    "print(f\"ETopo grid: {ETOPO_FILE}\")\n",
    "print(\"––––––––––––––––––––––––––––––––––––––––––––––––––––––––––––––––––––––– \\n\")"
   ]
  },
  {
   "cell_type": "code",
   "execution_count": 6,
   "id": "35a6fc3d-921f-4280-a147-a8e63c5dcc6c",
   "metadata": {},
   "outputs": [
    {
     "name": "stdout",
     "output_type": "stream",
     "text": [
      "––––––––––––––––––––––––––––––––––––––––––––––––––––––––––––––––––––––– \n",
      "The following parameters are set-\n",
      "––––––––––––––––––––––––––––––––––––––––––––––––––––––––––––––––––––––– \n",
      "Mantle Optmised Reference Frame ID: 666666\n",
      "Paleomagnetic Reference Frame ID: 0 \n",
      "\n",
      "Moving Window Size: 25\n",
      "Weighted Mean: True\n",
      "Mesh Refinement Level: 9\n",
      "NetCDF GRID Resolution: 0.1\n",
      "NetCDF Compression Level: 5 \n",
      "\n",
      "Model Start Time: 380\n",
      "Model End Time: 0\n",
      "Model Time Step: 1\n",
      "\n",
      "Number of CPU: -1\n",
      "––––––––––––––––––––––––––––––––––––––––––––––––––––––––––––––––––––––– \n"
     ]
    }
   ],
   "source": [
    "Paleomag_ID=PARAMS['Parameters']['paleomag_id']\n",
    "Mantle_ID=PARAMS['Parameters']['mantle_optimised_id']\n",
    "\n",
    "#The initial positions of crustal points are evenly distributed within the designated region. \n",
    "# At mesh refinement level zero, the points are approximately 20 degrees apart.\n",
    "# Each increase in the density level results in a halving of the spacing between points.\n",
    "MESH_REFINEMENT_LEVEL=PARAMS['Parameters']['mesh_refinement_level']  # higher refinement level will take longer time to run for optimisation \n",
    "WINDOW_SIZE=int(PARAMS['Parameters']['time_window_size'])\n",
    "Weighted=PARAMS['Parameters']['weighted_mean']\n",
    "\n",
    "\n",
    "NETCDF_GRID_RESOLUTION=PARAMS['GridParameters']['grid_spacing']  # in degree\n",
    "ZLIB=PARAMS['GridParameters']['compression']['zlib'] \n",
    "COMPLEVEL=PARAMS['GridParameters']['compression']['complevel'] \n",
    "\n",
    "FROM_TIME=int(PARAMS['TimeParameters']['time_max'])\n",
    "TO_TIME=int(PARAMS['TimeParameters']['time_min'])\n",
    "TIME_STEPS=int(PARAMS['TimeParameters']['time_step'])\n",
    "\n",
    "\n",
    "\n",
    "\n",
    "parallel=PARAMS['Parameters']['number_of_cpus']### No of core to use or None for single core\n",
    "\n",
    "\n",
    "print(\"––––––––––––––––––––––––––––––––––––––––––––––––––––––––––––––––––––––– \")\n",
    "print(\"The following parameters are set-\")\n",
    "print(\"––––––––––––––––––––––––––––––––––––––––––––––––––––––––––––––––––––––– \")\n",
    "print(f\"Mantle Optmised Reference Frame ID: {Mantle_ID}\")\n",
    "print(f\"Paleomagnetic Reference Frame ID: {Paleomag_ID} \\n\")\n",
    "\n",
    "print(f\"Moving Window Size: {WINDOW_SIZE}\")\n",
    "print(f\"Weighted Mean: {Weighted}\")\n",
    "\n",
    "print(f\"Mesh Refinement Level: {MESH_REFINEMENT_LEVEL}\")\n",
    "print(f\"NetCDF GRID Resolution: {NETCDF_GRID_RESOLUTION}\")\n",
    "print(f\"NetCDF Compression Level: {COMPLEVEL} \\n\")\n",
    "print(f\"Model Start Time: {FROM_TIME}\")\n",
    "print(f\"Model End Time: {TO_TIME}\")\n",
    "print(f\"Model Time Step: {TIME_STEPS}\\n\")\n",
    "\n",
    "\n",
    "print(f\"Number of CPU: {parallel}\") # -1 means all the freely available CPU\n",
    "\n",
    "\n",
    "print(\"––––––––––––––––––––––––––––––––––––––––––––––––––––––––––––––––––––––– \")"
   ]
  },
  {
   "cell_type": "code",
   "execution_count": 7,
   "id": "53aa0928-59f0-43c0-aae0-5411464fdb96",
   "metadata": {},
   "outputs": [
    {
     "name": "stdout",
     "output_type": "stream",
     "text": [
      "––––––––––––––––––––––––––––––––––––––––––––––––––––––––––––––––––––––– \n",
      "All the output will be saved in /Volumes/Satyam/PaleotopographyFinal\n",
      "––––––––––––––––––––––––––––––––––––––––––––––––––––––––––––––––––––––– \n",
      "––––––––––––––––––––––––––––––––––––––––––––––––––––––––––––––––––––––– \n"
     ]
    }
   ],
   "source": [
    "# Output Directory\n",
    "OUTPUT_FOLDER=PARAMS['OutputFiles']['output_dir']\n",
    "\n",
    "DEFAULT_OUTPUT_CSV=os.path.join(OUTPUT_FOLDER,'CSV')\n",
    "DEFAULT_OUTPUT_NetCDF=os.path.join(OUTPUT_FOLDER,'NetCDF') # folder to store output NetCDF grid\n",
    "\n",
    "\n",
    "\n",
    "\n",
    "\n",
    "print(\"––––––––––––––––––––––––––––––––––––––––––––––––––––––––––––––––––––––– \")\n",
    "print(f\"All the output will be saved in {OUTPUT_FOLDER}\")\n",
    "print(\"––––––––––––––––––––––––––––––––––––––––––––––––––––––––––––––––––––––– \")\n",
    "create_directory_if_not_exists(OUTPUT_FOLDER)\n",
    "create_directory_if_not_exists(DEFAULT_OUTPUT_CSV)\n",
    "create_directory_if_not_exists(DEFAULT_OUTPUT_NetCDF)\n",
    "print(\"––––––––––––––––––––––––––––––––––––––––––––––––––––––––––––––––––––––– \")\n"
   ]
  },
  {
   "cell_type": "markdown",
   "id": "5e748df8-4075-4e5d-a847-9b226a5531fc",
   "metadata": {},
   "source": [
    "## Define Plate Reconstruction"
   ]
  },
  {
   "cell_type": "code",
   "execution_count": 8,
   "id": "4178c7c8-161d-49a7-8f67-d86f9aa460a4",
   "metadata": {},
   "outputs": [
    {
     "name": "stderr",
     "output_type": "stream",
     "text": [
      "ImportWarning: \n",
      "RotationModel: No filename associated with <class 'pygplates.pygplates.RotationModel'> in __init__\n",
      " ensure pygplates is imported from gplately. Run,\n",
      " from gplately import pygplates\n"
     ]
    }
   ],
   "source": [
    "# rotation_model = pygplates.RotationModel(rotation_filenames)\n",
    "# topology_features = pygplates.FeatureCollection()\n",
    "# for topology_filename in topology_filenames:\n",
    "#         topology_features.add( pygplates.FeatureCollection(topology_filename))\n",
    "\n",
    "\n",
    "PK=PlateKinematicsParameters(topology_filenames, \n",
    "                             rotation_filenames,\n",
    "                             static_polygons,\n",
    "                             agegrid=agegrid,\n",
    "                             coastlines=coastlines,\n",
    "                             continents=continents,\n",
    "                             anchor_plate_id=Mantle_ID)\n",
    "\n",
    "time = 0 #Ma\n",
    "gplot = gplately.PlotTopologies(PK.model, coastlines=coastlines, continents=continents, time=time)\n"
   ]
  },
  {
   "cell_type": "code",
   "execution_count": 9,
   "id": "f250ae02-f2d4-4601-ae9b-09778f4c6298",
   "metadata": {},
   "outputs": [],
   "source": [
    "all_times=glob.glob(f\"{DEFAULT_OUTPUT_CSV}/Prediction/*\")\n",
    "all_times=np.sort([int(time.split('_')[-1].split('.')[0].split('Ma')[0]) for time in all_times])"
   ]
  },
  {
   "cell_type": "code",
   "execution_count": 10,
   "id": "5e0d7ec2-25dd-410d-8208-aa3245e097a8",
   "metadata": {},
   "outputs": [
    {
     "data": {
      "text/plain": [
       "array([  0,   3,   6,   9,  12,  15,  18,  21,  24,  27,  30,  33,  36,\n",
       "        39,  42,  45,  48,  51,  54,  57,  60,  63,  66,  69,  72,  75,\n",
       "        78,  81,  84,  87,  90,  93,  96,  99, 102, 105, 108, 111, 114,\n",
       "       117, 120, 123, 126, 129, 132, 135, 138, 141, 144, 147, 150, 153,\n",
       "       156, 159, 162, 165, 168, 171, 174, 177, 180, 183, 186, 189, 192,\n",
       "       195, 198, 201, 204, 207, 210, 213, 216, 219, 222, 225, 228, 231,\n",
       "       234, 237, 240, 243, 246, 249, 252, 255, 258, 261, 264, 267, 270,\n",
       "       273, 276, 279, 282, 285, 288, 291, 294, 297, 300, 303, 306, 309,\n",
       "       312, 315, 318, 321, 324, 327, 330, 333, 336, 339, 342, 345, 348,\n",
       "       351, 354, 357, 360, 363, 366, 369, 372, 375, 378])"
      ]
     },
     "execution_count": 10,
     "metadata": {},
     "output_type": "execute_result"
    }
   ],
   "source": [
    "all_times"
   ]
  },
  {
   "cell_type": "code",
   "execution_count": 11,
   "id": "5950c77f-bb98-479c-ae8f-5e0b6d3885b5",
   "metadata": {
    "tags": []
   },
   "outputs": [],
   "source": [
    "ml_model_name=\"RFC\""
   ]
  },
  {
   "cell_type": "code",
   "execution_count": 23,
   "id": "bd041e50-6bda-43e1-89ad-e4d006fedeb7",
   "metadata": {
    "scrolled": true
   },
   "outputs": [
    {
     "name": "stdout",
     "output_type": "stream",
     "text": [
      "Created directory: /Volumes/Satyam/PaleotopographyFinal/NetCDF/RFC_Model\n",
      "Working on Time=0 Ma\n",
      "Saved NetCDF!\n",
      "Working on Time=3 Ma\n",
      "Saved NetCDF!\n",
      "Working on Time=6 Ma\n",
      "Saved NetCDF!\n",
      "Working on Time=9 Ma\n",
      "Saved NetCDF!\n",
      "Working on Time=12 Ma\n",
      "Saved NetCDF!\n",
      "Working on Time=15 Ma\n",
      "Saved NetCDF!\n",
      "Working on Time=18 Ma\n",
      "Saved NetCDF!\n",
      "Working on Time=21 Ma\n",
      "Saved NetCDF!\n",
      "Working on Time=24 Ma\n",
      "Saved NetCDF!\n",
      "Working on Time=27 Ma\n",
      "Saved NetCDF!\n",
      "Working on Time=30 Ma\n",
      "Saved NetCDF!\n",
      "Working on Time=33 Ma\n",
      "Saved NetCDF!\n",
      "Working on Time=36 Ma\n",
      "Saved NetCDF!\n",
      "Working on Time=39 Ma\n",
      "Saved NetCDF!\n",
      "Working on Time=42 Ma\n",
      "Saved NetCDF!\n",
      "Working on Time=45 Ma\n",
      "Saved NetCDF!\n",
      "Working on Time=48 Ma\n",
      "Saved NetCDF!\n",
      "Working on Time=51 Ma\n",
      "Saved NetCDF!\n",
      "Working on Time=54 Ma\n",
      "Saved NetCDF!\n",
      "Working on Time=57 Ma\n",
      "Saved NetCDF!\n",
      "Working on Time=60 Ma\n",
      "Saved NetCDF!\n",
      "Working on Time=63 Ma\n",
      "Saved NetCDF!\n",
      "Working on Time=66 Ma\n",
      "Saved NetCDF!\n",
      "Working on Time=69 Ma\n",
      "Saved NetCDF!\n",
      "Working on Time=72 Ma\n",
      "Saved NetCDF!\n",
      "Working on Time=75 Ma\n",
      "Saved NetCDF!\n",
      "Working on Time=78 Ma\n",
      "Saved NetCDF!\n",
      "Working on Time=81 Ma\n",
      "Saved NetCDF!\n",
      "Working on Time=84 Ma\n",
      "Saved NetCDF!\n",
      "Working on Time=87 Ma\n",
      "Saved NetCDF!\n",
      "Working on Time=90 Ma\n",
      "Saved NetCDF!\n",
      "Working on Time=93 Ma\n",
      "Saved NetCDF!\n",
      "Working on Time=96 Ma\n",
      "Saved NetCDF!\n",
      "Working on Time=99 Ma\n",
      "Saved NetCDF!\n",
      "Working on Time=102 Ma\n",
      "Saved NetCDF!\n",
      "Working on Time=105 Ma\n",
      "Saved NetCDF!\n",
      "Working on Time=108 Ma\n",
      "Saved NetCDF!\n",
      "Working on Time=111 Ma\n",
      "Saved NetCDF!\n",
      "Working on Time=114 Ma\n",
      "Saved NetCDF!\n",
      "Working on Time=117 Ma\n",
      "Saved NetCDF!\n",
      "Working on Time=120 Ma\n",
      "Saved NetCDF!\n",
      "Working on Time=123 Ma\n",
      "Saved NetCDF!\n",
      "Working on Time=126 Ma\n",
      "Saved NetCDF!\n",
      "Working on Time=129 Ma\n",
      "Saved NetCDF!\n",
      "Working on Time=132 Ma\n",
      "Saved NetCDF!\n",
      "Working on Time=135 Ma\n",
      "Saved NetCDF!\n",
      "Working on Time=138 Ma\n",
      "Saved NetCDF!\n",
      "Working on Time=141 Ma\n",
      "Saved NetCDF!\n",
      "Working on Time=144 Ma\n",
      "Saved NetCDF!\n",
      "Working on Time=147 Ma\n",
      "Saved NetCDF!\n",
      "Working on Time=150 Ma\n",
      "Saved NetCDF!\n",
      "Working on Time=153 Ma\n",
      "Saved NetCDF!\n",
      "Working on Time=156 Ma\n",
      "Saved NetCDF!\n",
      "Working on Time=159 Ma\n",
      "Saved NetCDF!\n",
      "Working on Time=162 Ma\n",
      "Saved NetCDF!\n",
      "Working on Time=165 Ma\n",
      "Saved NetCDF!\n",
      "Working on Time=168 Ma\n",
      "Saved NetCDF!\n",
      "Working on Time=171 Ma\n",
      "Saved NetCDF!\n",
      "Working on Time=174 Ma\n",
      "Saved NetCDF!\n",
      "Working on Time=177 Ma\n",
      "Saved NetCDF!\n",
      "Working on Time=180 Ma\n",
      "Saved NetCDF!\n",
      "Working on Time=183 Ma\n",
      "Saved NetCDF!\n",
      "Working on Time=186 Ma\n",
      "Saved NetCDF!\n",
      "Working on Time=189 Ma\n",
      "Saved NetCDF!\n",
      "Working on Time=192 Ma\n",
      "Saved NetCDF!\n",
      "Working on Time=195 Ma\n",
      "Saved NetCDF!\n",
      "Working on Time=198 Ma\n",
      "Saved NetCDF!\n",
      "Working on Time=201 Ma\n",
      "Saved NetCDF!\n",
      "Working on Time=204 Ma\n",
      "Saved NetCDF!\n",
      "Working on Time=207 Ma\n",
      "Saved NetCDF!\n",
      "Working on Time=210 Ma\n",
      "Saved NetCDF!\n",
      "Working on Time=213 Ma\n",
      "Saved NetCDF!\n",
      "Working on Time=216 Ma\n",
      "Saved NetCDF!\n",
      "Working on Time=219 Ma\n",
      "Saved NetCDF!\n",
      "Working on Time=222 Ma\n",
      "Saved NetCDF!\n",
      "Working on Time=225 Ma\n",
      "Saved NetCDF!\n",
      "Working on Time=228 Ma\n",
      "Saved NetCDF!\n",
      "Working on Time=231 Ma\n",
      "Saved NetCDF!\n",
      "Working on Time=234 Ma\n",
      "Saved NetCDF!\n",
      "Working on Time=237 Ma\n",
      "Saved NetCDF!\n",
      "Working on Time=240 Ma\n",
      "Saved NetCDF!\n",
      "Working on Time=243 Ma\n",
      "Saved NetCDF!\n",
      "Working on Time=246 Ma\n",
      "Saved NetCDF!\n",
      "Working on Time=249 Ma\n",
      "Saved NetCDF!\n",
      "Working on Time=252 Ma\n",
      "Saved NetCDF!\n",
      "Working on Time=255 Ma\n",
      "Saved NetCDF!\n",
      "Working on Time=258 Ma\n",
      "Saved NetCDF!\n",
      "Working on Time=261 Ma\n",
      "Saved NetCDF!\n",
      "Working on Time=264 Ma\n",
      "Saved NetCDF!\n",
      "Working on Time=267 Ma\n",
      "Saved NetCDF!\n",
      "Working on Time=270 Ma\n",
      "Saved NetCDF!\n",
      "Working on Time=273 Ma\n",
      "Saved NetCDF!\n",
      "Working on Time=276 Ma\n",
      "Saved NetCDF!\n",
      "Working on Time=279 Ma\n",
      "Saved NetCDF!\n",
      "Working on Time=282 Ma\n",
      "Saved NetCDF!\n",
      "Working on Time=285 Ma\n",
      "Saved NetCDF!\n",
      "Working on Time=288 Ma\n",
      "Saved NetCDF!\n",
      "Working on Time=291 Ma\n",
      "Saved NetCDF!\n",
      "Working on Time=294 Ma\n",
      "Saved NetCDF!\n",
      "Working on Time=297 Ma\n",
      "Saved NetCDF!\n",
      "Working on Time=300 Ma\n",
      "Saved NetCDF!\n",
      "Working on Time=303 Ma\n",
      "Saved NetCDF!\n",
      "Working on Time=306 Ma\n",
      "Saved NetCDF!\n",
      "Working on Time=309 Ma\n",
      "Saved NetCDF!\n",
      "Working on Time=312 Ma\n",
      "Saved NetCDF!\n",
      "Working on Time=315 Ma\n",
      "Saved NetCDF!\n",
      "Working on Time=318 Ma\n",
      "Saved NetCDF!\n",
      "Working on Time=321 Ma\n",
      "Saved NetCDF!\n",
      "Working on Time=324 Ma\n",
      "Saved NetCDF!\n",
      "Working on Time=327 Ma\n",
      "Saved NetCDF!\n",
      "Working on Time=330 Ma\n",
      "Saved NetCDF!\n",
      "Working on Time=333 Ma\n",
      "Saved NetCDF!\n",
      "Working on Time=336 Ma\n",
      "Saved NetCDF!\n",
      "Working on Time=339 Ma\n",
      "Saved NetCDF!\n",
      "Working on Time=342 Ma\n",
      "Saved NetCDF!\n",
      "Working on Time=345 Ma\n",
      "Saved NetCDF!\n",
      "Working on Time=348 Ma\n",
      "Saved NetCDF!\n",
      "Working on Time=351 Ma\n",
      "Saved NetCDF!\n",
      "Working on Time=354 Ma\n",
      "Saved NetCDF!\n",
      "Working on Time=357 Ma\n",
      "Saved NetCDF!\n",
      "Working on Time=360 Ma\n",
      "Saved NetCDF!\n",
      "Working on Time=363 Ma\n",
      "Saved NetCDF!\n",
      "Working on Time=366 Ma\n",
      "Saved NetCDF!\n",
      "Working on Time=369 Ma\n",
      "Saved NetCDF!\n",
      "Working on Time=372 Ma\n",
      "Saved NetCDF!\n",
      "Working on Time=375 Ma\n",
      "Saved NetCDF!\n",
      "Working on Time=378 Ma\n",
      "Saved NetCDF!\n"
     ]
    }
   ],
   "source": [
    "create_directory_if_not_exists(f\"{DEFAULT_OUTPUT_NetCDF}/{ml_model_name}_Model\")\n",
    "\n",
    "compression = {'zlib': ZLIB, 'complevel': COMPLEVEL}\n",
    "for reconstruction_time in all_times:\n",
    "\n",
    "    try:\n",
    "        print(f\"Working on Time={reconstruction_time} Ma\")\n",
    "        Data=pd.read_parquet(f'{DEFAULT_OUTPUT_CSV}/Prediction/Predicted_{MODEL_NAME}_{reconstruction_time}Ma.parquet')\n",
    "        column_for_netcdf1=f\"Elevation{ml_model_name}\"\n",
    "    \n",
    "        if compression:\n",
    "            encoding = {column_for_netcdf1: compression}\n",
    "        else:\n",
    "            encoding = None\n",
    "        \n",
    "        da = df_to_NetCDF(x=Data['Longitude'], y=Data['Latitude'], z=Data[column_for_netcdf1], statistic='mean', grid_resolution=0.1, clip=(None, None))\n",
    "        ds=da.to_dataset(name=column_for_netcdf1)\n",
    "        ds.to_netcdf(f'{DEFAULT_OUTPUT_NetCDF}/{ml_model_name}_Model/{ml_model_name}_Model_{MODEL_NAME}_{reconstruction_time}.nc',encoding=encoding)\n",
    "        \n",
    "        print(\"Saved NetCDF!\")\n",
    "    except Exception as e:\n",
    "        print(e)"
   ]
  },
  {
   "cell_type": "code",
   "execution_count": null,
   "id": "ce062b18-5ee7-4682-944d-ce05d60107f0",
   "metadata": {},
   "outputs": [],
   "source": [
    "# create_directory_if_not_exists(f\"{DEFAULT_OUTPUT_NetCDF}/RFC_Model\")\n",
    "\n",
    "# compression = {'zlib': ZLIB, 'complevel': COMPLEVEL}\n",
    "# for reconstruction_time in all_times:\n",
    "\n",
    "#     try:\n",
    "#         print(f\"Working on Time={reconstruction_time} Ma\")\n",
    "#         Data=pd.read_parquet(f'{DEFAULT_OUTPUT_CSV}/Prediction/Predicted_{MODEL_NAME}_{reconstruction_time}Ma.parquet')\n",
    "#         column_for_netcdf1=\"ElevationRFC\"\n",
    "    \n",
    "#         if compression:\n",
    "#             encoding = {column_for_netcdf1: compression}\n",
    "#         else:\n",
    "#             encoding = None\n",
    "        \n",
    "#         da = df_to_NetCDF(x=Data['Longitude'], y=Data['Latitude'], z=Data[column_for_netcdf1], statistic='mean', grid_resolution=0.1, clip=(None, None))\n",
    "#         ds=da.to_dataset(name=column_for_netcdf1)\n",
    "#         ds.to_netcdf(f'{DEFAULT_OUTPUT_NetCDF}/RFC_Model/RFC_Model_{MODEL_NAME}_{reconstruction_time}.nc',encoding=encoding)\n",
    "        \n",
    "#         print(\"Saved NetCDF!\")\n",
    "#     except Exception as e:\n",
    "#         print(e)"
   ]
  },
  {
   "cell_type": "code",
   "execution_count": null,
   "id": "04c022eb-7f17-4cab-9f7f-79e178d27ff7",
   "metadata": {},
   "outputs": [],
   "source": [
    "create_directory_if_not_exists(f\"{DEFAULT_OUTPUT_NetCDF}/RF_Model\")\n",
    "\n",
    "compression = {'zlib': ZLIB, 'complevel': COMPLEVEL}\n",
    "for reconstruction_time in all_times:\n",
    "\n",
    "    try:\n",
    "        print(f\"Working on Time={reconstruction_time} Ma\")\n",
    "        Data=pd.read_parquet(f'{DEFAULT_OUTPUT_CSV}/Prediction/Predicted_{MODEL_NAME}_{reconstruction_time}Ma.parquet')\n",
    "        column_for_netcdf1=\"ElevationRF\"\n",
    "    \n",
    "        if compression:\n",
    "            encoding = {column_for_netcdf1: compression}\n",
    "        else:\n",
    "            encoding = None\n",
    "        \n",
    "        da = df_to_NetCDF(x=Data['Longitude'], y=Data['Latitude'], z=Data[column_for_netcdf1], statistic='mean', grid_resolution=0.1, clip=(None, None))\n",
    "        ds=da.to_dataset(name=column_for_netcdf1)\n",
    "        ds.to_netcdf(f'{DEFAULT_OUTPUT_NetCDF}/RF_Model/RF_Model_{MODEL_NAME}_{reconstruction_time}.nc',encoding=encoding)\n",
    "        \n",
    "        print(\"Saved NetCDF!\")\n",
    "    except Exception as e:\n",
    "        print(e)"
   ]
  },
  {
   "cell_type": "markdown",
   "id": "d4d4c49e-505a-4252-b9c4-acf514aa711a",
   "metadata": {},
   "source": [
    "# Post Processing Grids"
   ]
  },
  {
   "cell_type": "code",
   "execution_count": 24,
   "id": "4cdc7d8d-3e8b-4933-a347-24f149ed07e3",
   "metadata": {},
   "outputs": [
    {
     "name": "stdout",
     "output_type": "stream",
     "text": [
      "Created directory: /Volumes/Satyam/PaleotopographyFinal/NetCDF/25_processed/RFC_Model\n",
      "Post-processing grid =0 Ma\n"
     ]
    },
    {
     "name": "stderr",
     "output_type": "stream",
     "text": [
      "SettingWithCopyWarning: \n",
      "A value is trying to be set on a copy of a slice from a DataFrame.\n",
      "Try using .loc[row_indexer,col_indexer] = value instead\n",
      "\n",
      "See the caveats in the documentation: https://pandas.pydata.org/pandas-docs/stable/user_guide/indexing.html#returning-a-view-versus-a-copy\n"
     ]
    },
    {
     "name": "stdout",
     "output_type": "stream",
     "text": [
      "Interpolated 339085 points\n",
      "Saved!\n",
      "Post-processing grid =3 Ma\n"
     ]
    },
    {
     "name": "stderr",
     "output_type": "stream",
     "text": [
      "SettingWithCopyWarning: \n",
      "A value is trying to be set on a copy of a slice from a DataFrame.\n",
      "Try using .loc[row_indexer,col_indexer] = value instead\n",
      "\n",
      "See the caveats in the documentation: https://pandas.pydata.org/pandas-docs/stable/user_guide/indexing.html#returning-a-view-versus-a-copy\n"
     ]
    },
    {
     "name": "stdout",
     "output_type": "stream",
     "text": [
      "Interpolated 345664 points\n",
      "Saved!\n",
      "Post-processing grid =6 Ma\n"
     ]
    },
    {
     "name": "stderr",
     "output_type": "stream",
     "text": [
      "SettingWithCopyWarning: \n",
      "A value is trying to be set on a copy of a slice from a DataFrame.\n",
      "Try using .loc[row_indexer,col_indexer] = value instead\n",
      "\n",
      "See the caveats in the documentation: https://pandas.pydata.org/pandas-docs/stable/user_guide/indexing.html#returning-a-view-versus-a-copy\n"
     ]
    },
    {
     "name": "stdout",
     "output_type": "stream",
     "text": [
      "Interpolated 439099 points\n",
      "Saved!\n",
      "Post-processing grid =9 Ma\n"
     ]
    },
    {
     "name": "stderr",
     "output_type": "stream",
     "text": [
      "SettingWithCopyWarning: \n",
      "A value is trying to be set on a copy of a slice from a DataFrame.\n",
      "Try using .loc[row_indexer,col_indexer] = value instead\n",
      "\n",
      "See the caveats in the documentation: https://pandas.pydata.org/pandas-docs/stable/user_guide/indexing.html#returning-a-view-versus-a-copy\n"
     ]
    },
    {
     "name": "stdout",
     "output_type": "stream",
     "text": [
      "Interpolated 441787 points\n",
      "Saved!\n",
      "Post-processing grid =12 Ma\n"
     ]
    },
    {
     "name": "stderr",
     "output_type": "stream",
     "text": [
      "SettingWithCopyWarning: \n",
      "A value is trying to be set on a copy of a slice from a DataFrame.\n",
      "Try using .loc[row_indexer,col_indexer] = value instead\n",
      "\n",
      "See the caveats in the documentation: https://pandas.pydata.org/pandas-docs/stable/user_guide/indexing.html#returning-a-view-versus-a-copy\n"
     ]
    },
    {
     "name": "stdout",
     "output_type": "stream",
     "text": [
      "Interpolated 449413 points\n",
      "Saved!\n",
      "Post-processing grid =15 Ma\n"
     ]
    },
    {
     "name": "stderr",
     "output_type": "stream",
     "text": [
      "SettingWithCopyWarning: \n",
      "A value is trying to be set on a copy of a slice from a DataFrame.\n",
      "Try using .loc[row_indexer,col_indexer] = value instead\n",
      "\n",
      "See the caveats in the documentation: https://pandas.pydata.org/pandas-docs/stable/user_guide/indexing.html#returning-a-view-versus-a-copy\n"
     ]
    },
    {
     "name": "stdout",
     "output_type": "stream",
     "text": [
      "Interpolated 494525 points\n",
      "Saved!\n",
      "Post-processing grid =18 Ma\n"
     ]
    },
    {
     "name": "stderr",
     "output_type": "stream",
     "text": [
      "SettingWithCopyWarning: \n",
      "A value is trying to be set on a copy of a slice from a DataFrame.\n",
      "Try using .loc[row_indexer,col_indexer] = value instead\n",
      "\n",
      "See the caveats in the documentation: https://pandas.pydata.org/pandas-docs/stable/user_guide/indexing.html#returning-a-view-versus-a-copy\n"
     ]
    },
    {
     "name": "stdout",
     "output_type": "stream",
     "text": [
      "Interpolated 519461 points\n",
      "Saved!\n",
      "Post-processing grid =21 Ma\n"
     ]
    },
    {
     "name": "stderr",
     "output_type": "stream",
     "text": [
      "SettingWithCopyWarning: \n",
      "A value is trying to be set on a copy of a slice from a DataFrame.\n",
      "Try using .loc[row_indexer,col_indexer] = value instead\n",
      "\n",
      "See the caveats in the documentation: https://pandas.pydata.org/pandas-docs/stable/user_guide/indexing.html#returning-a-view-versus-a-copy\n"
     ]
    },
    {
     "name": "stdout",
     "output_type": "stream",
     "text": [
      "Interpolated 520959 points\n",
      "Saved!\n",
      "Post-processing grid =24 Ma\n"
     ]
    },
    {
     "name": "stderr",
     "output_type": "stream",
     "text": [
      "SettingWithCopyWarning: \n",
      "A value is trying to be set on a copy of a slice from a DataFrame.\n",
      "Try using .loc[row_indexer,col_indexer] = value instead\n",
      "\n",
      "See the caveats in the documentation: https://pandas.pydata.org/pandas-docs/stable/user_guide/indexing.html#returning-a-view-versus-a-copy\n"
     ]
    },
    {
     "name": "stdout",
     "output_type": "stream",
     "text": [
      "Interpolated 520175 points\n",
      "Saved!\n",
      "Post-processing grid =27 Ma\n"
     ]
    },
    {
     "name": "stderr",
     "output_type": "stream",
     "text": [
      "SettingWithCopyWarning: \n",
      "A value is trying to be set on a copy of a slice from a DataFrame.\n",
      "Try using .loc[row_indexer,col_indexer] = value instead\n",
      "\n",
      "See the caveats in the documentation: https://pandas.pydata.org/pandas-docs/stable/user_guide/indexing.html#returning-a-view-versus-a-copy\n"
     ]
    },
    {
     "name": "stdout",
     "output_type": "stream",
     "text": [
      "Interpolated 477170 points\n",
      "Saved!\n",
      "Post-processing grid =30 Ma\n"
     ]
    },
    {
     "name": "stderr",
     "output_type": "stream",
     "text": [
      "SettingWithCopyWarning: \n",
      "A value is trying to be set on a copy of a slice from a DataFrame.\n",
      "Try using .loc[row_indexer,col_indexer] = value instead\n",
      "\n",
      "See the caveats in the documentation: https://pandas.pydata.org/pandas-docs/stable/user_guide/indexing.html#returning-a-view-versus-a-copy\n"
     ]
    },
    {
     "name": "stdout",
     "output_type": "stream",
     "text": [
      "Interpolated 475125 points\n",
      "Saved!\n",
      "Post-processing grid =33 Ma\n"
     ]
    },
    {
     "name": "stderr",
     "output_type": "stream",
     "text": [
      "SettingWithCopyWarning: \n",
      "A value is trying to be set on a copy of a slice from a DataFrame.\n",
      "Try using .loc[row_indexer,col_indexer] = value instead\n",
      "\n",
      "See the caveats in the documentation: https://pandas.pydata.org/pandas-docs/stable/user_guide/indexing.html#returning-a-view-versus-a-copy\n"
     ]
    },
    {
     "name": "stdout",
     "output_type": "stream",
     "text": [
      "Interpolated 504013 points\n",
      "Saved!\n",
      "Post-processing grid =36 Ma\n"
     ]
    },
    {
     "name": "stderr",
     "output_type": "stream",
     "text": [
      "SettingWithCopyWarning: \n",
      "A value is trying to be set on a copy of a slice from a DataFrame.\n",
      "Try using .loc[row_indexer,col_indexer] = value instead\n",
      "\n",
      "See the caveats in the documentation: https://pandas.pydata.org/pandas-docs/stable/user_guide/indexing.html#returning-a-view-versus-a-copy\n"
     ]
    },
    {
     "name": "stdout",
     "output_type": "stream",
     "text": [
      "Interpolated 524216 points\n",
      "Saved!\n",
      "Post-processing grid =39 Ma\n"
     ]
    },
    {
     "name": "stderr",
     "output_type": "stream",
     "text": [
      "SettingWithCopyWarning: \n",
      "A value is trying to be set on a copy of a slice from a DataFrame.\n",
      "Try using .loc[row_indexer,col_indexer] = value instead\n",
      "\n",
      "See the caveats in the documentation: https://pandas.pydata.org/pandas-docs/stable/user_guide/indexing.html#returning-a-view-versus-a-copy\n"
     ]
    },
    {
     "name": "stdout",
     "output_type": "stream",
     "text": [
      "Interpolated 517506 points\n",
      "Saved!\n",
      "Post-processing grid =42 Ma\n"
     ]
    },
    {
     "name": "stderr",
     "output_type": "stream",
     "text": [
      "SettingWithCopyWarning: \n",
      "A value is trying to be set on a copy of a slice from a DataFrame.\n",
      "Try using .loc[row_indexer,col_indexer] = value instead\n",
      "\n",
      "See the caveats in the documentation: https://pandas.pydata.org/pandas-docs/stable/user_guide/indexing.html#returning-a-view-versus-a-copy\n"
     ]
    },
    {
     "name": "stdout",
     "output_type": "stream",
     "text": [
      "Interpolated 501856 points\n",
      "Saved!\n",
      "Post-processing grid =45 Ma\n"
     ]
    },
    {
     "name": "stderr",
     "output_type": "stream",
     "text": [
      "SettingWithCopyWarning: \n",
      "A value is trying to be set on a copy of a slice from a DataFrame.\n",
      "Try using .loc[row_indexer,col_indexer] = value instead\n",
      "\n",
      "See the caveats in the documentation: https://pandas.pydata.org/pandas-docs/stable/user_guide/indexing.html#returning-a-view-versus-a-copy\n"
     ]
    },
    {
     "name": "stdout",
     "output_type": "stream",
     "text": [
      "Interpolated 487559 points\n",
      "Saved!\n",
      "Post-processing grid =48 Ma\n"
     ]
    },
    {
     "name": "stderr",
     "output_type": "stream",
     "text": [
      "SettingWithCopyWarning: \n",
      "A value is trying to be set on a copy of a slice from a DataFrame.\n",
      "Try using .loc[row_indexer,col_indexer] = value instead\n",
      "\n",
      "See the caveats in the documentation: https://pandas.pydata.org/pandas-docs/stable/user_guide/indexing.html#returning-a-view-versus-a-copy\n"
     ]
    },
    {
     "name": "stdout",
     "output_type": "stream",
     "text": [
      "Interpolated 470653 points\n",
      "Saved!\n",
      "Post-processing grid =51 Ma\n"
     ]
    },
    {
     "name": "stderr",
     "output_type": "stream",
     "text": [
      "SettingWithCopyWarning: \n",
      "A value is trying to be set on a copy of a slice from a DataFrame.\n",
      "Try using .loc[row_indexer,col_indexer] = value instead\n",
      "\n",
      "See the caveats in the documentation: https://pandas.pydata.org/pandas-docs/stable/user_guide/indexing.html#returning-a-view-versus-a-copy\n"
     ]
    },
    {
     "name": "stdout",
     "output_type": "stream",
     "text": [
      "Interpolated 561000 points\n",
      "Saved!\n",
      "Post-processing grid =54 Ma\n"
     ]
    },
    {
     "name": "stderr",
     "output_type": "stream",
     "text": [
      "SettingWithCopyWarning: \n",
      "A value is trying to be set on a copy of a slice from a DataFrame.\n",
      "Try using .loc[row_indexer,col_indexer] = value instead\n",
      "\n",
      "See the caveats in the documentation: https://pandas.pydata.org/pandas-docs/stable/user_guide/indexing.html#returning-a-view-versus-a-copy\n"
     ]
    },
    {
     "name": "stdout",
     "output_type": "stream",
     "text": [
      "Interpolated 609237 points\n",
      "Saved!\n",
      "Post-processing grid =57 Ma\n"
     ]
    },
    {
     "name": "stderr",
     "output_type": "stream",
     "text": [
      "SettingWithCopyWarning: \n",
      "A value is trying to be set on a copy of a slice from a DataFrame.\n",
      "Try using .loc[row_indexer,col_indexer] = value instead\n",
      "\n",
      "See the caveats in the documentation: https://pandas.pydata.org/pandas-docs/stable/user_guide/indexing.html#returning-a-view-versus-a-copy\n"
     ]
    },
    {
     "name": "stdout",
     "output_type": "stream",
     "text": [
      "Interpolated 590315 points\n",
      "Saved!\n",
      "Post-processing grid =60 Ma\n"
     ]
    },
    {
     "name": "stderr",
     "output_type": "stream",
     "text": [
      "SettingWithCopyWarning: \n",
      "A value is trying to be set on a copy of a slice from a DataFrame.\n",
      "Try using .loc[row_indexer,col_indexer] = value instead\n",
      "\n",
      "See the caveats in the documentation: https://pandas.pydata.org/pandas-docs/stable/user_guide/indexing.html#returning-a-view-versus-a-copy\n"
     ]
    },
    {
     "name": "stdout",
     "output_type": "stream",
     "text": [
      "Interpolated 586869 points\n",
      "Saved!\n",
      "Post-processing grid =63 Ma\n"
     ]
    },
    {
     "name": "stderr",
     "output_type": "stream",
     "text": [
      "SettingWithCopyWarning: \n",
      "A value is trying to be set on a copy of a slice from a DataFrame.\n",
      "Try using .loc[row_indexer,col_indexer] = value instead\n",
      "\n",
      "See the caveats in the documentation: https://pandas.pydata.org/pandas-docs/stable/user_guide/indexing.html#returning-a-view-versus-a-copy\n"
     ]
    },
    {
     "name": "stdout",
     "output_type": "stream",
     "text": [
      "Interpolated 553406 points\n",
      "Saved!\n",
      "Post-processing grid =66 Ma\n"
     ]
    },
    {
     "name": "stderr",
     "output_type": "stream",
     "text": [
      "SettingWithCopyWarning: \n",
      "A value is trying to be set on a copy of a slice from a DataFrame.\n",
      "Try using .loc[row_indexer,col_indexer] = value instead\n",
      "\n",
      "See the caveats in the documentation: https://pandas.pydata.org/pandas-docs/stable/user_guide/indexing.html#returning-a-view-versus-a-copy\n"
     ]
    },
    {
     "name": "stdout",
     "output_type": "stream",
     "text": [
      "Interpolated 568500 points\n",
      "Saved!\n",
      "Post-processing grid =69 Ma\n"
     ]
    },
    {
     "name": "stderr",
     "output_type": "stream",
     "text": [
      "SettingWithCopyWarning: \n",
      "A value is trying to be set on a copy of a slice from a DataFrame.\n",
      "Try using .loc[row_indexer,col_indexer] = value instead\n",
      "\n",
      "See the caveats in the documentation: https://pandas.pydata.org/pandas-docs/stable/user_guide/indexing.html#returning-a-view-versus-a-copy\n"
     ]
    },
    {
     "name": "stdout",
     "output_type": "stream",
     "text": [
      "Interpolated 510890 points\n",
      "Saved!\n",
      "Post-processing grid =72 Ma\n"
     ]
    },
    {
     "name": "stderr",
     "output_type": "stream",
     "text": [
      "SettingWithCopyWarning: \n",
      "A value is trying to be set on a copy of a slice from a DataFrame.\n",
      "Try using .loc[row_indexer,col_indexer] = value instead\n",
      "\n",
      "See the caveats in the documentation: https://pandas.pydata.org/pandas-docs/stable/user_guide/indexing.html#returning-a-view-versus-a-copy\n"
     ]
    },
    {
     "name": "stdout",
     "output_type": "stream",
     "text": [
      "Interpolated 486784 points\n",
      "Saved!\n",
      "Post-processing grid =75 Ma\n"
     ]
    },
    {
     "name": "stderr",
     "output_type": "stream",
     "text": [
      "SettingWithCopyWarning: \n",
      "A value is trying to be set on a copy of a slice from a DataFrame.\n",
      "Try using .loc[row_indexer,col_indexer] = value instead\n",
      "\n",
      "See the caveats in the documentation: https://pandas.pydata.org/pandas-docs/stable/user_guide/indexing.html#returning-a-view-versus-a-copy\n"
     ]
    },
    {
     "name": "stdout",
     "output_type": "stream",
     "text": [
      "Interpolated 487839 points\n",
      "Saved!\n",
      "Post-processing grid =78 Ma\n"
     ]
    },
    {
     "name": "stderr",
     "output_type": "stream",
     "text": [
      "SettingWithCopyWarning: \n",
      "A value is trying to be set on a copy of a slice from a DataFrame.\n",
      "Try using .loc[row_indexer,col_indexer] = value instead\n",
      "\n",
      "See the caveats in the documentation: https://pandas.pydata.org/pandas-docs/stable/user_guide/indexing.html#returning-a-view-versus-a-copy\n"
     ]
    },
    {
     "name": "stdout",
     "output_type": "stream",
     "text": [
      "Interpolated 508109 points\n",
      "Saved!\n",
      "Post-processing grid =81 Ma\n"
     ]
    },
    {
     "name": "stderr",
     "output_type": "stream",
     "text": [
      "SettingWithCopyWarning: \n",
      "A value is trying to be set on a copy of a slice from a DataFrame.\n",
      "Try using .loc[row_indexer,col_indexer] = value instead\n",
      "\n",
      "See the caveats in the documentation: https://pandas.pydata.org/pandas-docs/stable/user_guide/indexing.html#returning-a-view-versus-a-copy\n"
     ]
    },
    {
     "name": "stdout",
     "output_type": "stream",
     "text": [
      "Interpolated 499310 points\n",
      "Saved!\n",
      "Post-processing grid =84 Ma\n"
     ]
    },
    {
     "name": "stderr",
     "output_type": "stream",
     "text": [
      "SettingWithCopyWarning: \n",
      "A value is trying to be set on a copy of a slice from a DataFrame.\n",
      "Try using .loc[row_indexer,col_indexer] = value instead\n",
      "\n",
      "See the caveats in the documentation: https://pandas.pydata.org/pandas-docs/stable/user_guide/indexing.html#returning-a-view-versus-a-copy\n"
     ]
    },
    {
     "name": "stdout",
     "output_type": "stream",
     "text": [
      "Interpolated 580263 points\n",
      "Saved!\n",
      "Post-processing grid =87 Ma\n"
     ]
    },
    {
     "name": "stderr",
     "output_type": "stream",
     "text": [
      "SettingWithCopyWarning: \n",
      "A value is trying to be set on a copy of a slice from a DataFrame.\n",
      "Try using .loc[row_indexer,col_indexer] = value instead\n",
      "\n",
      "See the caveats in the documentation: https://pandas.pydata.org/pandas-docs/stable/user_guide/indexing.html#returning-a-view-versus-a-copy\n"
     ]
    },
    {
     "name": "stdout",
     "output_type": "stream",
     "text": [
      "Interpolated 676160 points\n",
      "Saved!\n",
      "Post-processing grid =90 Ma\n"
     ]
    },
    {
     "name": "stderr",
     "output_type": "stream",
     "text": [
      "SettingWithCopyWarning: \n",
      "A value is trying to be set on a copy of a slice from a DataFrame.\n",
      "Try using .loc[row_indexer,col_indexer] = value instead\n",
      "\n",
      "See the caveats in the documentation: https://pandas.pydata.org/pandas-docs/stable/user_guide/indexing.html#returning-a-view-versus-a-copy\n"
     ]
    },
    {
     "name": "stdout",
     "output_type": "stream",
     "text": [
      "Interpolated 649658 points\n",
      "Saved!\n",
      "Post-processing grid =93 Ma\n"
     ]
    },
    {
     "name": "stderr",
     "output_type": "stream",
     "text": [
      "SettingWithCopyWarning: \n",
      "A value is trying to be set on a copy of a slice from a DataFrame.\n",
      "Try using .loc[row_indexer,col_indexer] = value instead\n",
      "\n",
      "See the caveats in the documentation: https://pandas.pydata.org/pandas-docs/stable/user_guide/indexing.html#returning-a-view-versus-a-copy\n"
     ]
    },
    {
     "name": "stdout",
     "output_type": "stream",
     "text": [
      "Interpolated 633809 points\n",
      "Saved!\n",
      "Post-processing grid =96 Ma\n"
     ]
    },
    {
     "name": "stderr",
     "output_type": "stream",
     "text": [
      "SettingWithCopyWarning: \n",
      "A value is trying to be set on a copy of a slice from a DataFrame.\n",
      "Try using .loc[row_indexer,col_indexer] = value instead\n",
      "\n",
      "See the caveats in the documentation: https://pandas.pydata.org/pandas-docs/stable/user_guide/indexing.html#returning-a-view-versus-a-copy\n"
     ]
    },
    {
     "name": "stdout",
     "output_type": "stream",
     "text": [
      "Interpolated 622140 points\n",
      "Saved!\n",
      "Post-processing grid =99 Ma\n"
     ]
    },
    {
     "name": "stderr",
     "output_type": "stream",
     "text": [
      "SettingWithCopyWarning: \n",
      "A value is trying to be set on a copy of a slice from a DataFrame.\n",
      "Try using .loc[row_indexer,col_indexer] = value instead\n",
      "\n",
      "See the caveats in the documentation: https://pandas.pydata.org/pandas-docs/stable/user_guide/indexing.html#returning-a-view-versus-a-copy\n"
     ]
    },
    {
     "name": "stdout",
     "output_type": "stream",
     "text": [
      "Interpolated 611484 points\n",
      "Saved!\n",
      "Post-processing grid =102 Ma\n"
     ]
    },
    {
     "name": "stderr",
     "output_type": "stream",
     "text": [
      "SettingWithCopyWarning: \n",
      "A value is trying to be set on a copy of a slice from a DataFrame.\n",
      "Try using .loc[row_indexer,col_indexer] = value instead\n",
      "\n",
      "See the caveats in the documentation: https://pandas.pydata.org/pandas-docs/stable/user_guide/indexing.html#returning-a-view-versus-a-copy\n"
     ]
    },
    {
     "name": "stdout",
     "output_type": "stream",
     "text": [
      "Interpolated 627596 points\n",
      "Saved!\n",
      "Post-processing grid =105 Ma\n"
     ]
    },
    {
     "name": "stderr",
     "output_type": "stream",
     "text": [
      "SettingWithCopyWarning: \n",
      "A value is trying to be set on a copy of a slice from a DataFrame.\n",
      "Try using .loc[row_indexer,col_indexer] = value instead\n",
      "\n",
      "See the caveats in the documentation: https://pandas.pydata.org/pandas-docs/stable/user_guide/indexing.html#returning-a-view-versus-a-copy\n"
     ]
    },
    {
     "name": "stdout",
     "output_type": "stream",
     "text": [
      "Interpolated 642883 points\n",
      "Saved!\n",
      "Post-processing grid =108 Ma\n"
     ]
    },
    {
     "name": "stderr",
     "output_type": "stream",
     "text": [
      "SettingWithCopyWarning: \n",
      "A value is trying to be set on a copy of a slice from a DataFrame.\n",
      "Try using .loc[row_indexer,col_indexer] = value instead\n",
      "\n",
      "See the caveats in the documentation: https://pandas.pydata.org/pandas-docs/stable/user_guide/indexing.html#returning-a-view-versus-a-copy\n"
     ]
    },
    {
     "name": "stdout",
     "output_type": "stream",
     "text": [
      "Interpolated 641127 points\n",
      "Saved!\n",
      "Post-processing grid =111 Ma\n"
     ]
    },
    {
     "name": "stderr",
     "output_type": "stream",
     "text": [
      "SettingWithCopyWarning: \n",
      "A value is trying to be set on a copy of a slice from a DataFrame.\n",
      "Try using .loc[row_indexer,col_indexer] = value instead\n",
      "\n",
      "See the caveats in the documentation: https://pandas.pydata.org/pandas-docs/stable/user_guide/indexing.html#returning-a-view-versus-a-copy\n"
     ]
    },
    {
     "name": "stdout",
     "output_type": "stream",
     "text": [
      "Interpolated 656057 points\n",
      "Saved!\n",
      "Post-processing grid =114 Ma\n"
     ]
    },
    {
     "name": "stderr",
     "output_type": "stream",
     "text": [
      "SettingWithCopyWarning: \n",
      "A value is trying to be set on a copy of a slice from a DataFrame.\n",
      "Try using .loc[row_indexer,col_indexer] = value instead\n",
      "\n",
      "See the caveats in the documentation: https://pandas.pydata.org/pandas-docs/stable/user_guide/indexing.html#returning-a-view-versus-a-copy\n"
     ]
    },
    {
     "name": "stdout",
     "output_type": "stream",
     "text": [
      "Interpolated 658699 points\n",
      "Saved!\n",
      "Post-processing grid =117 Ma\n"
     ]
    },
    {
     "name": "stderr",
     "output_type": "stream",
     "text": [
      "SettingWithCopyWarning: \n",
      "A value is trying to be set on a copy of a slice from a DataFrame.\n",
      "Try using .loc[row_indexer,col_indexer] = value instead\n",
      "\n",
      "See the caveats in the documentation: https://pandas.pydata.org/pandas-docs/stable/user_guide/indexing.html#returning-a-view-versus-a-copy\n"
     ]
    },
    {
     "name": "stdout",
     "output_type": "stream",
     "text": [
      "Interpolated 630866 points\n",
      "Saved!\n",
      "Post-processing grid =120 Ma\n"
     ]
    },
    {
     "name": "stderr",
     "output_type": "stream",
     "text": [
      "SettingWithCopyWarning: \n",
      "A value is trying to be set on a copy of a slice from a DataFrame.\n",
      "Try using .loc[row_indexer,col_indexer] = value instead\n",
      "\n",
      "See the caveats in the documentation: https://pandas.pydata.org/pandas-docs/stable/user_guide/indexing.html#returning-a-view-versus-a-copy\n"
     ]
    },
    {
     "name": "stdout",
     "output_type": "stream",
     "text": [
      "Interpolated 621881 points\n",
      "Saved!\n",
      "Post-processing grid =123 Ma\n"
     ]
    },
    {
     "name": "stderr",
     "output_type": "stream",
     "text": [
      "SettingWithCopyWarning: \n",
      "A value is trying to be set on a copy of a slice from a DataFrame.\n",
      "Try using .loc[row_indexer,col_indexer] = value instead\n",
      "\n",
      "See the caveats in the documentation: https://pandas.pydata.org/pandas-docs/stable/user_guide/indexing.html#returning-a-view-versus-a-copy\n"
     ]
    },
    {
     "name": "stdout",
     "output_type": "stream",
     "text": [
      "Interpolated 666571 points\n",
      "Saved!\n",
      "Post-processing grid =126 Ma\n"
     ]
    },
    {
     "name": "stderr",
     "output_type": "stream",
     "text": [
      "SettingWithCopyWarning: \n",
      "A value is trying to be set on a copy of a slice from a DataFrame.\n",
      "Try using .loc[row_indexer,col_indexer] = value instead\n",
      "\n",
      "See the caveats in the documentation: https://pandas.pydata.org/pandas-docs/stable/user_guide/indexing.html#returning-a-view-versus-a-copy\n"
     ]
    },
    {
     "name": "stdout",
     "output_type": "stream",
     "text": [
      "Interpolated 654696 points\n",
      "Saved!\n",
      "Post-processing grid =129 Ma\n"
     ]
    },
    {
     "name": "stderr",
     "output_type": "stream",
     "text": [
      "SettingWithCopyWarning: \n",
      "A value is trying to be set on a copy of a slice from a DataFrame.\n",
      "Try using .loc[row_indexer,col_indexer] = value instead\n",
      "\n",
      "See the caveats in the documentation: https://pandas.pydata.org/pandas-docs/stable/user_guide/indexing.html#returning-a-view-versus-a-copy\n"
     ]
    },
    {
     "name": "stdout",
     "output_type": "stream",
     "text": [
      "Interpolated 681711 points\n",
      "Saved!\n",
      "Post-processing grid =132 Ma\n"
     ]
    },
    {
     "name": "stderr",
     "output_type": "stream",
     "text": [
      "SettingWithCopyWarning: \n",
      "A value is trying to be set on a copy of a slice from a DataFrame.\n",
      "Try using .loc[row_indexer,col_indexer] = value instead\n",
      "\n",
      "See the caveats in the documentation: https://pandas.pydata.org/pandas-docs/stable/user_guide/indexing.html#returning-a-view-versus-a-copy\n"
     ]
    },
    {
     "name": "stdout",
     "output_type": "stream",
     "text": [
      "Interpolated 644570 points\n",
      "Saved!\n",
      "Post-processing grid =135 Ma\n"
     ]
    },
    {
     "name": "stderr",
     "output_type": "stream",
     "text": [
      "SettingWithCopyWarning: \n",
      "A value is trying to be set on a copy of a slice from a DataFrame.\n",
      "Try using .loc[row_indexer,col_indexer] = value instead\n",
      "\n",
      "See the caveats in the documentation: https://pandas.pydata.org/pandas-docs/stable/user_guide/indexing.html#returning-a-view-versus-a-copy\n"
     ]
    },
    {
     "name": "stdout",
     "output_type": "stream",
     "text": [
      "Interpolated 628633 points\n",
      "Saved!\n",
      "Post-processing grid =138 Ma\n"
     ]
    },
    {
     "name": "stderr",
     "output_type": "stream",
     "text": [
      "SettingWithCopyWarning: \n",
      "A value is trying to be set on a copy of a slice from a DataFrame.\n",
      "Try using .loc[row_indexer,col_indexer] = value instead\n",
      "\n",
      "See the caveats in the documentation: https://pandas.pydata.org/pandas-docs/stable/user_guide/indexing.html#returning-a-view-versus-a-copy\n"
     ]
    },
    {
     "name": "stdout",
     "output_type": "stream",
     "text": [
      "Interpolated 625734 points\n",
      "Saved!\n",
      "Post-processing grid =141 Ma\n"
     ]
    },
    {
     "name": "stderr",
     "output_type": "stream",
     "text": [
      "SettingWithCopyWarning: \n",
      "A value is trying to be set on a copy of a slice from a DataFrame.\n",
      "Try using .loc[row_indexer,col_indexer] = value instead\n",
      "\n",
      "See the caveats in the documentation: https://pandas.pydata.org/pandas-docs/stable/user_guide/indexing.html#returning-a-view-versus-a-copy\n"
     ]
    },
    {
     "name": "stdout",
     "output_type": "stream",
     "text": [
      "Interpolated 663144 points\n",
      "Saved!\n",
      "Post-processing grid =144 Ma\n"
     ]
    },
    {
     "name": "stderr",
     "output_type": "stream",
     "text": [
      "SettingWithCopyWarning: \n",
      "A value is trying to be set on a copy of a slice from a DataFrame.\n",
      "Try using .loc[row_indexer,col_indexer] = value instead\n",
      "\n",
      "See the caveats in the documentation: https://pandas.pydata.org/pandas-docs/stable/user_guide/indexing.html#returning-a-view-versus-a-copy\n"
     ]
    },
    {
     "name": "stdout",
     "output_type": "stream",
     "text": [
      "Interpolated 652359 points\n",
      "Saved!\n",
      "Post-processing grid =147 Ma\n"
     ]
    },
    {
     "name": "stderr",
     "output_type": "stream",
     "text": [
      "SettingWithCopyWarning: \n",
      "A value is trying to be set on a copy of a slice from a DataFrame.\n",
      "Try using .loc[row_indexer,col_indexer] = value instead\n",
      "\n",
      "See the caveats in the documentation: https://pandas.pydata.org/pandas-docs/stable/user_guide/indexing.html#returning-a-view-versus-a-copy\n"
     ]
    },
    {
     "name": "stdout",
     "output_type": "stream",
     "text": [
      "Interpolated 695111 points\n",
      "Saved!\n",
      "Post-processing grid =150 Ma\n"
     ]
    },
    {
     "name": "stderr",
     "output_type": "stream",
     "text": [
      "SettingWithCopyWarning: \n",
      "A value is trying to be set on a copy of a slice from a DataFrame.\n",
      "Try using .loc[row_indexer,col_indexer] = value instead\n",
      "\n",
      "See the caveats in the documentation: https://pandas.pydata.org/pandas-docs/stable/user_guide/indexing.html#returning-a-view-versus-a-copy\n"
     ]
    },
    {
     "name": "stdout",
     "output_type": "stream",
     "text": [
      "Interpolated 705784 points\n",
      "Saved!\n",
      "Post-processing grid =153 Ma\n"
     ]
    },
    {
     "name": "stderr",
     "output_type": "stream",
     "text": [
      "SettingWithCopyWarning: \n",
      "A value is trying to be set on a copy of a slice from a DataFrame.\n",
      "Try using .loc[row_indexer,col_indexer] = value instead\n",
      "\n",
      "See the caveats in the documentation: https://pandas.pydata.org/pandas-docs/stable/user_guide/indexing.html#returning-a-view-versus-a-copy\n"
     ]
    },
    {
     "name": "stdout",
     "output_type": "stream",
     "text": [
      "Interpolated 710409 points\n",
      "Saved!\n",
      "Post-processing grid =156 Ma\n"
     ]
    },
    {
     "name": "stderr",
     "output_type": "stream",
     "text": [
      "SettingWithCopyWarning: \n",
      "A value is trying to be set on a copy of a slice from a DataFrame.\n",
      "Try using .loc[row_indexer,col_indexer] = value instead\n",
      "\n",
      "See the caveats in the documentation: https://pandas.pydata.org/pandas-docs/stable/user_guide/indexing.html#returning-a-view-versus-a-copy\n"
     ]
    },
    {
     "name": "stdout",
     "output_type": "stream",
     "text": [
      "Interpolated 715712 points\n",
      "Saved!\n",
      "Post-processing grid =159 Ma\n"
     ]
    },
    {
     "name": "stderr",
     "output_type": "stream",
     "text": [
      "SettingWithCopyWarning: \n",
      "A value is trying to be set on a copy of a slice from a DataFrame.\n",
      "Try using .loc[row_indexer,col_indexer] = value instead\n",
      "\n",
      "See the caveats in the documentation: https://pandas.pydata.org/pandas-docs/stable/user_guide/indexing.html#returning-a-view-versus-a-copy\n"
     ]
    },
    {
     "name": "stdout",
     "output_type": "stream",
     "text": [
      "Interpolated 731541 points\n",
      "Saved!\n",
      "Post-processing grid =162 Ma\n"
     ]
    },
    {
     "name": "stderr",
     "output_type": "stream",
     "text": [
      "SettingWithCopyWarning: \n",
      "A value is trying to be set on a copy of a slice from a DataFrame.\n",
      "Try using .loc[row_indexer,col_indexer] = value instead\n",
      "\n",
      "See the caveats in the documentation: https://pandas.pydata.org/pandas-docs/stable/user_guide/indexing.html#returning-a-view-versus-a-copy\n"
     ]
    },
    {
     "name": "stdout",
     "output_type": "stream",
     "text": [
      "Interpolated 716572 points\n",
      "Saved!\n",
      "Post-processing grid =165 Ma\n"
     ]
    },
    {
     "name": "stderr",
     "output_type": "stream",
     "text": [
      "SettingWithCopyWarning: \n",
      "A value is trying to be set on a copy of a slice from a DataFrame.\n",
      "Try using .loc[row_indexer,col_indexer] = value instead\n",
      "\n",
      "See the caveats in the documentation: https://pandas.pydata.org/pandas-docs/stable/user_guide/indexing.html#returning-a-view-versus-a-copy\n"
     ]
    },
    {
     "name": "stdout",
     "output_type": "stream",
     "text": [
      "Interpolated 710642 points\n",
      "Saved!\n",
      "Post-processing grid =168 Ma\n"
     ]
    },
    {
     "name": "stderr",
     "output_type": "stream",
     "text": [
      "SettingWithCopyWarning: \n",
      "A value is trying to be set on a copy of a slice from a DataFrame.\n",
      "Try using .loc[row_indexer,col_indexer] = value instead\n",
      "\n",
      "See the caveats in the documentation: https://pandas.pydata.org/pandas-docs/stable/user_guide/indexing.html#returning-a-view-versus-a-copy\n"
     ]
    },
    {
     "name": "stdout",
     "output_type": "stream",
     "text": [
      "Interpolated 755168 points\n",
      "Saved!\n",
      "Post-processing grid =171 Ma\n"
     ]
    },
    {
     "name": "stderr",
     "output_type": "stream",
     "text": [
      "SettingWithCopyWarning: \n",
      "A value is trying to be set on a copy of a slice from a DataFrame.\n",
      "Try using .loc[row_indexer,col_indexer] = value instead\n",
      "\n",
      "See the caveats in the documentation: https://pandas.pydata.org/pandas-docs/stable/user_guide/indexing.html#returning-a-view-versus-a-copy\n"
     ]
    },
    {
     "name": "stdout",
     "output_type": "stream",
     "text": [
      "Interpolated 772335 points\n",
      "Saved!\n",
      "Post-processing grid =174 Ma\n"
     ]
    },
    {
     "name": "stderr",
     "output_type": "stream",
     "text": [
      "SettingWithCopyWarning: \n",
      "A value is trying to be set on a copy of a slice from a DataFrame.\n",
      "Try using .loc[row_indexer,col_indexer] = value instead\n",
      "\n",
      "See the caveats in the documentation: https://pandas.pydata.org/pandas-docs/stable/user_guide/indexing.html#returning-a-view-versus-a-copy\n"
     ]
    },
    {
     "name": "stdout",
     "output_type": "stream",
     "text": [
      "Interpolated 791920 points\n",
      "Saved!\n",
      "Post-processing grid =177 Ma\n"
     ]
    },
    {
     "name": "stderr",
     "output_type": "stream",
     "text": [
      "SettingWithCopyWarning: \n",
      "A value is trying to be set on a copy of a slice from a DataFrame.\n",
      "Try using .loc[row_indexer,col_indexer] = value instead\n",
      "\n",
      "See the caveats in the documentation: https://pandas.pydata.org/pandas-docs/stable/user_guide/indexing.html#returning-a-view-versus-a-copy\n"
     ]
    },
    {
     "name": "stdout",
     "output_type": "stream",
     "text": [
      "Interpolated 809101 points\n",
      "Saved!\n",
      "Post-processing grid =180 Ma\n"
     ]
    },
    {
     "name": "stderr",
     "output_type": "stream",
     "text": [
      "SettingWithCopyWarning: \n",
      "A value is trying to be set on a copy of a slice from a DataFrame.\n",
      "Try using .loc[row_indexer,col_indexer] = value instead\n",
      "\n",
      "See the caveats in the documentation: https://pandas.pydata.org/pandas-docs/stable/user_guide/indexing.html#returning-a-view-versus-a-copy\n"
     ]
    },
    {
     "name": "stdout",
     "output_type": "stream",
     "text": [
      "Interpolated 822117 points\n",
      "Saved!\n",
      "Post-processing grid =183 Ma\n"
     ]
    },
    {
     "name": "stderr",
     "output_type": "stream",
     "text": [
      "SettingWithCopyWarning: \n",
      "A value is trying to be set on a copy of a slice from a DataFrame.\n",
      "Try using .loc[row_indexer,col_indexer] = value instead\n",
      "\n",
      "See the caveats in the documentation: https://pandas.pydata.org/pandas-docs/stable/user_guide/indexing.html#returning-a-view-versus-a-copy\n"
     ]
    },
    {
     "name": "stdout",
     "output_type": "stream",
     "text": [
      "Interpolated 832396 points\n",
      "Saved!\n",
      "Post-processing grid =186 Ma\n"
     ]
    },
    {
     "name": "stderr",
     "output_type": "stream",
     "text": [
      "SettingWithCopyWarning: \n",
      "A value is trying to be set on a copy of a slice from a DataFrame.\n",
      "Try using .loc[row_indexer,col_indexer] = value instead\n",
      "\n",
      "See the caveats in the documentation: https://pandas.pydata.org/pandas-docs/stable/user_guide/indexing.html#returning-a-view-versus-a-copy\n"
     ]
    },
    {
     "name": "stdout",
     "output_type": "stream",
     "text": [
      "Interpolated 846339 points\n",
      "Saved!\n",
      "Post-processing grid =189 Ma\n"
     ]
    },
    {
     "name": "stderr",
     "output_type": "stream",
     "text": [
      "SettingWithCopyWarning: \n",
      "A value is trying to be set on a copy of a slice from a DataFrame.\n",
      "Try using .loc[row_indexer,col_indexer] = value instead\n",
      "\n",
      "See the caveats in the documentation: https://pandas.pydata.org/pandas-docs/stable/user_guide/indexing.html#returning-a-view-versus-a-copy\n"
     ]
    },
    {
     "name": "stdout",
     "output_type": "stream",
     "text": [
      "Interpolated 876331 points\n",
      "Saved!\n",
      "Post-processing grid =192 Ma\n"
     ]
    },
    {
     "name": "stderr",
     "output_type": "stream",
     "text": [
      "SettingWithCopyWarning: \n",
      "A value is trying to be set on a copy of a slice from a DataFrame.\n",
      "Try using .loc[row_indexer,col_indexer] = value instead\n",
      "\n",
      "See the caveats in the documentation: https://pandas.pydata.org/pandas-docs/stable/user_guide/indexing.html#returning-a-view-versus-a-copy\n"
     ]
    },
    {
     "name": "stdout",
     "output_type": "stream",
     "text": [
      "Interpolated 907009 points\n",
      "Saved!\n",
      "Post-processing grid =195 Ma\n"
     ]
    },
    {
     "name": "stderr",
     "output_type": "stream",
     "text": [
      "SettingWithCopyWarning: \n",
      "A value is trying to be set on a copy of a slice from a DataFrame.\n",
      "Try using .loc[row_indexer,col_indexer] = value instead\n",
      "\n",
      "See the caveats in the documentation: https://pandas.pydata.org/pandas-docs/stable/user_guide/indexing.html#returning-a-view-versus-a-copy\n"
     ]
    },
    {
     "name": "stdout",
     "output_type": "stream",
     "text": [
      "Interpolated 932912 points\n",
      "Saved!\n",
      "Post-processing grid =198 Ma\n"
     ]
    },
    {
     "name": "stderr",
     "output_type": "stream",
     "text": [
      "SettingWithCopyWarning: \n",
      "A value is trying to be set on a copy of a slice from a DataFrame.\n",
      "Try using .loc[row_indexer,col_indexer] = value instead\n",
      "\n",
      "See the caveats in the documentation: https://pandas.pydata.org/pandas-docs/stable/user_guide/indexing.html#returning-a-view-versus-a-copy\n"
     ]
    },
    {
     "name": "stdout",
     "output_type": "stream",
     "text": [
      "Interpolated 928157 points\n",
      "Saved!\n",
      "Post-processing grid =201 Ma\n"
     ]
    },
    {
     "name": "stderr",
     "output_type": "stream",
     "text": [
      "SettingWithCopyWarning: \n",
      "A value is trying to be set on a copy of a slice from a DataFrame.\n",
      "Try using .loc[row_indexer,col_indexer] = value instead\n",
      "\n",
      "See the caveats in the documentation: https://pandas.pydata.org/pandas-docs/stable/user_guide/indexing.html#returning-a-view-versus-a-copy\n"
     ]
    },
    {
     "name": "stdout",
     "output_type": "stream",
     "text": [
      "Interpolated 949356 points\n",
      "Saved!\n",
      "Post-processing grid =204 Ma\n"
     ]
    },
    {
     "name": "stderr",
     "output_type": "stream",
     "text": [
      "SettingWithCopyWarning: \n",
      "A value is trying to be set on a copy of a slice from a DataFrame.\n",
      "Try using .loc[row_indexer,col_indexer] = value instead\n",
      "\n",
      "See the caveats in the documentation: https://pandas.pydata.org/pandas-docs/stable/user_guide/indexing.html#returning-a-view-versus-a-copy\n"
     ]
    },
    {
     "name": "stdout",
     "output_type": "stream",
     "text": [
      "Interpolated 948994 points\n",
      "Saved!\n",
      "Post-processing grid =207 Ma\n"
     ]
    },
    {
     "name": "stderr",
     "output_type": "stream",
     "text": [
      "SettingWithCopyWarning: \n",
      "A value is trying to be set on a copy of a slice from a DataFrame.\n",
      "Try using .loc[row_indexer,col_indexer] = value instead\n",
      "\n",
      "See the caveats in the documentation: https://pandas.pydata.org/pandas-docs/stable/user_guide/indexing.html#returning-a-view-versus-a-copy\n"
     ]
    },
    {
     "name": "stdout",
     "output_type": "stream",
     "text": [
      "Interpolated 993145 points\n",
      "Saved!\n",
      "Post-processing grid =210 Ma\n"
     ]
    },
    {
     "name": "stderr",
     "output_type": "stream",
     "text": [
      "SettingWithCopyWarning: \n",
      "A value is trying to be set on a copy of a slice from a DataFrame.\n",
      "Try using .loc[row_indexer,col_indexer] = value instead\n",
      "\n",
      "See the caveats in the documentation: https://pandas.pydata.org/pandas-docs/stable/user_guide/indexing.html#returning-a-view-versus-a-copy\n"
     ]
    },
    {
     "name": "stdout",
     "output_type": "stream",
     "text": [
      "Interpolated 991111 points\n",
      "Saved!\n",
      "Post-processing grid =213 Ma\n"
     ]
    },
    {
     "name": "stderr",
     "output_type": "stream",
     "text": [
      "SettingWithCopyWarning: \n",
      "A value is trying to be set on a copy of a slice from a DataFrame.\n",
      "Try using .loc[row_indexer,col_indexer] = value instead\n",
      "\n",
      "See the caveats in the documentation: https://pandas.pydata.org/pandas-docs/stable/user_guide/indexing.html#returning-a-view-versus-a-copy\n"
     ]
    },
    {
     "name": "stdout",
     "output_type": "stream",
     "text": [
      "Interpolated 986276 points\n",
      "Saved!\n",
      "Post-processing grid =216 Ma\n"
     ]
    },
    {
     "name": "stderr",
     "output_type": "stream",
     "text": [
      "SettingWithCopyWarning: \n",
      "A value is trying to be set on a copy of a slice from a DataFrame.\n",
      "Try using .loc[row_indexer,col_indexer] = value instead\n",
      "\n",
      "See the caveats in the documentation: https://pandas.pydata.org/pandas-docs/stable/user_guide/indexing.html#returning-a-view-versus-a-copy\n"
     ]
    },
    {
     "name": "stdout",
     "output_type": "stream",
     "text": [
      "Interpolated 971822 points\n",
      "Saved!\n",
      "Post-processing grid =219 Ma\n"
     ]
    },
    {
     "name": "stderr",
     "output_type": "stream",
     "text": [
      "SettingWithCopyWarning: \n",
      "A value is trying to be set on a copy of a slice from a DataFrame.\n",
      "Try using .loc[row_indexer,col_indexer] = value instead\n",
      "\n",
      "See the caveats in the documentation: https://pandas.pydata.org/pandas-docs/stable/user_guide/indexing.html#returning-a-view-versus-a-copy\n"
     ]
    },
    {
     "name": "stdout",
     "output_type": "stream",
     "text": [
      "Interpolated 961362 points\n",
      "Saved!\n",
      "Post-processing grid =222 Ma\n"
     ]
    },
    {
     "name": "stderr",
     "output_type": "stream",
     "text": [
      "SettingWithCopyWarning: \n",
      "A value is trying to be set on a copy of a slice from a DataFrame.\n",
      "Try using .loc[row_indexer,col_indexer] = value instead\n",
      "\n",
      "See the caveats in the documentation: https://pandas.pydata.org/pandas-docs/stable/user_guide/indexing.html#returning-a-view-versus-a-copy\n"
     ]
    },
    {
     "name": "stdout",
     "output_type": "stream",
     "text": [
      "Interpolated 892923 points\n",
      "Saved!\n",
      "Post-processing grid =225 Ma\n"
     ]
    },
    {
     "name": "stderr",
     "output_type": "stream",
     "text": [
      "SettingWithCopyWarning: \n",
      "A value is trying to be set on a copy of a slice from a DataFrame.\n",
      "Try using .loc[row_indexer,col_indexer] = value instead\n",
      "\n",
      "See the caveats in the documentation: https://pandas.pydata.org/pandas-docs/stable/user_guide/indexing.html#returning-a-view-versus-a-copy\n"
     ]
    },
    {
     "name": "stdout",
     "output_type": "stream",
     "text": [
      "Interpolated 844193 points\n",
      "Saved!\n",
      "Post-processing grid =228 Ma\n"
     ]
    },
    {
     "name": "stderr",
     "output_type": "stream",
     "text": [
      "SettingWithCopyWarning: \n",
      "A value is trying to be set on a copy of a slice from a DataFrame.\n",
      "Try using .loc[row_indexer,col_indexer] = value instead\n",
      "\n",
      "See the caveats in the documentation: https://pandas.pydata.org/pandas-docs/stable/user_guide/indexing.html#returning-a-view-versus-a-copy\n"
     ]
    },
    {
     "name": "stdout",
     "output_type": "stream",
     "text": [
      "Interpolated 853736 points\n",
      "Saved!\n",
      "Post-processing grid =231 Ma\n"
     ]
    },
    {
     "name": "stderr",
     "output_type": "stream",
     "text": [
      "SettingWithCopyWarning: \n",
      "A value is trying to be set on a copy of a slice from a DataFrame.\n",
      "Try using .loc[row_indexer,col_indexer] = value instead\n",
      "\n",
      "See the caveats in the documentation: https://pandas.pydata.org/pandas-docs/stable/user_guide/indexing.html#returning-a-view-versus-a-copy\n"
     ]
    },
    {
     "name": "stdout",
     "output_type": "stream",
     "text": [
      "Interpolated 832515 points\n",
      "Saved!\n",
      "Post-processing grid =234 Ma\n"
     ]
    },
    {
     "name": "stderr",
     "output_type": "stream",
     "text": [
      "SettingWithCopyWarning: \n",
      "A value is trying to be set on a copy of a slice from a DataFrame.\n",
      "Try using .loc[row_indexer,col_indexer] = value instead\n",
      "\n",
      "See the caveats in the documentation: https://pandas.pydata.org/pandas-docs/stable/user_guide/indexing.html#returning-a-view-versus-a-copy\n"
     ]
    },
    {
     "name": "stdout",
     "output_type": "stream",
     "text": [
      "Interpolated 864180 points\n",
      "Saved!\n",
      "Post-processing grid =237 Ma\n"
     ]
    },
    {
     "name": "stderr",
     "output_type": "stream",
     "text": [
      "SettingWithCopyWarning: \n",
      "A value is trying to be set on a copy of a slice from a DataFrame.\n",
      "Try using .loc[row_indexer,col_indexer] = value instead\n",
      "\n",
      "See the caveats in the documentation: https://pandas.pydata.org/pandas-docs/stable/user_guide/indexing.html#returning-a-view-versus-a-copy\n"
     ]
    },
    {
     "name": "stdout",
     "output_type": "stream",
     "text": [
      "Interpolated 883551 points\n",
      "Saved!\n",
      "Post-processing grid =240 Ma\n"
     ]
    },
    {
     "name": "stderr",
     "output_type": "stream",
     "text": [
      "SettingWithCopyWarning: \n",
      "A value is trying to be set on a copy of a slice from a DataFrame.\n",
      "Try using .loc[row_indexer,col_indexer] = value instead\n",
      "\n",
      "See the caveats in the documentation: https://pandas.pydata.org/pandas-docs/stable/user_guide/indexing.html#returning-a-view-versus-a-copy\n"
     ]
    },
    {
     "name": "stdout",
     "output_type": "stream",
     "text": [
      "Interpolated 873030 points\n",
      "Saved!\n",
      "Post-processing grid =243 Ma\n"
     ]
    },
    {
     "name": "stderr",
     "output_type": "stream",
     "text": [
      "SettingWithCopyWarning: \n",
      "A value is trying to be set on a copy of a slice from a DataFrame.\n",
      "Try using .loc[row_indexer,col_indexer] = value instead\n",
      "\n",
      "See the caveats in the documentation: https://pandas.pydata.org/pandas-docs/stable/user_guide/indexing.html#returning-a-view-versus-a-copy\n"
     ]
    },
    {
     "name": "stdout",
     "output_type": "stream",
     "text": [
      "Interpolated 874505 points\n",
      "Saved!\n",
      "Post-processing grid =246 Ma\n"
     ]
    },
    {
     "name": "stderr",
     "output_type": "stream",
     "text": [
      "SettingWithCopyWarning: \n",
      "A value is trying to be set on a copy of a slice from a DataFrame.\n",
      "Try using .loc[row_indexer,col_indexer] = value instead\n",
      "\n",
      "See the caveats in the documentation: https://pandas.pydata.org/pandas-docs/stable/user_guide/indexing.html#returning-a-view-versus-a-copy\n"
     ]
    },
    {
     "name": "stdout",
     "output_type": "stream",
     "text": [
      "Interpolated 861831 points\n",
      "Saved!\n",
      "Post-processing grid =249 Ma\n"
     ]
    },
    {
     "name": "stderr",
     "output_type": "stream",
     "text": [
      "SettingWithCopyWarning: \n",
      "A value is trying to be set on a copy of a slice from a DataFrame.\n",
      "Try using .loc[row_indexer,col_indexer] = value instead\n",
      "\n",
      "See the caveats in the documentation: https://pandas.pydata.org/pandas-docs/stable/user_guide/indexing.html#returning-a-view-versus-a-copy\n"
     ]
    },
    {
     "name": "stdout",
     "output_type": "stream",
     "text": [
      "Interpolated 827020 points\n",
      "Saved!\n",
      "Post-processing grid =252 Ma\n"
     ]
    },
    {
     "name": "stderr",
     "output_type": "stream",
     "text": [
      "SettingWithCopyWarning: \n",
      "A value is trying to be set on a copy of a slice from a DataFrame.\n",
      "Try using .loc[row_indexer,col_indexer] = value instead\n",
      "\n",
      "See the caveats in the documentation: https://pandas.pydata.org/pandas-docs/stable/user_guide/indexing.html#returning-a-view-versus-a-copy\n"
     ]
    },
    {
     "name": "stdout",
     "output_type": "stream",
     "text": [
      "Interpolated 709980 points\n",
      "Saved!\n",
      "Post-processing grid =255 Ma\n"
     ]
    },
    {
     "name": "stderr",
     "output_type": "stream",
     "text": [
      "SettingWithCopyWarning: \n",
      "A value is trying to be set on a copy of a slice from a DataFrame.\n",
      "Try using .loc[row_indexer,col_indexer] = value instead\n",
      "\n",
      "See the caveats in the documentation: https://pandas.pydata.org/pandas-docs/stable/user_guide/indexing.html#returning-a-view-versus-a-copy\n"
     ]
    },
    {
     "name": "stdout",
     "output_type": "stream",
     "text": [
      "Interpolated 700381 points\n",
      "Saved!\n",
      "Post-processing grid =258 Ma\n"
     ]
    },
    {
     "name": "stderr",
     "output_type": "stream",
     "text": [
      "SettingWithCopyWarning: \n",
      "A value is trying to be set on a copy of a slice from a DataFrame.\n",
      "Try using .loc[row_indexer,col_indexer] = value instead\n",
      "\n",
      "See the caveats in the documentation: https://pandas.pydata.org/pandas-docs/stable/user_guide/indexing.html#returning-a-view-versus-a-copy\n"
     ]
    },
    {
     "name": "stdout",
     "output_type": "stream",
     "text": [
      "Interpolated 709820 points\n",
      "Saved!\n",
      "Post-processing grid =261 Ma\n"
     ]
    },
    {
     "name": "stderr",
     "output_type": "stream",
     "text": [
      "SettingWithCopyWarning: \n",
      "A value is trying to be set on a copy of a slice from a DataFrame.\n",
      "Try using .loc[row_indexer,col_indexer] = value instead\n",
      "\n",
      "See the caveats in the documentation: https://pandas.pydata.org/pandas-docs/stable/user_guide/indexing.html#returning-a-view-versus-a-copy\n"
     ]
    },
    {
     "name": "stdout",
     "output_type": "stream",
     "text": [
      "Interpolated 676311 points\n",
      "Saved!\n",
      "Post-processing grid =264 Ma\n"
     ]
    },
    {
     "name": "stderr",
     "output_type": "stream",
     "text": [
      "SettingWithCopyWarning: \n",
      "A value is trying to be set on a copy of a slice from a DataFrame.\n",
      "Try using .loc[row_indexer,col_indexer] = value instead\n",
      "\n",
      "See the caveats in the documentation: https://pandas.pydata.org/pandas-docs/stable/user_guide/indexing.html#returning-a-view-versus-a-copy\n"
     ]
    },
    {
     "name": "stdout",
     "output_type": "stream",
     "text": [
      "Interpolated 674968 points\n",
      "Saved!\n",
      "Post-processing grid =267 Ma\n"
     ]
    },
    {
     "name": "stderr",
     "output_type": "stream",
     "text": [
      "SettingWithCopyWarning: \n",
      "A value is trying to be set on a copy of a slice from a DataFrame.\n",
      "Try using .loc[row_indexer,col_indexer] = value instead\n",
      "\n",
      "See the caveats in the documentation: https://pandas.pydata.org/pandas-docs/stable/user_guide/indexing.html#returning-a-view-versus-a-copy\n"
     ]
    },
    {
     "name": "stdout",
     "output_type": "stream",
     "text": [
      "Interpolated 658958 points\n",
      "Saved!\n",
      "Post-processing grid =270 Ma\n"
     ]
    },
    {
     "name": "stderr",
     "output_type": "stream",
     "text": [
      "SettingWithCopyWarning: \n",
      "A value is trying to be set on a copy of a slice from a DataFrame.\n",
      "Try using .loc[row_indexer,col_indexer] = value instead\n",
      "\n",
      "See the caveats in the documentation: https://pandas.pydata.org/pandas-docs/stable/user_guide/indexing.html#returning-a-view-versus-a-copy\n"
     ]
    },
    {
     "name": "stdout",
     "output_type": "stream",
     "text": [
      "Interpolated 674629 points\n",
      "Saved!\n",
      "Post-processing grid =273 Ma\n"
     ]
    },
    {
     "name": "stderr",
     "output_type": "stream",
     "text": [
      "SettingWithCopyWarning: \n",
      "A value is trying to be set on a copy of a slice from a DataFrame.\n",
      "Try using .loc[row_indexer,col_indexer] = value instead\n",
      "\n",
      "See the caveats in the documentation: https://pandas.pydata.org/pandas-docs/stable/user_guide/indexing.html#returning-a-view-versus-a-copy\n"
     ]
    },
    {
     "name": "stdout",
     "output_type": "stream",
     "text": [
      "Interpolated 657371 points\n",
      "Saved!\n",
      "Post-processing grid =276 Ma\n"
     ]
    },
    {
     "name": "stderr",
     "output_type": "stream",
     "text": [
      "SettingWithCopyWarning: \n",
      "A value is trying to be set on a copy of a slice from a DataFrame.\n",
      "Try using .loc[row_indexer,col_indexer] = value instead\n",
      "\n",
      "See the caveats in the documentation: https://pandas.pydata.org/pandas-docs/stable/user_guide/indexing.html#returning-a-view-versus-a-copy\n"
     ]
    },
    {
     "name": "stdout",
     "output_type": "stream",
     "text": [
      "Interpolated 651322 points\n",
      "Saved!\n",
      "Post-processing grid =279 Ma\n"
     ]
    },
    {
     "name": "stderr",
     "output_type": "stream",
     "text": [
      "SettingWithCopyWarning: \n",
      "A value is trying to be set on a copy of a slice from a DataFrame.\n",
      "Try using .loc[row_indexer,col_indexer] = value instead\n",
      "\n",
      "See the caveats in the documentation: https://pandas.pydata.org/pandas-docs/stable/user_guide/indexing.html#returning-a-view-versus-a-copy\n"
     ]
    },
    {
     "name": "stdout",
     "output_type": "stream",
     "text": [
      "Interpolated 643278 points\n",
      "Saved!\n",
      "Post-processing grid =282 Ma\n"
     ]
    },
    {
     "name": "stderr",
     "output_type": "stream",
     "text": [
      "SettingWithCopyWarning: \n",
      "A value is trying to be set on a copy of a slice from a DataFrame.\n",
      "Try using .loc[row_indexer,col_indexer] = value instead\n",
      "\n",
      "See the caveats in the documentation: https://pandas.pydata.org/pandas-docs/stable/user_guide/indexing.html#returning-a-view-versus-a-copy\n"
     ]
    },
    {
     "name": "stdout",
     "output_type": "stream",
     "text": [
      "Interpolated 651079 points\n",
      "Saved!\n",
      "Post-processing grid =285 Ma\n"
     ]
    },
    {
     "name": "stderr",
     "output_type": "stream",
     "text": [
      "SettingWithCopyWarning: \n",
      "A value is trying to be set on a copy of a slice from a DataFrame.\n",
      "Try using .loc[row_indexer,col_indexer] = value instead\n",
      "\n",
      "See the caveats in the documentation: https://pandas.pydata.org/pandas-docs/stable/user_guide/indexing.html#returning-a-view-versus-a-copy\n"
     ]
    },
    {
     "name": "stdout",
     "output_type": "stream",
     "text": [
      "Interpolated 658531 points\n",
      "Saved!\n",
      "Post-processing grid =288 Ma\n"
     ]
    },
    {
     "name": "stderr",
     "output_type": "stream",
     "text": [
      "SettingWithCopyWarning: \n",
      "A value is trying to be set on a copy of a slice from a DataFrame.\n",
      "Try using .loc[row_indexer,col_indexer] = value instead\n",
      "\n",
      "See the caveats in the documentation: https://pandas.pydata.org/pandas-docs/stable/user_guide/indexing.html#returning-a-view-versus-a-copy\n"
     ]
    },
    {
     "name": "stdout",
     "output_type": "stream",
     "text": [
      "Interpolated 665837 points\n",
      "Saved!\n",
      "Post-processing grid =291 Ma\n"
     ]
    },
    {
     "name": "stderr",
     "output_type": "stream",
     "text": [
      "SettingWithCopyWarning: \n",
      "A value is trying to be set on a copy of a slice from a DataFrame.\n",
      "Try using .loc[row_indexer,col_indexer] = value instead\n",
      "\n",
      "See the caveats in the documentation: https://pandas.pydata.org/pandas-docs/stable/user_guide/indexing.html#returning-a-view-versus-a-copy\n"
     ]
    },
    {
     "name": "stdout",
     "output_type": "stream",
     "text": [
      "Interpolated 674520 points\n",
      "Saved!\n",
      "Post-processing grid =294 Ma\n"
     ]
    },
    {
     "name": "stderr",
     "output_type": "stream",
     "text": [
      "SettingWithCopyWarning: \n",
      "A value is trying to be set on a copy of a slice from a DataFrame.\n",
      "Try using .loc[row_indexer,col_indexer] = value instead\n",
      "\n",
      "See the caveats in the documentation: https://pandas.pydata.org/pandas-docs/stable/user_guide/indexing.html#returning-a-view-versus-a-copy\n"
     ]
    },
    {
     "name": "stdout",
     "output_type": "stream",
     "text": [
      "Interpolated 678043 points\n",
      "Saved!\n",
      "Post-processing grid =297 Ma\n"
     ]
    },
    {
     "name": "stderr",
     "output_type": "stream",
     "text": [
      "SettingWithCopyWarning: \n",
      "A value is trying to be set on a copy of a slice from a DataFrame.\n",
      "Try using .loc[row_indexer,col_indexer] = value instead\n",
      "\n",
      "See the caveats in the documentation: https://pandas.pydata.org/pandas-docs/stable/user_guide/indexing.html#returning-a-view-versus-a-copy\n"
     ]
    },
    {
     "name": "stdout",
     "output_type": "stream",
     "text": [
      "Interpolated 673286 points\n",
      "Saved!\n",
      "Post-processing grid =300 Ma\n"
     ]
    },
    {
     "name": "stderr",
     "output_type": "stream",
     "text": [
      "SettingWithCopyWarning: \n",
      "A value is trying to be set on a copy of a slice from a DataFrame.\n",
      "Try using .loc[row_indexer,col_indexer] = value instead\n",
      "\n",
      "See the caveats in the documentation: https://pandas.pydata.org/pandas-docs/stable/user_guide/indexing.html#returning-a-view-versus-a-copy\n"
     ]
    },
    {
     "name": "stdout",
     "output_type": "stream",
     "text": [
      "Interpolated 669910 points\n",
      "Saved!\n",
      "Post-processing grid =303 Ma\n"
     ]
    },
    {
     "name": "stderr",
     "output_type": "stream",
     "text": [
      "SettingWithCopyWarning: \n",
      "A value is trying to be set on a copy of a slice from a DataFrame.\n",
      "Try using .loc[row_indexer,col_indexer] = value instead\n",
      "\n",
      "See the caveats in the documentation: https://pandas.pydata.org/pandas-docs/stable/user_guide/indexing.html#returning-a-view-versus-a-copy\n"
     ]
    },
    {
     "name": "stdout",
     "output_type": "stream",
     "text": [
      "Interpolated 681937 points\n",
      "Saved!\n",
      "Post-processing grid =306 Ma\n"
     ]
    },
    {
     "name": "stderr",
     "output_type": "stream",
     "text": [
      "SettingWithCopyWarning: \n",
      "A value is trying to be set on a copy of a slice from a DataFrame.\n",
      "Try using .loc[row_indexer,col_indexer] = value instead\n",
      "\n",
      "See the caveats in the documentation: https://pandas.pydata.org/pandas-docs/stable/user_guide/indexing.html#returning-a-view-versus-a-copy\n"
     ]
    },
    {
     "name": "stdout",
     "output_type": "stream",
     "text": [
      "Interpolated 694184 points\n",
      "Saved!\n",
      "Post-processing grid =309 Ma\n"
     ]
    },
    {
     "name": "stderr",
     "output_type": "stream",
     "text": [
      "SettingWithCopyWarning: \n",
      "A value is trying to be set on a copy of a slice from a DataFrame.\n",
      "Try using .loc[row_indexer,col_indexer] = value instead\n",
      "\n",
      "See the caveats in the documentation: https://pandas.pydata.org/pandas-docs/stable/user_guide/indexing.html#returning-a-view-versus-a-copy\n"
     ]
    },
    {
     "name": "stdout",
     "output_type": "stream",
     "text": [
      "Interpolated 696277 points\n",
      "Saved!\n",
      "Post-processing grid =312 Ma\n"
     ]
    },
    {
     "name": "stderr",
     "output_type": "stream",
     "text": [
      "SettingWithCopyWarning: \n",
      "A value is trying to be set on a copy of a slice from a DataFrame.\n",
      "Try using .loc[row_indexer,col_indexer] = value instead\n",
      "\n",
      "See the caveats in the documentation: https://pandas.pydata.org/pandas-docs/stable/user_guide/indexing.html#returning-a-view-versus-a-copy\n"
     ]
    },
    {
     "name": "stdout",
     "output_type": "stream",
     "text": [
      "Interpolated 728454 points\n",
      "Saved!\n",
      "Post-processing grid =315 Ma\n"
     ]
    },
    {
     "name": "stderr",
     "output_type": "stream",
     "text": [
      "SettingWithCopyWarning: \n",
      "A value is trying to be set on a copy of a slice from a DataFrame.\n",
      "Try using .loc[row_indexer,col_indexer] = value instead\n",
      "\n",
      "See the caveats in the documentation: https://pandas.pydata.org/pandas-docs/stable/user_guide/indexing.html#returning-a-view-versus-a-copy\n"
     ]
    },
    {
     "name": "stdout",
     "output_type": "stream",
     "text": [
      "Interpolated 717170 points\n",
      "Saved!\n",
      "Post-processing grid =318 Ma\n"
     ]
    },
    {
     "name": "stderr",
     "output_type": "stream",
     "text": [
      "SettingWithCopyWarning: \n",
      "A value is trying to be set on a copy of a slice from a DataFrame.\n",
      "Try using .loc[row_indexer,col_indexer] = value instead\n",
      "\n",
      "See the caveats in the documentation: https://pandas.pydata.org/pandas-docs/stable/user_guide/indexing.html#returning-a-view-versus-a-copy\n"
     ]
    },
    {
     "name": "stdout",
     "output_type": "stream",
     "text": [
      "Interpolated 720483 points\n",
      "Saved!\n",
      "Post-processing grid =321 Ma\n"
     ]
    },
    {
     "name": "stderr",
     "output_type": "stream",
     "text": [
      "SettingWithCopyWarning: \n",
      "A value is trying to be set on a copy of a slice from a DataFrame.\n",
      "Try using .loc[row_indexer,col_indexer] = value instead\n",
      "\n",
      "See the caveats in the documentation: https://pandas.pydata.org/pandas-docs/stable/user_guide/indexing.html#returning-a-view-versus-a-copy\n"
     ]
    },
    {
     "name": "stdout",
     "output_type": "stream",
     "text": [
      "Interpolated 808295 points\n",
      "Saved!\n",
      "Post-processing grid =324 Ma\n"
     ]
    },
    {
     "name": "stderr",
     "output_type": "stream",
     "text": [
      "SettingWithCopyWarning: \n",
      "A value is trying to be set on a copy of a slice from a DataFrame.\n",
      "Try using .loc[row_indexer,col_indexer] = value instead\n",
      "\n",
      "See the caveats in the documentation: https://pandas.pydata.org/pandas-docs/stable/user_guide/indexing.html#returning-a-view-versus-a-copy\n"
     ]
    },
    {
     "name": "stdout",
     "output_type": "stream",
     "text": [
      "Interpolated 798681 points\n",
      "Saved!\n",
      "Post-processing grid =327 Ma\n"
     ]
    },
    {
     "name": "stderr",
     "output_type": "stream",
     "text": [
      "SettingWithCopyWarning: \n",
      "A value is trying to be set on a copy of a slice from a DataFrame.\n",
      "Try using .loc[row_indexer,col_indexer] = value instead\n",
      "\n",
      "See the caveats in the documentation: https://pandas.pydata.org/pandas-docs/stable/user_guide/indexing.html#returning-a-view-versus-a-copy\n"
     ]
    },
    {
     "name": "stdout",
     "output_type": "stream",
     "text": [
      "Interpolated 765720 points\n",
      "Saved!\n",
      "Post-processing grid =330 Ma\n"
     ]
    },
    {
     "name": "stderr",
     "output_type": "stream",
     "text": [
      "SettingWithCopyWarning: \n",
      "A value is trying to be set on a copy of a slice from a DataFrame.\n",
      "Try using .loc[row_indexer,col_indexer] = value instead\n",
      "\n",
      "See the caveats in the documentation: https://pandas.pydata.org/pandas-docs/stable/user_guide/indexing.html#returning-a-view-versus-a-copy\n"
     ]
    },
    {
     "name": "stdout",
     "output_type": "stream",
     "text": [
      "Interpolated 744548 points\n",
      "Saved!\n",
      "Post-processing grid =333 Ma\n"
     ]
    },
    {
     "name": "stderr",
     "output_type": "stream",
     "text": [
      "SettingWithCopyWarning: \n",
      "A value is trying to be set on a copy of a slice from a DataFrame.\n",
      "Try using .loc[row_indexer,col_indexer] = value instead\n",
      "\n",
      "See the caveats in the documentation: https://pandas.pydata.org/pandas-docs/stable/user_guide/indexing.html#returning-a-view-versus-a-copy\n"
     ]
    },
    {
     "name": "stdout",
     "output_type": "stream",
     "text": [
      "Interpolated 709176 points\n",
      "Saved!\n",
      "Post-processing grid =336 Ma\n"
     ]
    },
    {
     "name": "stderr",
     "output_type": "stream",
     "text": [
      "SettingWithCopyWarning: \n",
      "A value is trying to be set on a copy of a slice from a DataFrame.\n",
      "Try using .loc[row_indexer,col_indexer] = value instead\n",
      "\n",
      "See the caveats in the documentation: https://pandas.pydata.org/pandas-docs/stable/user_guide/indexing.html#returning-a-view-versus-a-copy\n"
     ]
    },
    {
     "name": "stdout",
     "output_type": "stream",
     "text": [
      "Interpolated 707161 points\n",
      "Saved!\n",
      "Post-processing grid =339 Ma\n"
     ]
    },
    {
     "name": "stderr",
     "output_type": "stream",
     "text": [
      "SettingWithCopyWarning: \n",
      "A value is trying to be set on a copy of a slice from a DataFrame.\n",
      "Try using .loc[row_indexer,col_indexer] = value instead\n",
      "\n",
      "See the caveats in the documentation: https://pandas.pydata.org/pandas-docs/stable/user_guide/indexing.html#returning-a-view-versus-a-copy\n"
     ]
    },
    {
     "name": "stdout",
     "output_type": "stream",
     "text": [
      "Interpolated 672823 points\n",
      "Saved!\n",
      "Post-processing grid =342 Ma\n"
     ]
    },
    {
     "name": "stderr",
     "output_type": "stream",
     "text": [
      "SettingWithCopyWarning: \n",
      "A value is trying to be set on a copy of a slice from a DataFrame.\n",
      "Try using .loc[row_indexer,col_indexer] = value instead\n",
      "\n",
      "See the caveats in the documentation: https://pandas.pydata.org/pandas-docs/stable/user_guide/indexing.html#returning-a-view-versus-a-copy\n"
     ]
    },
    {
     "name": "stdout",
     "output_type": "stream",
     "text": [
      "Interpolated 556247 points\n",
      "Saved!\n",
      "Post-processing grid =345 Ma\n"
     ]
    },
    {
     "name": "stderr",
     "output_type": "stream",
     "text": [
      "SettingWithCopyWarning: \n",
      "A value is trying to be set on a copy of a slice from a DataFrame.\n",
      "Try using .loc[row_indexer,col_indexer] = value instead\n",
      "\n",
      "See the caveats in the documentation: https://pandas.pydata.org/pandas-docs/stable/user_guide/indexing.html#returning-a-view-versus-a-copy\n"
     ]
    },
    {
     "name": "stdout",
     "output_type": "stream",
     "text": [
      "Interpolated 565174 points\n",
      "Saved!\n",
      "Post-processing grid =348 Ma\n"
     ]
    },
    {
     "name": "stderr",
     "output_type": "stream",
     "text": [
      "SettingWithCopyWarning: \n",
      "A value is trying to be set on a copy of a slice from a DataFrame.\n",
      "Try using .loc[row_indexer,col_indexer] = value instead\n",
      "\n",
      "See the caveats in the documentation: https://pandas.pydata.org/pandas-docs/stable/user_guide/indexing.html#returning-a-view-versus-a-copy\n"
     ]
    },
    {
     "name": "stdout",
     "output_type": "stream",
     "text": [
      "Interpolated 550736 points\n",
      "Saved!\n",
      "Post-processing grid =351 Ma\n"
     ]
    },
    {
     "name": "stderr",
     "output_type": "stream",
     "text": [
      "SettingWithCopyWarning: \n",
      "A value is trying to be set on a copy of a slice from a DataFrame.\n",
      "Try using .loc[row_indexer,col_indexer] = value instead\n",
      "\n",
      "See the caveats in the documentation: https://pandas.pydata.org/pandas-docs/stable/user_guide/indexing.html#returning-a-view-versus-a-copy\n"
     ]
    },
    {
     "name": "stdout",
     "output_type": "stream",
     "text": [
      "Interpolated 494132 points\n",
      "Saved!\n",
      "Post-processing grid =354 Ma\n"
     ]
    },
    {
     "name": "stderr",
     "output_type": "stream",
     "text": [
      "SettingWithCopyWarning: \n",
      "A value is trying to be set on a copy of a slice from a DataFrame.\n",
      "Try using .loc[row_indexer,col_indexer] = value instead\n",
      "\n",
      "See the caveats in the documentation: https://pandas.pydata.org/pandas-docs/stable/user_guide/indexing.html#returning-a-view-versus-a-copy\n"
     ]
    },
    {
     "name": "stdout",
     "output_type": "stream",
     "text": [
      "Interpolated 497182 points\n",
      "Saved!\n",
      "Post-processing grid =357 Ma\n"
     ]
    },
    {
     "name": "stderr",
     "output_type": "stream",
     "text": [
      "SettingWithCopyWarning: \n",
      "A value is trying to be set on a copy of a slice from a DataFrame.\n",
      "Try using .loc[row_indexer,col_indexer] = value instead\n",
      "\n",
      "See the caveats in the documentation: https://pandas.pydata.org/pandas-docs/stable/user_guide/indexing.html#returning-a-view-versus-a-copy\n"
     ]
    },
    {
     "name": "stdout",
     "output_type": "stream",
     "text": [
      "Interpolated 447704 points\n",
      "Saved!\n",
      "Post-processing grid =360 Ma\n"
     ]
    },
    {
     "name": "stderr",
     "output_type": "stream",
     "text": [
      "SettingWithCopyWarning: \n",
      "A value is trying to be set on a copy of a slice from a DataFrame.\n",
      "Try using .loc[row_indexer,col_indexer] = value instead\n",
      "\n",
      "See the caveats in the documentation: https://pandas.pydata.org/pandas-docs/stable/user_guide/indexing.html#returning-a-view-versus-a-copy\n"
     ]
    },
    {
     "name": "stdout",
     "output_type": "stream",
     "text": [
      "Interpolated 431876 points\n",
      "Saved!\n",
      "Post-processing grid =363 Ma\n"
     ]
    },
    {
     "name": "stderr",
     "output_type": "stream",
     "text": [
      "SettingWithCopyWarning: \n",
      "A value is trying to be set on a copy of a slice from a DataFrame.\n",
      "Try using .loc[row_indexer,col_indexer] = value instead\n",
      "\n",
      "See the caveats in the documentation: https://pandas.pydata.org/pandas-docs/stable/user_guide/indexing.html#returning-a-view-versus-a-copy\n"
     ]
    },
    {
     "name": "stdout",
     "output_type": "stream",
     "text": [
      "Interpolated 401716 points\n",
      "Saved!\n",
      "Post-processing grid =366 Ma\n"
     ]
    },
    {
     "name": "stderr",
     "output_type": "stream",
     "text": [
      "SettingWithCopyWarning: \n",
      "A value is trying to be set on a copy of a slice from a DataFrame.\n",
      "Try using .loc[row_indexer,col_indexer] = value instead\n",
      "\n",
      "See the caveats in the documentation: https://pandas.pydata.org/pandas-docs/stable/user_guide/indexing.html#returning-a-view-versus-a-copy\n"
     ]
    },
    {
     "name": "stdout",
     "output_type": "stream",
     "text": [
      "Interpolated 396058 points\n",
      "Saved!\n",
      "Post-processing grid =369 Ma\n"
     ]
    },
    {
     "name": "stderr",
     "output_type": "stream",
     "text": [
      "SettingWithCopyWarning: \n",
      "A value is trying to be set on a copy of a slice from a DataFrame.\n",
      "Try using .loc[row_indexer,col_indexer] = value instead\n",
      "\n",
      "See the caveats in the documentation: https://pandas.pydata.org/pandas-docs/stable/user_guide/indexing.html#returning-a-view-versus-a-copy\n"
     ]
    },
    {
     "name": "stdout",
     "output_type": "stream",
     "text": [
      "Interpolated 403026 points\n",
      "Saved!\n",
      "Post-processing grid =372 Ma\n"
     ]
    },
    {
     "name": "stderr",
     "output_type": "stream",
     "text": [
      "SettingWithCopyWarning: \n",
      "A value is trying to be set on a copy of a slice from a DataFrame.\n",
      "Try using .loc[row_indexer,col_indexer] = value instead\n",
      "\n",
      "See the caveats in the documentation: https://pandas.pydata.org/pandas-docs/stable/user_guide/indexing.html#returning-a-view-versus-a-copy\n"
     ]
    },
    {
     "name": "stdout",
     "output_type": "stream",
     "text": [
      "Interpolated 416227 points\n",
      "Saved!\n",
      "Post-processing grid =375 Ma\n"
     ]
    },
    {
     "name": "stderr",
     "output_type": "stream",
     "text": [
      "SettingWithCopyWarning: \n",
      "A value is trying to be set on a copy of a slice from a DataFrame.\n",
      "Try using .loc[row_indexer,col_indexer] = value instead\n",
      "\n",
      "See the caveats in the documentation: https://pandas.pydata.org/pandas-docs/stable/user_guide/indexing.html#returning-a-view-versus-a-copy\n"
     ]
    },
    {
     "name": "stdout",
     "output_type": "stream",
     "text": [
      "Interpolated 399336 points\n",
      "Saved!\n",
      "Post-processing grid =378 Ma\n"
     ]
    },
    {
     "name": "stderr",
     "output_type": "stream",
     "text": [
      "SettingWithCopyWarning: \n",
      "A value is trying to be set on a copy of a slice from a DataFrame.\n",
      "Try using .loc[row_indexer,col_indexer] = value instead\n",
      "\n",
      "See the caveats in the documentation: https://pandas.pydata.org/pandas-docs/stable/user_guide/indexing.html#returning-a-view-versus-a-copy\n"
     ]
    },
    {
     "name": "stdout",
     "output_type": "stream",
     "text": [
      "Interpolated 407057 points\n",
      "Saved!\n"
     ]
    }
   ],
   "source": [
    "\n",
    "# reconstruction_time=60\n",
    "create_directory_if_not_exists(f\"{DEFAULT_OUTPUT_NetCDF}/{WINDOW_SIZE}_processed/{ml_model_name}_Model\")\n",
    "\n",
    "\n",
    "for reconstruction_time in all_times:\n",
    "    try:\n",
    "        print(f\"Post-processing grid ={reconstruction_time} Ma\")\n",
    "        pygplates.reconstruct(continents,PK.rotation_model,\"tmp.shp\",reconstruction_time,anchor_plate_id=PK.anchor_plate_id)\n",
    "        recon_cgdf=gpd.read_file(\"tmp.shp\")\n",
    "        new_latitudes = np.arange(-90,90, NETCDF_GRID_RESOLUTION)\n",
    "        new_longitudes = np.arange(-180,180, NETCDF_GRID_RESOLUTION)\n",
    "        \n",
    "        \n",
    "        # Interpolate the data array along both latitude and longitude dimensions\n",
    "        # # Using 'linear' interpolation; other methods like 'nearest' are also available\n",
    "        # ds_interp = ds.interp(Latitude=new_latitudes, Longitude=new_longitudes, method='linear')\n",
    "        # ds_interp_copy = ds_copy.interp(Latitude=new_latitudes, Longitude=new_longitudes, method='linear')\n",
    "\n",
    "\n",
    "       \n",
    "        db = xr.open_dataset(f'{DEFAULT_OUTPUT_NetCDF}/{ml_model_name}_Model/{ml_model_name}_Model_{MODEL_NAME}_{reconstruction_time}.nc')\n",
    "        # Interpolate 'db' to match the grid of 'ds_interp'\n",
    "        # db_interp = db.interp(Latitude=new_latitudes, Longitude=new_longitudes, method='linear')\n",
    "        # db_interp_nearest = db_interp.interpolate_na(dim=['Latitude', 'Longitude'], method='nearest',fill_value=\"extrapolate\")\n",
    "        \n",
    "        db_interp=db\n",
    "        db_gdf=db_interp.to_dataframe().reset_index().dropna()\n",
    "        # db_gdf=db.to_dataframe().reset_index().dropna()\n",
    "        columns=['Latitude','Longitude',f'Elevation{ml_model_name}']\n",
    "    \n",
    "        all_points=db_interp.to_dataframe().reset_index()\n",
    "        # all_points=ds_interp.to_dataframe().reset_index()\n",
    "        all_nan = all_points[all_points[f'Elevation{ml_model_name}'].isna()]\n",
    "        all_elevation = all_points[all_points[f'Elevation{ml_model_name}'].isna()==False]\n",
    "        all_nan_gdf=gpd.GeoDataFrame(all_nan,geometry=gpd.points_from_xy(all_nan['Longitude'],all_nan['Latitude']))\n",
    "        all_nan_gdf=all_nan_gdf.set_crs(\"epsg:4326\")\n",
    "        all_within_continents=gpd.sjoin(all_nan_gdf,recon_cgdf,predicate='within',how='left')\n",
    "        all_within_continents=all_within_continents.dropna(subset=['ANCHOR', 'TIME', 'FILE1', 'RECONFILE1', 'PLATEID1', 'FROMAGE', 'TOAGE',\n",
    "               'NAME', 'PLATEID2', 'GPGIM_TYPE', 'L_PLATE', 'R_PLATE', 'SPREAD_ASY',\n",
    "               'IMPORT_AGE'])\n",
    "        \n",
    "        all_outside_continents = all_nan_gdf[~all_nan_gdf.index.isin(all_within_continents.index)]\n",
    "        all_outside_continents[f'Elevation{ml_model_name}']=-4000\n",
    "        all_within_continents[f'Elevation{ml_model_name}']=100\n",
    "        \n",
    "     \n",
    "        combined=pd.concat([all_outside_continents[columns],all_within_continents[columns],db_gdf[columns]])\n",
    "        # combined=pd.concat([all_outside_continents[columns],all_within_continents[columns]])#,db_gdf[columns]])\n",
    "        combined_gdf=gpd.GeoDataFrame(combined,geometry=gpd.points_from_xy(combined['Longitude'],combined['Latitude']))\n",
    "        \n",
    "        nan_cdf=df_to_NetCDF(combined['Longitude'],combined['Latitude'],combined[f'Elevation{ml_model_name}'])\n",
    "        \n",
    "         # Interpolating first along Latitude\n",
    "        \n",
    "        \n",
    "        # z_smooth2=gplately.grids.fill_raster(nan_cdf.values)\n",
    "        # z_smooth = nan_gaussian_filter(z_smooth2, sigma=4)\n",
    "        # interpolated_data_array = nan_cdf\n",
    "    \n",
    "        # cdf=post_process_grid(nan_cdf,\"Sa\",'z',threshold_distance=10,n_neighbors=5)\n",
    "    \n",
    "        \n",
    "        z_smooth2=gplately.grids.fill_raster(nan_cdf.values)\n",
    "        \n",
    "        z_smooth = nan_gaussian_filter(z_smooth2, sigma=4)\n",
    "        # z_smooth = nan_gaussian_filter(cdf.values, sigma=4)\n",
    "    # Create a new xarray Dataset with the smoothed data\n",
    "\n",
    "\n",
    "    \n",
    "        ds_smooth = xr.Dataset(\n",
    "            {\n",
    "                f'Elevation{ml_model_name}': (('Latitude', 'Longitude'), z_smooth)\n",
    "            },\n",
    "            coords={\n",
    "                'Latitude': db_interp['Latitude'].values,\n",
    "                'Longitude': db_interp['Longitude'].values,\n",
    "            }\n",
    "        )\n",
    "        ds_smooth = ds_smooth.where(~db_interp.isnull(), np.nan)\n",
    "    \n",
    "        da_smooth=post_process_grid(ds_smooth[f'Elevation{ml_model_name}'],\"Sa\",'z',threshold_distance=5,n_neighbors=5)\n",
    "        \n",
    "        ds_smooth = xr.Dataset(\n",
    "            {\n",
    "                f'Elevation{ml_model_name}': (('Latitude', 'Longitude'), da_smooth.values)\n",
    "            },\n",
    "            coords={\n",
    "                'Latitude': db_interp['Latitude'].values,\n",
    "                'Longitude': db_interp['Longitude'].values,\n",
    "            }\n",
    "        )   \n",
    "        # ds_smooth=ds_smooth.to_dataset(name='ElevationRF')\n",
    "    \n",
    "        # Define compression settings if needed\n",
    "        compression = {'zlib': True, 'complevel': 9}  # Adjust compression level as needed\n",
    "        \n",
    "        # Save the new dataset to a NetCDF file\n",
    "        output_file = f\"{DEFAULT_OUTPUT_NetCDF}/{WINDOW_SIZE}_processed/{ml_model_name}_Model/{ml_model_name}_Model_{MODEL_NAME}_{reconstruction_time}.nc\"\n",
    "        ds_smooth.to_netcdf(output_file, encoding={f'Elevation{ml_model_name}': compression})\n",
    "        print(\"Saved!\")\n",
    "    except Exception as e:\n",
    "        print(f\"Skipping grid ={reconstruction_time} Ma\")\n",
    "        print(e)\n",
    "        pass\n",
    "    \n",
    "    \n",
    "\n"
   ]
  },
  {
   "cell_type": "code",
   "execution_count": null,
   "id": "a1a594f6-4d95-41da-bcc5-462b603bed0c",
   "metadata": {},
   "outputs": [],
   "source": []
  },
  {
   "cell_type": "markdown",
   "id": "38b82de6-5d6b-44c3-83e5-6f427c2c4f0f",
   "metadata": {},
   "source": [
    "# Change From Mantle Reference Frame to Paleomag Reference Frame"
   ]
  },
  {
   "cell_type": "code",
   "execution_count": 27,
   "id": "aca41a77-e425-453e-ba8a-d04311cb85c7",
   "metadata": {},
   "outputs": [
    {
     "name": "stdout",
     "output_type": "stream",
     "text": [
      "Rotating grids:0 Ma\n",
      "Rotating grids:1 Ma\n",
      "Rotating grids:2 Ma\n",
      "Rotating grids:3 Ma\n",
      "Rotating grids:4 Ma\n",
      "Rotating grids:5 Ma\n",
      "Rotating grids:6 Ma\n",
      "Rotating grids:7 Ma\n",
      "Rotating grids:8 Ma\n",
      "Rotating grids:9 Ma\n"
     ]
    }
   ],
   "source": [
    "from gplately import Raster\n",
    "create_directory_if_not_exists(f\"{DEFAULT_OUTPUT_NetCDF}/{WINDOW_SIZE}_processed/RF_Model_Paleomag\")\n",
    "\n",
    "for reconstruction_time in all_times:\n",
    "    print(f\"Rotating grids:{reconstruction_time} Ma\")\n",
    "    da=xr.open_dataset(f'{DEFAULT_OUTPUT_NetCDF}/{WINDOW_SIZE}_processed/RF_Model/RF_Model_{MODEL_NAME}_{reconstruction_time}.nc')\n",
    "    raster=Raster(data=da.ElevationRF, plate_reconstruction=PK.model, extent='global',  time=reconstruction_time)\n",
    "    \n",
    "    raster.rotate_reference_frames(grid_spacing_degrees=NETCDF_GRID_RESOLUTION,\n",
    "                                   reconstruction_time=reconstruction_time, \n",
    "                                   from_rotation_features_or_model=PK.rotation_model, \n",
    "                                   to_rotation_features_or_model=PK.rotation_model, \n",
    "                                   from_rotation_reference_plate=Mantle_ID, \n",
    "                                   to_rotation_reference_plate=Paleomag_ID, \n",
    "                                   non_reference_plate=701, \n",
    "                                   output_name= f\"{DEFAULT_OUTPUT_NetCDF}/{WINDOW_SIZE}_processed/RF_Model_Paleomag/RF_Model_{MODEL_NAME}_{reconstruction_time}.nc\")\n",
    "\n"
   ]
  },
  {
   "cell_type": "code",
   "execution_count": 12,
   "id": "9679d346-3735-491b-91d4-35ebbb18723f",
   "metadata": {
    "tags": []
   },
   "outputs": [
    {
     "name": "stdout",
     "output_type": "stream",
     "text": [
      "Loading NetCDF files...\n",
      "Loaded /Volumes/Satyam/PaleotopographyFinal/NetCDF/25_processed/RFC_Model/RFC_Model_phase2NNR_0.nc\n",
      "Loaded /Volumes/Satyam/PaleotopographyFinal/NetCDF/25_processed/RFC_Model/RFC_Model_phase2NNR_3.nc\n",
      "Loaded /Volumes/Satyam/PaleotopographyFinal/NetCDF/25_processed/RFC_Model/RFC_Model_phase2NNR_6.nc\n",
      "Loaded /Volumes/Satyam/PaleotopographyFinal/NetCDF/25_processed/RFC_Model/RFC_Model_phase2NNR_9.nc\n",
      "Loaded /Volumes/Satyam/PaleotopographyFinal/NetCDF/25_processed/RFC_Model/RFC_Model_phase2NNR_12.nc\n",
      "Loaded /Volumes/Satyam/PaleotopographyFinal/NetCDF/25_processed/RFC_Model/RFC_Model_phase2NNR_15.nc\n",
      "Loaded /Volumes/Satyam/PaleotopographyFinal/NetCDF/25_processed/RFC_Model/RFC_Model_phase2NNR_18.nc\n",
      "Loaded /Volumes/Satyam/PaleotopographyFinal/NetCDF/25_processed/RFC_Model/RFC_Model_phase2NNR_21.nc\n",
      "Loaded /Volumes/Satyam/PaleotopographyFinal/NetCDF/25_processed/RFC_Model/RFC_Model_phase2NNR_24.nc\n",
      "Loaded /Volumes/Satyam/PaleotopographyFinal/NetCDF/25_processed/RFC_Model/RFC_Model_phase2NNR_27.nc\n",
      "Loaded /Volumes/Satyam/PaleotopographyFinal/NetCDF/25_processed/RFC_Model/RFC_Model_phase2NNR_30.nc\n",
      "Loaded /Volumes/Satyam/PaleotopographyFinal/NetCDF/25_processed/RFC_Model/RFC_Model_phase2NNR_33.nc\n",
      "Loaded /Volumes/Satyam/PaleotopographyFinal/NetCDF/25_processed/RFC_Model/RFC_Model_phase2NNR_36.nc\n",
      "Loaded /Volumes/Satyam/PaleotopographyFinal/NetCDF/25_processed/RFC_Model/RFC_Model_phase2NNR_39.nc\n",
      "Loaded /Volumes/Satyam/PaleotopographyFinal/NetCDF/25_processed/RFC_Model/RFC_Model_phase2NNR_42.nc\n",
      "Loaded /Volumes/Satyam/PaleotopographyFinal/NetCDF/25_processed/RFC_Model/RFC_Model_phase2NNR_45.nc\n",
      "Loaded /Volumes/Satyam/PaleotopographyFinal/NetCDF/25_processed/RFC_Model/RFC_Model_phase2NNR_48.nc\n",
      "Loaded /Volumes/Satyam/PaleotopographyFinal/NetCDF/25_processed/RFC_Model/RFC_Model_phase2NNR_51.nc\n",
      "Loaded /Volumes/Satyam/PaleotopographyFinal/NetCDF/25_processed/RFC_Model/RFC_Model_phase2NNR_54.nc\n",
      "Loaded /Volumes/Satyam/PaleotopographyFinal/NetCDF/25_processed/RFC_Model/RFC_Model_phase2NNR_57.nc\n",
      "Loaded /Volumes/Satyam/PaleotopographyFinal/NetCDF/25_processed/RFC_Model/RFC_Model_phase2NNR_60.nc\n",
      "Loaded /Volumes/Satyam/PaleotopographyFinal/NetCDF/25_processed/RFC_Model/RFC_Model_phase2NNR_63.nc\n",
      "Loaded /Volumes/Satyam/PaleotopographyFinal/NetCDF/25_processed/RFC_Model/RFC_Model_phase2NNR_66.nc\n",
      "Loaded /Volumes/Satyam/PaleotopographyFinal/NetCDF/25_processed/RFC_Model/RFC_Model_phase2NNR_69.nc\n",
      "Loaded /Volumes/Satyam/PaleotopographyFinal/NetCDF/25_processed/RFC_Model/RFC_Model_phase2NNR_72.nc\n",
      "Loaded /Volumes/Satyam/PaleotopographyFinal/NetCDF/25_processed/RFC_Model/RFC_Model_phase2NNR_75.nc\n",
      "Loaded /Volumes/Satyam/PaleotopographyFinal/NetCDF/25_processed/RFC_Model/RFC_Model_phase2NNR_78.nc\n",
      "Loaded /Volumes/Satyam/PaleotopographyFinal/NetCDF/25_processed/RFC_Model/RFC_Model_phase2NNR_81.nc\n",
      "Loaded /Volumes/Satyam/PaleotopographyFinal/NetCDF/25_processed/RFC_Model/RFC_Model_phase2NNR_84.nc\n",
      "Loaded /Volumes/Satyam/PaleotopographyFinal/NetCDF/25_processed/RFC_Model/RFC_Model_phase2NNR_87.nc\n",
      "Loaded /Volumes/Satyam/PaleotopographyFinal/NetCDF/25_processed/RFC_Model/RFC_Model_phase2NNR_90.nc\n",
      "Loaded /Volumes/Satyam/PaleotopographyFinal/NetCDF/25_processed/RFC_Model/RFC_Model_phase2NNR_93.nc\n",
      "Loaded /Volumes/Satyam/PaleotopographyFinal/NetCDF/25_processed/RFC_Model/RFC_Model_phase2NNR_96.nc\n",
      "Loaded /Volumes/Satyam/PaleotopographyFinal/NetCDF/25_processed/RFC_Model/RFC_Model_phase2NNR_99.nc\n",
      "Loaded /Volumes/Satyam/PaleotopographyFinal/NetCDF/25_processed/RFC_Model/RFC_Model_phase2NNR_102.nc\n",
      "Loaded /Volumes/Satyam/PaleotopographyFinal/NetCDF/25_processed/RFC_Model/RFC_Model_phase2NNR_105.nc\n",
      "Loaded /Volumes/Satyam/PaleotopographyFinal/NetCDF/25_processed/RFC_Model/RFC_Model_phase2NNR_108.nc\n",
      "Loaded /Volumes/Satyam/PaleotopographyFinal/NetCDF/25_processed/RFC_Model/RFC_Model_phase2NNR_111.nc\n",
      "Loaded /Volumes/Satyam/PaleotopographyFinal/NetCDF/25_processed/RFC_Model/RFC_Model_phase2NNR_114.nc\n",
      "Loaded /Volumes/Satyam/PaleotopographyFinal/NetCDF/25_processed/RFC_Model/RFC_Model_phase2NNR_117.nc\n",
      "Loaded /Volumes/Satyam/PaleotopographyFinal/NetCDF/25_processed/RFC_Model/RFC_Model_phase2NNR_120.nc\n",
      "Loaded /Volumes/Satyam/PaleotopographyFinal/NetCDF/25_processed/RFC_Model/RFC_Model_phase2NNR_123.nc\n",
      "Loaded /Volumes/Satyam/PaleotopographyFinal/NetCDF/25_processed/RFC_Model/RFC_Model_phase2NNR_126.nc\n",
      "Loaded /Volumes/Satyam/PaleotopographyFinal/NetCDF/25_processed/RFC_Model/RFC_Model_phase2NNR_129.nc\n",
      "Loaded /Volumes/Satyam/PaleotopographyFinal/NetCDF/25_processed/RFC_Model/RFC_Model_phase2NNR_132.nc\n",
      "Loaded /Volumes/Satyam/PaleotopographyFinal/NetCDF/25_processed/RFC_Model/RFC_Model_phase2NNR_135.nc\n",
      "Loaded /Volumes/Satyam/PaleotopographyFinal/NetCDF/25_processed/RFC_Model/RFC_Model_phase2NNR_138.nc\n",
      "Loaded /Volumes/Satyam/PaleotopographyFinal/NetCDF/25_processed/RFC_Model/RFC_Model_phase2NNR_141.nc\n",
      "Loaded /Volumes/Satyam/PaleotopographyFinal/NetCDF/25_processed/RFC_Model/RFC_Model_phase2NNR_144.nc\n",
      "Loaded /Volumes/Satyam/PaleotopographyFinal/NetCDF/25_processed/RFC_Model/RFC_Model_phase2NNR_147.nc\n",
      "Loaded /Volumes/Satyam/PaleotopographyFinal/NetCDF/25_processed/RFC_Model/RFC_Model_phase2NNR_150.nc\n",
      "Loaded /Volumes/Satyam/PaleotopographyFinal/NetCDF/25_processed/RFC_Model/RFC_Model_phase2NNR_153.nc\n",
      "Loaded /Volumes/Satyam/PaleotopographyFinal/NetCDF/25_processed/RFC_Model/RFC_Model_phase2NNR_156.nc\n",
      "Loaded /Volumes/Satyam/PaleotopographyFinal/NetCDF/25_processed/RFC_Model/RFC_Model_phase2NNR_159.nc\n",
      "Loaded /Volumes/Satyam/PaleotopographyFinal/NetCDF/25_processed/RFC_Model/RFC_Model_phase2NNR_162.nc\n",
      "Loaded /Volumes/Satyam/PaleotopographyFinal/NetCDF/25_processed/RFC_Model/RFC_Model_phase2NNR_165.nc\n",
      "Loaded /Volumes/Satyam/PaleotopographyFinal/NetCDF/25_processed/RFC_Model/RFC_Model_phase2NNR_168.nc\n",
      "Loaded /Volumes/Satyam/PaleotopographyFinal/NetCDF/25_processed/RFC_Model/RFC_Model_phase2NNR_171.nc\n",
      "Loaded /Volumes/Satyam/PaleotopographyFinal/NetCDF/25_processed/RFC_Model/RFC_Model_phase2NNR_174.nc\n",
      "Loaded /Volumes/Satyam/PaleotopographyFinal/NetCDF/25_processed/RFC_Model/RFC_Model_phase2NNR_177.nc\n",
      "Loaded /Volumes/Satyam/PaleotopographyFinal/NetCDF/25_processed/RFC_Model/RFC_Model_phase2NNR_180.nc\n",
      "Loaded /Volumes/Satyam/PaleotopographyFinal/NetCDF/25_processed/RFC_Model/RFC_Model_phase2NNR_183.nc\n",
      "Loaded /Volumes/Satyam/PaleotopographyFinal/NetCDF/25_processed/RFC_Model/RFC_Model_phase2NNR_186.nc\n",
      "Loaded /Volumes/Satyam/PaleotopographyFinal/NetCDF/25_processed/RFC_Model/RFC_Model_phase2NNR_189.nc\n",
      "Loaded /Volumes/Satyam/PaleotopographyFinal/NetCDF/25_processed/RFC_Model/RFC_Model_phase2NNR_192.nc\n",
      "Loaded /Volumes/Satyam/PaleotopographyFinal/NetCDF/25_processed/RFC_Model/RFC_Model_phase2NNR_195.nc\n",
      "Loaded /Volumes/Satyam/PaleotopographyFinal/NetCDF/25_processed/RFC_Model/RFC_Model_phase2NNR_198.nc\n",
      "Loaded /Volumes/Satyam/PaleotopographyFinal/NetCDF/25_processed/RFC_Model/RFC_Model_phase2NNR_201.nc\n",
      "Loaded /Volumes/Satyam/PaleotopographyFinal/NetCDF/25_processed/RFC_Model/RFC_Model_phase2NNR_204.nc\n",
      "Loaded /Volumes/Satyam/PaleotopographyFinal/NetCDF/25_processed/RFC_Model/RFC_Model_phase2NNR_207.nc\n",
      "Loaded /Volumes/Satyam/PaleotopographyFinal/NetCDF/25_processed/RFC_Model/RFC_Model_phase2NNR_210.nc\n",
      "Loaded /Volumes/Satyam/PaleotopographyFinal/NetCDF/25_processed/RFC_Model/RFC_Model_phase2NNR_213.nc\n",
      "Loaded /Volumes/Satyam/PaleotopographyFinal/NetCDF/25_processed/RFC_Model/RFC_Model_phase2NNR_216.nc\n",
      "Loaded /Volumes/Satyam/PaleotopographyFinal/NetCDF/25_processed/RFC_Model/RFC_Model_phase2NNR_219.nc\n",
      "Loaded /Volumes/Satyam/PaleotopographyFinal/NetCDF/25_processed/RFC_Model/RFC_Model_phase2NNR_222.nc\n",
      "Loaded /Volumes/Satyam/PaleotopographyFinal/NetCDF/25_processed/RFC_Model/RFC_Model_phase2NNR_225.nc\n",
      "Loaded /Volumes/Satyam/PaleotopographyFinal/NetCDF/25_processed/RFC_Model/RFC_Model_phase2NNR_228.nc\n",
      "Loaded /Volumes/Satyam/PaleotopographyFinal/NetCDF/25_processed/RFC_Model/RFC_Model_phase2NNR_231.nc\n",
      "Loaded /Volumes/Satyam/PaleotopographyFinal/NetCDF/25_processed/RFC_Model/RFC_Model_phase2NNR_234.nc\n",
      "Loaded /Volumes/Satyam/PaleotopographyFinal/NetCDF/25_processed/RFC_Model/RFC_Model_phase2NNR_237.nc\n",
      "Loaded /Volumes/Satyam/PaleotopographyFinal/NetCDF/25_processed/RFC_Model/RFC_Model_phase2NNR_240.nc\n",
      "Loaded /Volumes/Satyam/PaleotopographyFinal/NetCDF/25_processed/RFC_Model/RFC_Model_phase2NNR_243.nc\n",
      "Loaded /Volumes/Satyam/PaleotopographyFinal/NetCDF/25_processed/RFC_Model/RFC_Model_phase2NNR_246.nc\n",
      "Loaded /Volumes/Satyam/PaleotopographyFinal/NetCDF/25_processed/RFC_Model/RFC_Model_phase2NNR_249.nc\n",
      "Loaded /Volumes/Satyam/PaleotopographyFinal/NetCDF/25_processed/RFC_Model/RFC_Model_phase2NNR_252.nc\n",
      "Loaded /Volumes/Satyam/PaleotopographyFinal/NetCDF/25_processed/RFC_Model/RFC_Model_phase2NNR_255.nc\n",
      "Loaded /Volumes/Satyam/PaleotopographyFinal/NetCDF/25_processed/RFC_Model/RFC_Model_phase2NNR_258.nc\n",
      "Loaded /Volumes/Satyam/PaleotopographyFinal/NetCDF/25_processed/RFC_Model/RFC_Model_phase2NNR_261.nc\n",
      "Loaded /Volumes/Satyam/PaleotopographyFinal/NetCDF/25_processed/RFC_Model/RFC_Model_phase2NNR_264.nc\n",
      "Loaded /Volumes/Satyam/PaleotopographyFinal/NetCDF/25_processed/RFC_Model/RFC_Model_phase2NNR_267.nc\n",
      "Loaded /Volumes/Satyam/PaleotopographyFinal/NetCDF/25_processed/RFC_Model/RFC_Model_phase2NNR_270.nc\n",
      "Loaded /Volumes/Satyam/PaleotopographyFinal/NetCDF/25_processed/RFC_Model/RFC_Model_phase2NNR_273.nc\n",
      "Loaded /Volumes/Satyam/PaleotopographyFinal/NetCDF/25_processed/RFC_Model/RFC_Model_phase2NNR_276.nc\n",
      "Loaded /Volumes/Satyam/PaleotopographyFinal/NetCDF/25_processed/RFC_Model/RFC_Model_phase2NNR_279.nc\n",
      "Loaded /Volumes/Satyam/PaleotopographyFinal/NetCDF/25_processed/RFC_Model/RFC_Model_phase2NNR_282.nc\n",
      "Loaded /Volumes/Satyam/PaleotopographyFinal/NetCDF/25_processed/RFC_Model/RFC_Model_phase2NNR_285.nc\n",
      "Loaded /Volumes/Satyam/PaleotopographyFinal/NetCDF/25_processed/RFC_Model/RFC_Model_phase2NNR_288.nc\n",
      "Loaded /Volumes/Satyam/PaleotopographyFinal/NetCDF/25_processed/RFC_Model/RFC_Model_phase2NNR_291.nc\n",
      "Loaded /Volumes/Satyam/PaleotopographyFinal/NetCDF/25_processed/RFC_Model/RFC_Model_phase2NNR_294.nc\n",
      "Loaded /Volumes/Satyam/PaleotopographyFinal/NetCDF/25_processed/RFC_Model/RFC_Model_phase2NNR_297.nc\n",
      "Loaded /Volumes/Satyam/PaleotopographyFinal/NetCDF/25_processed/RFC_Model/RFC_Model_phase2NNR_300.nc\n",
      "Loaded /Volumes/Satyam/PaleotopographyFinal/NetCDF/25_processed/RFC_Model/RFC_Model_phase2NNR_303.nc\n",
      "Loaded /Volumes/Satyam/PaleotopographyFinal/NetCDF/25_processed/RFC_Model/RFC_Model_phase2NNR_306.nc\n",
      "Loaded /Volumes/Satyam/PaleotopographyFinal/NetCDF/25_processed/RFC_Model/RFC_Model_phase2NNR_309.nc\n",
      "Loaded /Volumes/Satyam/PaleotopographyFinal/NetCDF/25_processed/RFC_Model/RFC_Model_phase2NNR_312.nc\n",
      "Loaded /Volumes/Satyam/PaleotopographyFinal/NetCDF/25_processed/RFC_Model/RFC_Model_phase2NNR_315.nc\n",
      "Loaded /Volumes/Satyam/PaleotopographyFinal/NetCDF/25_processed/RFC_Model/RFC_Model_phase2NNR_318.nc\n",
      "Loaded /Volumes/Satyam/PaleotopographyFinal/NetCDF/25_processed/RFC_Model/RFC_Model_phase2NNR_321.nc\n",
      "Loaded /Volumes/Satyam/PaleotopographyFinal/NetCDF/25_processed/RFC_Model/RFC_Model_phase2NNR_324.nc\n",
      "Loaded /Volumes/Satyam/PaleotopographyFinal/NetCDF/25_processed/RFC_Model/RFC_Model_phase2NNR_327.nc\n",
      "Loaded /Volumes/Satyam/PaleotopographyFinal/NetCDF/25_processed/RFC_Model/RFC_Model_phase2NNR_330.nc\n",
      "Loaded /Volumes/Satyam/PaleotopographyFinal/NetCDF/25_processed/RFC_Model/RFC_Model_phase2NNR_333.nc\n",
      "Loaded /Volumes/Satyam/PaleotopographyFinal/NetCDF/25_processed/RFC_Model/RFC_Model_phase2NNR_336.nc\n",
      "Loaded /Volumes/Satyam/PaleotopographyFinal/NetCDF/25_processed/RFC_Model/RFC_Model_phase2NNR_339.nc\n",
      "Loaded /Volumes/Satyam/PaleotopographyFinal/NetCDF/25_processed/RFC_Model/RFC_Model_phase2NNR_342.nc\n",
      "Loaded /Volumes/Satyam/PaleotopographyFinal/NetCDF/25_processed/RFC_Model/RFC_Model_phase2NNR_345.nc\n",
      "Loaded /Volumes/Satyam/PaleotopographyFinal/NetCDF/25_processed/RFC_Model/RFC_Model_phase2NNR_348.nc\n",
      "Loaded /Volumes/Satyam/PaleotopographyFinal/NetCDF/25_processed/RFC_Model/RFC_Model_phase2NNR_351.nc\n",
      "Loaded /Volumes/Satyam/PaleotopographyFinal/NetCDF/25_processed/RFC_Model/RFC_Model_phase2NNR_354.nc\n",
      "Loaded /Volumes/Satyam/PaleotopographyFinal/NetCDF/25_processed/RFC_Model/RFC_Model_phase2NNR_357.nc\n",
      "Loaded /Volumes/Satyam/PaleotopographyFinal/NetCDF/25_processed/RFC_Model/RFC_Model_phase2NNR_360.nc\n",
      "Loaded /Volumes/Satyam/PaleotopographyFinal/NetCDF/25_processed/RFC_Model/RFC_Model_phase2NNR_363.nc\n",
      "Loaded /Volumes/Satyam/PaleotopographyFinal/NetCDF/25_processed/RFC_Model/RFC_Model_phase2NNR_366.nc\n",
      "Loaded /Volumes/Satyam/PaleotopographyFinal/NetCDF/25_processed/RFC_Model/RFC_Model_phase2NNR_369.nc\n",
      "Loaded /Volumes/Satyam/PaleotopographyFinal/NetCDF/25_processed/RFC_Model/RFC_Model_phase2NNR_372.nc\n",
      "Loaded /Volumes/Satyam/PaleotopographyFinal/NetCDF/25_processed/RFC_Model/RFC_Model_phase2NNR_375.nc\n",
      "Loaded /Volumes/Satyam/PaleotopographyFinal/NetCDF/25_processed/RFC_Model/RFC_Model_phase2NNR_378.nc\n",
      "Combining datasets...\n",
      "Filling NaN values...\n",
      "Creating target time array...\n",
      "Interpolating to every 1 Ma interval...\n",
      "Applying temporal smoothing...\n",
      "Applied smoothing to ElevationRFC\n",
      "Saving smoothed datasets...\n",
      "Saving smoothed datasets...\n",
      "Saved /Volumes/Satyam/PaleotopographyFinal/NetCDF/25_processed_interpolated/RFC_Model/RFC_Model_phase2NNR_0.nc\n",
      "Saved /Volumes/Satyam/PaleotopographyFinal/NetCDF/25_processed_interpolated/RFC_Model/RFC_Model_phase2NNR_1.nc\n",
      "Saved /Volumes/Satyam/PaleotopographyFinal/NetCDF/25_processed_interpolated/RFC_Model/RFC_Model_phase2NNR_2.nc\n",
      "Saved /Volumes/Satyam/PaleotopographyFinal/NetCDF/25_processed_interpolated/RFC_Model/RFC_Model_phase2NNR_3.nc\n",
      "Saved /Volumes/Satyam/PaleotopographyFinal/NetCDF/25_processed_interpolated/RFC_Model/RFC_Model_phase2NNR_4.nc\n",
      "Saved /Volumes/Satyam/PaleotopographyFinal/NetCDF/25_processed_interpolated/RFC_Model/RFC_Model_phase2NNR_5.nc\n",
      "Saved /Volumes/Satyam/PaleotopographyFinal/NetCDF/25_processed_interpolated/RFC_Model/RFC_Model_phase2NNR_6.nc\n",
      "Saved /Volumes/Satyam/PaleotopographyFinal/NetCDF/25_processed_interpolated/RFC_Model/RFC_Model_phase2NNR_7.nc\n",
      "Saved /Volumes/Satyam/PaleotopographyFinal/NetCDF/25_processed_interpolated/RFC_Model/RFC_Model_phase2NNR_8.nc\n",
      "Saved /Volumes/Satyam/PaleotopographyFinal/NetCDF/25_processed_interpolated/RFC_Model/RFC_Model_phase2NNR_9.nc\n",
      "Saved /Volumes/Satyam/PaleotopographyFinal/NetCDF/25_processed_interpolated/RFC_Model/RFC_Model_phase2NNR_10.nc\n",
      "Saved /Volumes/Satyam/PaleotopographyFinal/NetCDF/25_processed_interpolated/RFC_Model/RFC_Model_phase2NNR_11.nc\n",
      "Saved /Volumes/Satyam/PaleotopographyFinal/NetCDF/25_processed_interpolated/RFC_Model/RFC_Model_phase2NNR_12.nc\n",
      "Saved /Volumes/Satyam/PaleotopographyFinal/NetCDF/25_processed_interpolated/RFC_Model/RFC_Model_phase2NNR_13.nc\n",
      "Saved /Volumes/Satyam/PaleotopographyFinal/NetCDF/25_processed_interpolated/RFC_Model/RFC_Model_phase2NNR_14.nc\n",
      "Saved /Volumes/Satyam/PaleotopographyFinal/NetCDF/25_processed_interpolated/RFC_Model/RFC_Model_phase2NNR_15.nc\n",
      "Saved /Volumes/Satyam/PaleotopographyFinal/NetCDF/25_processed_interpolated/RFC_Model/RFC_Model_phase2NNR_16.nc\n",
      "Saved /Volumes/Satyam/PaleotopographyFinal/NetCDF/25_processed_interpolated/RFC_Model/RFC_Model_phase2NNR_17.nc\n",
      "Saved /Volumes/Satyam/PaleotopographyFinal/NetCDF/25_processed_interpolated/RFC_Model/RFC_Model_phase2NNR_18.nc\n",
      "Saved /Volumes/Satyam/PaleotopographyFinal/NetCDF/25_processed_interpolated/RFC_Model/RFC_Model_phase2NNR_19.nc\n",
      "Saved /Volumes/Satyam/PaleotopographyFinal/NetCDF/25_processed_interpolated/RFC_Model/RFC_Model_phase2NNR_20.nc\n",
      "Saved /Volumes/Satyam/PaleotopographyFinal/NetCDF/25_processed_interpolated/RFC_Model/RFC_Model_phase2NNR_21.nc\n",
      "Saved /Volumes/Satyam/PaleotopographyFinal/NetCDF/25_processed_interpolated/RFC_Model/RFC_Model_phase2NNR_22.nc\n",
      "Saved /Volumes/Satyam/PaleotopographyFinal/NetCDF/25_processed_interpolated/RFC_Model/RFC_Model_phase2NNR_23.nc\n",
      "Saved /Volumes/Satyam/PaleotopographyFinal/NetCDF/25_processed_interpolated/RFC_Model/RFC_Model_phase2NNR_24.nc\n",
      "Saved /Volumes/Satyam/PaleotopographyFinal/NetCDF/25_processed_interpolated/RFC_Model/RFC_Model_phase2NNR_25.nc\n",
      "Saved /Volumes/Satyam/PaleotopographyFinal/NetCDF/25_processed_interpolated/RFC_Model/RFC_Model_phase2NNR_26.nc\n",
      "Saved /Volumes/Satyam/PaleotopographyFinal/NetCDF/25_processed_interpolated/RFC_Model/RFC_Model_phase2NNR_27.nc\n",
      "Saved /Volumes/Satyam/PaleotopographyFinal/NetCDF/25_processed_interpolated/RFC_Model/RFC_Model_phase2NNR_28.nc\n",
      "Saved /Volumes/Satyam/PaleotopographyFinal/NetCDF/25_processed_interpolated/RFC_Model/RFC_Model_phase2NNR_29.nc\n",
      "Saved /Volumes/Satyam/PaleotopographyFinal/NetCDF/25_processed_interpolated/RFC_Model/RFC_Model_phase2NNR_30.nc\n",
      "Saved /Volumes/Satyam/PaleotopographyFinal/NetCDF/25_processed_interpolated/RFC_Model/RFC_Model_phase2NNR_31.nc\n",
      "Saved /Volumes/Satyam/PaleotopographyFinal/NetCDF/25_processed_interpolated/RFC_Model/RFC_Model_phase2NNR_32.nc\n",
      "Saved /Volumes/Satyam/PaleotopographyFinal/NetCDF/25_processed_interpolated/RFC_Model/RFC_Model_phase2NNR_33.nc\n",
      "Saved /Volumes/Satyam/PaleotopographyFinal/NetCDF/25_processed_interpolated/RFC_Model/RFC_Model_phase2NNR_34.nc\n",
      "Saved /Volumes/Satyam/PaleotopographyFinal/NetCDF/25_processed_interpolated/RFC_Model/RFC_Model_phase2NNR_35.nc\n",
      "Saved /Volumes/Satyam/PaleotopographyFinal/NetCDF/25_processed_interpolated/RFC_Model/RFC_Model_phase2NNR_36.nc\n",
      "Saved /Volumes/Satyam/PaleotopographyFinal/NetCDF/25_processed_interpolated/RFC_Model/RFC_Model_phase2NNR_37.nc\n",
      "Saved /Volumes/Satyam/PaleotopographyFinal/NetCDF/25_processed_interpolated/RFC_Model/RFC_Model_phase2NNR_38.nc\n",
      "Saved /Volumes/Satyam/PaleotopographyFinal/NetCDF/25_processed_interpolated/RFC_Model/RFC_Model_phase2NNR_39.nc\n",
      "Saved /Volumes/Satyam/PaleotopographyFinal/NetCDF/25_processed_interpolated/RFC_Model/RFC_Model_phase2NNR_40.nc\n",
      "Saved /Volumes/Satyam/PaleotopographyFinal/NetCDF/25_processed_interpolated/RFC_Model/RFC_Model_phase2NNR_41.nc\n",
      "Saved /Volumes/Satyam/PaleotopographyFinal/NetCDF/25_processed_interpolated/RFC_Model/RFC_Model_phase2NNR_42.nc\n",
      "Saved /Volumes/Satyam/PaleotopographyFinal/NetCDF/25_processed_interpolated/RFC_Model/RFC_Model_phase2NNR_43.nc\n",
      "Saved /Volumes/Satyam/PaleotopographyFinal/NetCDF/25_processed_interpolated/RFC_Model/RFC_Model_phase2NNR_44.nc\n",
      "Saved /Volumes/Satyam/PaleotopographyFinal/NetCDF/25_processed_interpolated/RFC_Model/RFC_Model_phase2NNR_45.nc\n",
      "Saved /Volumes/Satyam/PaleotopographyFinal/NetCDF/25_processed_interpolated/RFC_Model/RFC_Model_phase2NNR_46.nc\n",
      "Saved /Volumes/Satyam/PaleotopographyFinal/NetCDF/25_processed_interpolated/RFC_Model/RFC_Model_phase2NNR_47.nc\n",
      "Saved /Volumes/Satyam/PaleotopographyFinal/NetCDF/25_processed_interpolated/RFC_Model/RFC_Model_phase2NNR_48.nc\n",
      "Saved /Volumes/Satyam/PaleotopographyFinal/NetCDF/25_processed_interpolated/RFC_Model/RFC_Model_phase2NNR_49.nc\n",
      "Saved /Volumes/Satyam/PaleotopographyFinal/NetCDF/25_processed_interpolated/RFC_Model/RFC_Model_phase2NNR_50.nc\n",
      "Saved /Volumes/Satyam/PaleotopographyFinal/NetCDF/25_processed_interpolated/RFC_Model/RFC_Model_phase2NNR_51.nc\n",
      "Saved /Volumes/Satyam/PaleotopographyFinal/NetCDF/25_processed_interpolated/RFC_Model/RFC_Model_phase2NNR_52.nc\n",
      "Saved /Volumes/Satyam/PaleotopographyFinal/NetCDF/25_processed_interpolated/RFC_Model/RFC_Model_phase2NNR_53.nc\n",
      "Saved /Volumes/Satyam/PaleotopographyFinal/NetCDF/25_processed_interpolated/RFC_Model/RFC_Model_phase2NNR_54.nc\n",
      "Saved /Volumes/Satyam/PaleotopographyFinal/NetCDF/25_processed_interpolated/RFC_Model/RFC_Model_phase2NNR_55.nc\n",
      "Saved /Volumes/Satyam/PaleotopographyFinal/NetCDF/25_processed_interpolated/RFC_Model/RFC_Model_phase2NNR_56.nc\n",
      "Saved /Volumes/Satyam/PaleotopographyFinal/NetCDF/25_processed_interpolated/RFC_Model/RFC_Model_phase2NNR_57.nc\n",
      "Saved /Volumes/Satyam/PaleotopographyFinal/NetCDF/25_processed_interpolated/RFC_Model/RFC_Model_phase2NNR_58.nc\n",
      "Saved /Volumes/Satyam/PaleotopographyFinal/NetCDF/25_processed_interpolated/RFC_Model/RFC_Model_phase2NNR_59.nc\n",
      "Saved /Volumes/Satyam/PaleotopographyFinal/NetCDF/25_processed_interpolated/RFC_Model/RFC_Model_phase2NNR_60.nc\n",
      "Saved /Volumes/Satyam/PaleotopographyFinal/NetCDF/25_processed_interpolated/RFC_Model/RFC_Model_phase2NNR_61.nc\n",
      "Saved /Volumes/Satyam/PaleotopographyFinal/NetCDF/25_processed_interpolated/RFC_Model/RFC_Model_phase2NNR_62.nc\n",
      "Saved /Volumes/Satyam/PaleotopographyFinal/NetCDF/25_processed_interpolated/RFC_Model/RFC_Model_phase2NNR_63.nc\n",
      "Saved /Volumes/Satyam/PaleotopographyFinal/NetCDF/25_processed_interpolated/RFC_Model/RFC_Model_phase2NNR_64.nc\n",
      "Saved /Volumes/Satyam/PaleotopographyFinal/NetCDF/25_processed_interpolated/RFC_Model/RFC_Model_phase2NNR_65.nc\n",
      "Saved /Volumes/Satyam/PaleotopographyFinal/NetCDF/25_processed_interpolated/RFC_Model/RFC_Model_phase2NNR_66.nc\n",
      "Saved /Volumes/Satyam/PaleotopographyFinal/NetCDF/25_processed_interpolated/RFC_Model/RFC_Model_phase2NNR_67.nc\n",
      "Saved /Volumes/Satyam/PaleotopographyFinal/NetCDF/25_processed_interpolated/RFC_Model/RFC_Model_phase2NNR_68.nc\n",
      "Saved /Volumes/Satyam/PaleotopographyFinal/NetCDF/25_processed_interpolated/RFC_Model/RFC_Model_phase2NNR_69.nc\n",
      "Saved /Volumes/Satyam/PaleotopographyFinal/NetCDF/25_processed_interpolated/RFC_Model/RFC_Model_phase2NNR_70.nc\n",
      "Saved /Volumes/Satyam/PaleotopographyFinal/NetCDF/25_processed_interpolated/RFC_Model/RFC_Model_phase2NNR_71.nc\n",
      "Saved /Volumes/Satyam/PaleotopographyFinal/NetCDF/25_processed_interpolated/RFC_Model/RFC_Model_phase2NNR_72.nc\n",
      "Saved /Volumes/Satyam/PaleotopographyFinal/NetCDF/25_processed_interpolated/RFC_Model/RFC_Model_phase2NNR_73.nc\n",
      "Saved /Volumes/Satyam/PaleotopographyFinal/NetCDF/25_processed_interpolated/RFC_Model/RFC_Model_phase2NNR_74.nc\n",
      "Saved /Volumes/Satyam/PaleotopographyFinal/NetCDF/25_processed_interpolated/RFC_Model/RFC_Model_phase2NNR_75.nc\n",
      "Saved /Volumes/Satyam/PaleotopographyFinal/NetCDF/25_processed_interpolated/RFC_Model/RFC_Model_phase2NNR_76.nc\n",
      "Saved /Volumes/Satyam/PaleotopographyFinal/NetCDF/25_processed_interpolated/RFC_Model/RFC_Model_phase2NNR_77.nc\n",
      "Saved /Volumes/Satyam/PaleotopographyFinal/NetCDF/25_processed_interpolated/RFC_Model/RFC_Model_phase2NNR_78.nc\n",
      "Saved /Volumes/Satyam/PaleotopographyFinal/NetCDF/25_processed_interpolated/RFC_Model/RFC_Model_phase2NNR_79.nc\n",
      "Saved /Volumes/Satyam/PaleotopographyFinal/NetCDF/25_processed_interpolated/RFC_Model/RFC_Model_phase2NNR_80.nc\n",
      "Saved /Volumes/Satyam/PaleotopographyFinal/NetCDF/25_processed_interpolated/RFC_Model/RFC_Model_phase2NNR_81.nc\n",
      "Saved /Volumes/Satyam/PaleotopographyFinal/NetCDF/25_processed_interpolated/RFC_Model/RFC_Model_phase2NNR_82.nc\n",
      "Saved /Volumes/Satyam/PaleotopographyFinal/NetCDF/25_processed_interpolated/RFC_Model/RFC_Model_phase2NNR_83.nc\n",
      "Saved /Volumes/Satyam/PaleotopographyFinal/NetCDF/25_processed_interpolated/RFC_Model/RFC_Model_phase2NNR_84.nc\n",
      "Saved /Volumes/Satyam/PaleotopographyFinal/NetCDF/25_processed_interpolated/RFC_Model/RFC_Model_phase2NNR_85.nc\n",
      "Saved /Volumes/Satyam/PaleotopographyFinal/NetCDF/25_processed_interpolated/RFC_Model/RFC_Model_phase2NNR_86.nc\n",
      "Saved /Volumes/Satyam/PaleotopographyFinal/NetCDF/25_processed_interpolated/RFC_Model/RFC_Model_phase2NNR_87.nc\n",
      "Saved /Volumes/Satyam/PaleotopographyFinal/NetCDF/25_processed_interpolated/RFC_Model/RFC_Model_phase2NNR_88.nc\n",
      "Saved /Volumes/Satyam/PaleotopographyFinal/NetCDF/25_processed_interpolated/RFC_Model/RFC_Model_phase2NNR_89.nc\n",
      "Saved /Volumes/Satyam/PaleotopographyFinal/NetCDF/25_processed_interpolated/RFC_Model/RFC_Model_phase2NNR_90.nc\n",
      "Saved /Volumes/Satyam/PaleotopographyFinal/NetCDF/25_processed_interpolated/RFC_Model/RFC_Model_phase2NNR_91.nc\n",
      "Saved /Volumes/Satyam/PaleotopographyFinal/NetCDF/25_processed_interpolated/RFC_Model/RFC_Model_phase2NNR_92.nc\n",
      "Saved /Volumes/Satyam/PaleotopographyFinal/NetCDF/25_processed_interpolated/RFC_Model/RFC_Model_phase2NNR_93.nc\n",
      "Saved /Volumes/Satyam/PaleotopographyFinal/NetCDF/25_processed_interpolated/RFC_Model/RFC_Model_phase2NNR_94.nc\n",
      "Saved /Volumes/Satyam/PaleotopographyFinal/NetCDF/25_processed_interpolated/RFC_Model/RFC_Model_phase2NNR_95.nc\n",
      "Saved /Volumes/Satyam/PaleotopographyFinal/NetCDF/25_processed_interpolated/RFC_Model/RFC_Model_phase2NNR_96.nc\n",
      "Saved /Volumes/Satyam/PaleotopographyFinal/NetCDF/25_processed_interpolated/RFC_Model/RFC_Model_phase2NNR_97.nc\n",
      "Saved /Volumes/Satyam/PaleotopographyFinal/NetCDF/25_processed_interpolated/RFC_Model/RFC_Model_phase2NNR_98.nc\n",
      "Saved /Volumes/Satyam/PaleotopographyFinal/NetCDF/25_processed_interpolated/RFC_Model/RFC_Model_phase2NNR_99.nc\n",
      "Saved /Volumes/Satyam/PaleotopographyFinal/NetCDF/25_processed_interpolated/RFC_Model/RFC_Model_phase2NNR_100.nc\n",
      "Saved /Volumes/Satyam/PaleotopographyFinal/NetCDF/25_processed_interpolated/RFC_Model/RFC_Model_phase2NNR_101.nc\n",
      "Saved /Volumes/Satyam/PaleotopographyFinal/NetCDF/25_processed_interpolated/RFC_Model/RFC_Model_phase2NNR_102.nc\n",
      "Saved /Volumes/Satyam/PaleotopographyFinal/NetCDF/25_processed_interpolated/RFC_Model/RFC_Model_phase2NNR_103.nc\n",
      "Saved /Volumes/Satyam/PaleotopographyFinal/NetCDF/25_processed_interpolated/RFC_Model/RFC_Model_phase2NNR_104.nc\n",
      "Saved /Volumes/Satyam/PaleotopographyFinal/NetCDF/25_processed_interpolated/RFC_Model/RFC_Model_phase2NNR_105.nc\n",
      "Saved /Volumes/Satyam/PaleotopographyFinal/NetCDF/25_processed_interpolated/RFC_Model/RFC_Model_phase2NNR_106.nc\n",
      "Saved /Volumes/Satyam/PaleotopographyFinal/NetCDF/25_processed_interpolated/RFC_Model/RFC_Model_phase2NNR_107.nc\n",
      "Saved /Volumes/Satyam/PaleotopographyFinal/NetCDF/25_processed_interpolated/RFC_Model/RFC_Model_phase2NNR_108.nc\n",
      "Saved /Volumes/Satyam/PaleotopographyFinal/NetCDF/25_processed_interpolated/RFC_Model/RFC_Model_phase2NNR_109.nc\n",
      "Saved /Volumes/Satyam/PaleotopographyFinal/NetCDF/25_processed_interpolated/RFC_Model/RFC_Model_phase2NNR_110.nc\n",
      "Saved /Volumes/Satyam/PaleotopographyFinal/NetCDF/25_processed_interpolated/RFC_Model/RFC_Model_phase2NNR_111.nc\n",
      "Saved /Volumes/Satyam/PaleotopographyFinal/NetCDF/25_processed_interpolated/RFC_Model/RFC_Model_phase2NNR_112.nc\n",
      "Saved /Volumes/Satyam/PaleotopographyFinal/NetCDF/25_processed_interpolated/RFC_Model/RFC_Model_phase2NNR_113.nc\n",
      "Saved /Volumes/Satyam/PaleotopographyFinal/NetCDF/25_processed_interpolated/RFC_Model/RFC_Model_phase2NNR_114.nc\n",
      "Saved /Volumes/Satyam/PaleotopographyFinal/NetCDF/25_processed_interpolated/RFC_Model/RFC_Model_phase2NNR_115.nc\n",
      "Saved /Volumes/Satyam/PaleotopographyFinal/NetCDF/25_processed_interpolated/RFC_Model/RFC_Model_phase2NNR_116.nc\n",
      "Saved /Volumes/Satyam/PaleotopographyFinal/NetCDF/25_processed_interpolated/RFC_Model/RFC_Model_phase2NNR_117.nc\n",
      "Saved /Volumes/Satyam/PaleotopographyFinal/NetCDF/25_processed_interpolated/RFC_Model/RFC_Model_phase2NNR_118.nc\n",
      "Saved /Volumes/Satyam/PaleotopographyFinal/NetCDF/25_processed_interpolated/RFC_Model/RFC_Model_phase2NNR_119.nc\n",
      "Saved /Volumes/Satyam/PaleotopographyFinal/NetCDF/25_processed_interpolated/RFC_Model/RFC_Model_phase2NNR_120.nc\n",
      "Saved /Volumes/Satyam/PaleotopographyFinal/NetCDF/25_processed_interpolated/RFC_Model/RFC_Model_phase2NNR_121.nc\n",
      "Saved /Volumes/Satyam/PaleotopographyFinal/NetCDF/25_processed_interpolated/RFC_Model/RFC_Model_phase2NNR_122.nc\n",
      "Saved /Volumes/Satyam/PaleotopographyFinal/NetCDF/25_processed_interpolated/RFC_Model/RFC_Model_phase2NNR_123.nc\n",
      "Saved /Volumes/Satyam/PaleotopographyFinal/NetCDF/25_processed_interpolated/RFC_Model/RFC_Model_phase2NNR_124.nc\n",
      "Saved /Volumes/Satyam/PaleotopographyFinal/NetCDF/25_processed_interpolated/RFC_Model/RFC_Model_phase2NNR_125.nc\n",
      "Saved /Volumes/Satyam/PaleotopographyFinal/NetCDF/25_processed_interpolated/RFC_Model/RFC_Model_phase2NNR_126.nc\n",
      "Saved /Volumes/Satyam/PaleotopographyFinal/NetCDF/25_processed_interpolated/RFC_Model/RFC_Model_phase2NNR_127.nc\n",
      "Saved /Volumes/Satyam/PaleotopographyFinal/NetCDF/25_processed_interpolated/RFC_Model/RFC_Model_phase2NNR_128.nc\n",
      "Saved /Volumes/Satyam/PaleotopographyFinal/NetCDF/25_processed_interpolated/RFC_Model/RFC_Model_phase2NNR_129.nc\n",
      "Saved /Volumes/Satyam/PaleotopographyFinal/NetCDF/25_processed_interpolated/RFC_Model/RFC_Model_phase2NNR_130.nc\n",
      "Saved /Volumes/Satyam/PaleotopographyFinal/NetCDF/25_processed_interpolated/RFC_Model/RFC_Model_phase2NNR_131.nc\n",
      "Saved /Volumes/Satyam/PaleotopographyFinal/NetCDF/25_processed_interpolated/RFC_Model/RFC_Model_phase2NNR_132.nc\n",
      "Saved /Volumes/Satyam/PaleotopographyFinal/NetCDF/25_processed_interpolated/RFC_Model/RFC_Model_phase2NNR_133.nc\n",
      "Saved /Volumes/Satyam/PaleotopographyFinal/NetCDF/25_processed_interpolated/RFC_Model/RFC_Model_phase2NNR_134.nc\n",
      "Saved /Volumes/Satyam/PaleotopographyFinal/NetCDF/25_processed_interpolated/RFC_Model/RFC_Model_phase2NNR_135.nc\n",
      "Saved /Volumes/Satyam/PaleotopographyFinal/NetCDF/25_processed_interpolated/RFC_Model/RFC_Model_phase2NNR_136.nc\n",
      "Saved /Volumes/Satyam/PaleotopographyFinal/NetCDF/25_processed_interpolated/RFC_Model/RFC_Model_phase2NNR_137.nc\n",
      "Saved /Volumes/Satyam/PaleotopographyFinal/NetCDF/25_processed_interpolated/RFC_Model/RFC_Model_phase2NNR_138.nc\n",
      "Saved /Volumes/Satyam/PaleotopographyFinal/NetCDF/25_processed_interpolated/RFC_Model/RFC_Model_phase2NNR_139.nc\n",
      "Saved /Volumes/Satyam/PaleotopographyFinal/NetCDF/25_processed_interpolated/RFC_Model/RFC_Model_phase2NNR_140.nc\n",
      "Saved /Volumes/Satyam/PaleotopographyFinal/NetCDF/25_processed_interpolated/RFC_Model/RFC_Model_phase2NNR_141.nc\n",
      "Saved /Volumes/Satyam/PaleotopographyFinal/NetCDF/25_processed_interpolated/RFC_Model/RFC_Model_phase2NNR_142.nc\n",
      "Saved /Volumes/Satyam/PaleotopographyFinal/NetCDF/25_processed_interpolated/RFC_Model/RFC_Model_phase2NNR_143.nc\n",
      "Saved /Volumes/Satyam/PaleotopographyFinal/NetCDF/25_processed_interpolated/RFC_Model/RFC_Model_phase2NNR_144.nc\n",
      "Saved /Volumes/Satyam/PaleotopographyFinal/NetCDF/25_processed_interpolated/RFC_Model/RFC_Model_phase2NNR_145.nc\n",
      "Saved /Volumes/Satyam/PaleotopographyFinal/NetCDF/25_processed_interpolated/RFC_Model/RFC_Model_phase2NNR_146.nc\n",
      "Saved /Volumes/Satyam/PaleotopographyFinal/NetCDF/25_processed_interpolated/RFC_Model/RFC_Model_phase2NNR_147.nc\n",
      "Saved /Volumes/Satyam/PaleotopographyFinal/NetCDF/25_processed_interpolated/RFC_Model/RFC_Model_phase2NNR_148.nc\n",
      "Saved /Volumes/Satyam/PaleotopographyFinal/NetCDF/25_processed_interpolated/RFC_Model/RFC_Model_phase2NNR_149.nc\n",
      "Saved /Volumes/Satyam/PaleotopographyFinal/NetCDF/25_processed_interpolated/RFC_Model/RFC_Model_phase2NNR_150.nc\n",
      "Saved /Volumes/Satyam/PaleotopographyFinal/NetCDF/25_processed_interpolated/RFC_Model/RFC_Model_phase2NNR_151.nc\n",
      "Saved /Volumes/Satyam/PaleotopographyFinal/NetCDF/25_processed_interpolated/RFC_Model/RFC_Model_phase2NNR_152.nc\n",
      "Saved /Volumes/Satyam/PaleotopographyFinal/NetCDF/25_processed_interpolated/RFC_Model/RFC_Model_phase2NNR_153.nc\n",
      "Saved /Volumes/Satyam/PaleotopographyFinal/NetCDF/25_processed_interpolated/RFC_Model/RFC_Model_phase2NNR_154.nc\n",
      "Saved /Volumes/Satyam/PaleotopographyFinal/NetCDF/25_processed_interpolated/RFC_Model/RFC_Model_phase2NNR_155.nc\n",
      "Saved /Volumes/Satyam/PaleotopographyFinal/NetCDF/25_processed_interpolated/RFC_Model/RFC_Model_phase2NNR_156.nc\n",
      "Saved /Volumes/Satyam/PaleotopographyFinal/NetCDF/25_processed_interpolated/RFC_Model/RFC_Model_phase2NNR_157.nc\n",
      "Saved /Volumes/Satyam/PaleotopographyFinal/NetCDF/25_processed_interpolated/RFC_Model/RFC_Model_phase2NNR_158.nc\n",
      "Saved /Volumes/Satyam/PaleotopographyFinal/NetCDF/25_processed_interpolated/RFC_Model/RFC_Model_phase2NNR_159.nc\n",
      "Saved /Volumes/Satyam/PaleotopographyFinal/NetCDF/25_processed_interpolated/RFC_Model/RFC_Model_phase2NNR_160.nc\n",
      "Saved /Volumes/Satyam/PaleotopographyFinal/NetCDF/25_processed_interpolated/RFC_Model/RFC_Model_phase2NNR_161.nc\n",
      "Saved /Volumes/Satyam/PaleotopographyFinal/NetCDF/25_processed_interpolated/RFC_Model/RFC_Model_phase2NNR_162.nc\n",
      "Saved /Volumes/Satyam/PaleotopographyFinal/NetCDF/25_processed_interpolated/RFC_Model/RFC_Model_phase2NNR_163.nc\n",
      "Saved /Volumes/Satyam/PaleotopographyFinal/NetCDF/25_processed_interpolated/RFC_Model/RFC_Model_phase2NNR_164.nc\n",
      "Saved /Volumes/Satyam/PaleotopographyFinal/NetCDF/25_processed_interpolated/RFC_Model/RFC_Model_phase2NNR_165.nc\n",
      "Saved /Volumes/Satyam/PaleotopographyFinal/NetCDF/25_processed_interpolated/RFC_Model/RFC_Model_phase2NNR_166.nc\n",
      "Saved /Volumes/Satyam/PaleotopographyFinal/NetCDF/25_processed_interpolated/RFC_Model/RFC_Model_phase2NNR_167.nc\n",
      "Saved /Volumes/Satyam/PaleotopographyFinal/NetCDF/25_processed_interpolated/RFC_Model/RFC_Model_phase2NNR_168.nc\n",
      "Saved /Volumes/Satyam/PaleotopographyFinal/NetCDF/25_processed_interpolated/RFC_Model/RFC_Model_phase2NNR_169.nc\n",
      "Saved /Volumes/Satyam/PaleotopographyFinal/NetCDF/25_processed_interpolated/RFC_Model/RFC_Model_phase2NNR_170.nc\n",
      "Saved /Volumes/Satyam/PaleotopographyFinal/NetCDF/25_processed_interpolated/RFC_Model/RFC_Model_phase2NNR_171.nc\n",
      "Saved /Volumes/Satyam/PaleotopographyFinal/NetCDF/25_processed_interpolated/RFC_Model/RFC_Model_phase2NNR_172.nc\n",
      "Saved /Volumes/Satyam/PaleotopographyFinal/NetCDF/25_processed_interpolated/RFC_Model/RFC_Model_phase2NNR_173.nc\n",
      "Saved /Volumes/Satyam/PaleotopographyFinal/NetCDF/25_processed_interpolated/RFC_Model/RFC_Model_phase2NNR_174.nc\n",
      "Saved /Volumes/Satyam/PaleotopographyFinal/NetCDF/25_processed_interpolated/RFC_Model/RFC_Model_phase2NNR_175.nc\n",
      "Saved /Volumes/Satyam/PaleotopographyFinal/NetCDF/25_processed_interpolated/RFC_Model/RFC_Model_phase2NNR_176.nc\n",
      "Saved /Volumes/Satyam/PaleotopographyFinal/NetCDF/25_processed_interpolated/RFC_Model/RFC_Model_phase2NNR_177.nc\n",
      "Saved /Volumes/Satyam/PaleotopographyFinal/NetCDF/25_processed_interpolated/RFC_Model/RFC_Model_phase2NNR_178.nc\n",
      "Saved /Volumes/Satyam/PaleotopographyFinal/NetCDF/25_processed_interpolated/RFC_Model/RFC_Model_phase2NNR_179.nc\n",
      "Saved /Volumes/Satyam/PaleotopographyFinal/NetCDF/25_processed_interpolated/RFC_Model/RFC_Model_phase2NNR_180.nc\n",
      "Saved /Volumes/Satyam/PaleotopographyFinal/NetCDF/25_processed_interpolated/RFC_Model/RFC_Model_phase2NNR_181.nc\n",
      "Saved /Volumes/Satyam/PaleotopographyFinal/NetCDF/25_processed_interpolated/RFC_Model/RFC_Model_phase2NNR_182.nc\n",
      "Saved /Volumes/Satyam/PaleotopographyFinal/NetCDF/25_processed_interpolated/RFC_Model/RFC_Model_phase2NNR_183.nc\n",
      "Saved /Volumes/Satyam/PaleotopographyFinal/NetCDF/25_processed_interpolated/RFC_Model/RFC_Model_phase2NNR_184.nc\n",
      "Saved /Volumes/Satyam/PaleotopographyFinal/NetCDF/25_processed_interpolated/RFC_Model/RFC_Model_phase2NNR_185.nc\n",
      "Saved /Volumes/Satyam/PaleotopographyFinal/NetCDF/25_processed_interpolated/RFC_Model/RFC_Model_phase2NNR_186.nc\n",
      "Saved /Volumes/Satyam/PaleotopographyFinal/NetCDF/25_processed_interpolated/RFC_Model/RFC_Model_phase2NNR_187.nc\n",
      "Saved /Volumes/Satyam/PaleotopographyFinal/NetCDF/25_processed_interpolated/RFC_Model/RFC_Model_phase2NNR_188.nc\n",
      "Saved /Volumes/Satyam/PaleotopographyFinal/NetCDF/25_processed_interpolated/RFC_Model/RFC_Model_phase2NNR_189.nc\n",
      "Saved /Volumes/Satyam/PaleotopographyFinal/NetCDF/25_processed_interpolated/RFC_Model/RFC_Model_phase2NNR_190.nc\n",
      "Saved /Volumes/Satyam/PaleotopographyFinal/NetCDF/25_processed_interpolated/RFC_Model/RFC_Model_phase2NNR_191.nc\n",
      "Saved /Volumes/Satyam/PaleotopographyFinal/NetCDF/25_processed_interpolated/RFC_Model/RFC_Model_phase2NNR_192.nc\n",
      "Saved /Volumes/Satyam/PaleotopographyFinal/NetCDF/25_processed_interpolated/RFC_Model/RFC_Model_phase2NNR_193.nc\n",
      "Saved /Volumes/Satyam/PaleotopographyFinal/NetCDF/25_processed_interpolated/RFC_Model/RFC_Model_phase2NNR_194.nc\n",
      "Saved /Volumes/Satyam/PaleotopographyFinal/NetCDF/25_processed_interpolated/RFC_Model/RFC_Model_phase2NNR_195.nc\n",
      "Saved /Volumes/Satyam/PaleotopographyFinal/NetCDF/25_processed_interpolated/RFC_Model/RFC_Model_phase2NNR_196.nc\n",
      "Saved /Volumes/Satyam/PaleotopographyFinal/NetCDF/25_processed_interpolated/RFC_Model/RFC_Model_phase2NNR_197.nc\n",
      "Saved /Volumes/Satyam/PaleotopographyFinal/NetCDF/25_processed_interpolated/RFC_Model/RFC_Model_phase2NNR_198.nc\n",
      "Saved /Volumes/Satyam/PaleotopographyFinal/NetCDF/25_processed_interpolated/RFC_Model/RFC_Model_phase2NNR_199.nc\n",
      "Saved /Volumes/Satyam/PaleotopographyFinal/NetCDF/25_processed_interpolated/RFC_Model/RFC_Model_phase2NNR_200.nc\n",
      "Saved /Volumes/Satyam/PaleotopographyFinal/NetCDF/25_processed_interpolated/RFC_Model/RFC_Model_phase2NNR_201.nc\n",
      "Saved /Volumes/Satyam/PaleotopographyFinal/NetCDF/25_processed_interpolated/RFC_Model/RFC_Model_phase2NNR_202.nc\n",
      "Saved /Volumes/Satyam/PaleotopographyFinal/NetCDF/25_processed_interpolated/RFC_Model/RFC_Model_phase2NNR_203.nc\n",
      "Saved /Volumes/Satyam/PaleotopographyFinal/NetCDF/25_processed_interpolated/RFC_Model/RFC_Model_phase2NNR_204.nc\n",
      "Saved /Volumes/Satyam/PaleotopographyFinal/NetCDF/25_processed_interpolated/RFC_Model/RFC_Model_phase2NNR_205.nc\n",
      "Saved /Volumes/Satyam/PaleotopographyFinal/NetCDF/25_processed_interpolated/RFC_Model/RFC_Model_phase2NNR_206.nc\n",
      "Saved /Volumes/Satyam/PaleotopographyFinal/NetCDF/25_processed_interpolated/RFC_Model/RFC_Model_phase2NNR_207.nc\n",
      "Saved /Volumes/Satyam/PaleotopographyFinal/NetCDF/25_processed_interpolated/RFC_Model/RFC_Model_phase2NNR_208.nc\n",
      "Saved /Volumes/Satyam/PaleotopographyFinal/NetCDF/25_processed_interpolated/RFC_Model/RFC_Model_phase2NNR_209.nc\n",
      "Saved /Volumes/Satyam/PaleotopographyFinal/NetCDF/25_processed_interpolated/RFC_Model/RFC_Model_phase2NNR_210.nc\n",
      "Saved /Volumes/Satyam/PaleotopographyFinal/NetCDF/25_processed_interpolated/RFC_Model/RFC_Model_phase2NNR_211.nc\n",
      "Saved /Volumes/Satyam/PaleotopographyFinal/NetCDF/25_processed_interpolated/RFC_Model/RFC_Model_phase2NNR_212.nc\n",
      "Saved /Volumes/Satyam/PaleotopographyFinal/NetCDF/25_processed_interpolated/RFC_Model/RFC_Model_phase2NNR_213.nc\n",
      "Saved /Volumes/Satyam/PaleotopographyFinal/NetCDF/25_processed_interpolated/RFC_Model/RFC_Model_phase2NNR_214.nc\n",
      "Saved /Volumes/Satyam/PaleotopographyFinal/NetCDF/25_processed_interpolated/RFC_Model/RFC_Model_phase2NNR_215.nc\n",
      "Saved /Volumes/Satyam/PaleotopographyFinal/NetCDF/25_processed_interpolated/RFC_Model/RFC_Model_phase2NNR_216.nc\n",
      "Saved /Volumes/Satyam/PaleotopographyFinal/NetCDF/25_processed_interpolated/RFC_Model/RFC_Model_phase2NNR_217.nc\n",
      "Saved /Volumes/Satyam/PaleotopographyFinal/NetCDF/25_processed_interpolated/RFC_Model/RFC_Model_phase2NNR_218.nc\n",
      "Saved /Volumes/Satyam/PaleotopographyFinal/NetCDF/25_processed_interpolated/RFC_Model/RFC_Model_phase2NNR_219.nc\n",
      "Saved /Volumes/Satyam/PaleotopographyFinal/NetCDF/25_processed_interpolated/RFC_Model/RFC_Model_phase2NNR_220.nc\n",
      "Saved /Volumes/Satyam/PaleotopographyFinal/NetCDF/25_processed_interpolated/RFC_Model/RFC_Model_phase2NNR_221.nc\n",
      "Saved /Volumes/Satyam/PaleotopographyFinal/NetCDF/25_processed_interpolated/RFC_Model/RFC_Model_phase2NNR_222.nc\n",
      "Saved /Volumes/Satyam/PaleotopographyFinal/NetCDF/25_processed_interpolated/RFC_Model/RFC_Model_phase2NNR_223.nc\n",
      "Saved /Volumes/Satyam/PaleotopographyFinal/NetCDF/25_processed_interpolated/RFC_Model/RFC_Model_phase2NNR_224.nc\n",
      "Saved /Volumes/Satyam/PaleotopographyFinal/NetCDF/25_processed_interpolated/RFC_Model/RFC_Model_phase2NNR_225.nc\n",
      "Saved /Volumes/Satyam/PaleotopographyFinal/NetCDF/25_processed_interpolated/RFC_Model/RFC_Model_phase2NNR_226.nc\n",
      "Saved /Volumes/Satyam/PaleotopographyFinal/NetCDF/25_processed_interpolated/RFC_Model/RFC_Model_phase2NNR_227.nc\n",
      "Saved /Volumes/Satyam/PaleotopographyFinal/NetCDF/25_processed_interpolated/RFC_Model/RFC_Model_phase2NNR_228.nc\n",
      "Saved /Volumes/Satyam/PaleotopographyFinal/NetCDF/25_processed_interpolated/RFC_Model/RFC_Model_phase2NNR_229.nc\n",
      "Saved /Volumes/Satyam/PaleotopographyFinal/NetCDF/25_processed_interpolated/RFC_Model/RFC_Model_phase2NNR_230.nc\n",
      "Saved /Volumes/Satyam/PaleotopographyFinal/NetCDF/25_processed_interpolated/RFC_Model/RFC_Model_phase2NNR_231.nc\n",
      "Saved /Volumes/Satyam/PaleotopographyFinal/NetCDF/25_processed_interpolated/RFC_Model/RFC_Model_phase2NNR_232.nc\n",
      "Saved /Volumes/Satyam/PaleotopographyFinal/NetCDF/25_processed_interpolated/RFC_Model/RFC_Model_phase2NNR_233.nc\n",
      "Saved /Volumes/Satyam/PaleotopographyFinal/NetCDF/25_processed_interpolated/RFC_Model/RFC_Model_phase2NNR_234.nc\n",
      "Saved /Volumes/Satyam/PaleotopographyFinal/NetCDF/25_processed_interpolated/RFC_Model/RFC_Model_phase2NNR_235.nc\n",
      "Saved /Volumes/Satyam/PaleotopographyFinal/NetCDF/25_processed_interpolated/RFC_Model/RFC_Model_phase2NNR_236.nc\n",
      "Saved /Volumes/Satyam/PaleotopographyFinal/NetCDF/25_processed_interpolated/RFC_Model/RFC_Model_phase2NNR_237.nc\n",
      "Saved /Volumes/Satyam/PaleotopographyFinal/NetCDF/25_processed_interpolated/RFC_Model/RFC_Model_phase2NNR_238.nc\n",
      "Saved /Volumes/Satyam/PaleotopographyFinal/NetCDF/25_processed_interpolated/RFC_Model/RFC_Model_phase2NNR_239.nc\n",
      "Saved /Volumes/Satyam/PaleotopographyFinal/NetCDF/25_processed_interpolated/RFC_Model/RFC_Model_phase2NNR_240.nc\n",
      "Saved /Volumes/Satyam/PaleotopographyFinal/NetCDF/25_processed_interpolated/RFC_Model/RFC_Model_phase2NNR_241.nc\n",
      "Saved /Volumes/Satyam/PaleotopographyFinal/NetCDF/25_processed_interpolated/RFC_Model/RFC_Model_phase2NNR_242.nc\n",
      "Saved /Volumes/Satyam/PaleotopographyFinal/NetCDF/25_processed_interpolated/RFC_Model/RFC_Model_phase2NNR_243.nc\n",
      "Saved /Volumes/Satyam/PaleotopographyFinal/NetCDF/25_processed_interpolated/RFC_Model/RFC_Model_phase2NNR_244.nc\n",
      "Saved /Volumes/Satyam/PaleotopographyFinal/NetCDF/25_processed_interpolated/RFC_Model/RFC_Model_phase2NNR_245.nc\n",
      "Saved /Volumes/Satyam/PaleotopographyFinal/NetCDF/25_processed_interpolated/RFC_Model/RFC_Model_phase2NNR_246.nc\n",
      "Saved /Volumes/Satyam/PaleotopographyFinal/NetCDF/25_processed_interpolated/RFC_Model/RFC_Model_phase2NNR_247.nc\n",
      "Saved /Volumes/Satyam/PaleotopographyFinal/NetCDF/25_processed_interpolated/RFC_Model/RFC_Model_phase2NNR_248.nc\n",
      "Saved /Volumes/Satyam/PaleotopographyFinal/NetCDF/25_processed_interpolated/RFC_Model/RFC_Model_phase2NNR_249.nc\n",
      "Saved /Volumes/Satyam/PaleotopographyFinal/NetCDF/25_processed_interpolated/RFC_Model/RFC_Model_phase2NNR_250.nc\n",
      "Saved /Volumes/Satyam/PaleotopographyFinal/NetCDF/25_processed_interpolated/RFC_Model/RFC_Model_phase2NNR_251.nc\n",
      "Saved /Volumes/Satyam/PaleotopographyFinal/NetCDF/25_processed_interpolated/RFC_Model/RFC_Model_phase2NNR_252.nc\n",
      "Saved /Volumes/Satyam/PaleotopographyFinal/NetCDF/25_processed_interpolated/RFC_Model/RFC_Model_phase2NNR_253.nc\n",
      "Saved /Volumes/Satyam/PaleotopographyFinal/NetCDF/25_processed_interpolated/RFC_Model/RFC_Model_phase2NNR_254.nc\n",
      "Saved /Volumes/Satyam/PaleotopographyFinal/NetCDF/25_processed_interpolated/RFC_Model/RFC_Model_phase2NNR_255.nc\n",
      "Saved /Volumes/Satyam/PaleotopographyFinal/NetCDF/25_processed_interpolated/RFC_Model/RFC_Model_phase2NNR_256.nc\n",
      "Saved /Volumes/Satyam/PaleotopographyFinal/NetCDF/25_processed_interpolated/RFC_Model/RFC_Model_phase2NNR_257.nc\n",
      "Saved /Volumes/Satyam/PaleotopographyFinal/NetCDF/25_processed_interpolated/RFC_Model/RFC_Model_phase2NNR_258.nc\n",
      "Saved /Volumes/Satyam/PaleotopographyFinal/NetCDF/25_processed_interpolated/RFC_Model/RFC_Model_phase2NNR_259.nc\n",
      "Saved /Volumes/Satyam/PaleotopographyFinal/NetCDF/25_processed_interpolated/RFC_Model/RFC_Model_phase2NNR_260.nc\n",
      "Saved /Volumes/Satyam/PaleotopographyFinal/NetCDF/25_processed_interpolated/RFC_Model/RFC_Model_phase2NNR_261.nc\n",
      "Saved /Volumes/Satyam/PaleotopographyFinal/NetCDF/25_processed_interpolated/RFC_Model/RFC_Model_phase2NNR_262.nc\n",
      "Saved /Volumes/Satyam/PaleotopographyFinal/NetCDF/25_processed_interpolated/RFC_Model/RFC_Model_phase2NNR_263.nc\n",
      "Saved /Volumes/Satyam/PaleotopographyFinal/NetCDF/25_processed_interpolated/RFC_Model/RFC_Model_phase2NNR_264.nc\n",
      "Saved /Volumes/Satyam/PaleotopographyFinal/NetCDF/25_processed_interpolated/RFC_Model/RFC_Model_phase2NNR_265.nc\n",
      "Saved /Volumes/Satyam/PaleotopographyFinal/NetCDF/25_processed_interpolated/RFC_Model/RFC_Model_phase2NNR_266.nc\n",
      "Saved /Volumes/Satyam/PaleotopographyFinal/NetCDF/25_processed_interpolated/RFC_Model/RFC_Model_phase2NNR_267.nc\n",
      "Saved /Volumes/Satyam/PaleotopographyFinal/NetCDF/25_processed_interpolated/RFC_Model/RFC_Model_phase2NNR_268.nc\n",
      "Saved /Volumes/Satyam/PaleotopographyFinal/NetCDF/25_processed_interpolated/RFC_Model/RFC_Model_phase2NNR_269.nc\n",
      "Saved /Volumes/Satyam/PaleotopographyFinal/NetCDF/25_processed_interpolated/RFC_Model/RFC_Model_phase2NNR_270.nc\n",
      "Saved /Volumes/Satyam/PaleotopographyFinal/NetCDF/25_processed_interpolated/RFC_Model/RFC_Model_phase2NNR_271.nc\n",
      "Saved /Volumes/Satyam/PaleotopographyFinal/NetCDF/25_processed_interpolated/RFC_Model/RFC_Model_phase2NNR_272.nc\n",
      "Saved /Volumes/Satyam/PaleotopographyFinal/NetCDF/25_processed_interpolated/RFC_Model/RFC_Model_phase2NNR_273.nc\n",
      "Saved /Volumes/Satyam/PaleotopographyFinal/NetCDF/25_processed_interpolated/RFC_Model/RFC_Model_phase2NNR_274.nc\n",
      "Saved /Volumes/Satyam/PaleotopographyFinal/NetCDF/25_processed_interpolated/RFC_Model/RFC_Model_phase2NNR_275.nc\n",
      "Saved /Volumes/Satyam/PaleotopographyFinal/NetCDF/25_processed_interpolated/RFC_Model/RFC_Model_phase2NNR_276.nc\n",
      "Saved /Volumes/Satyam/PaleotopographyFinal/NetCDF/25_processed_interpolated/RFC_Model/RFC_Model_phase2NNR_277.nc\n",
      "Saved /Volumes/Satyam/PaleotopographyFinal/NetCDF/25_processed_interpolated/RFC_Model/RFC_Model_phase2NNR_278.nc\n",
      "Saved /Volumes/Satyam/PaleotopographyFinal/NetCDF/25_processed_interpolated/RFC_Model/RFC_Model_phase2NNR_279.nc\n",
      "Saved /Volumes/Satyam/PaleotopographyFinal/NetCDF/25_processed_interpolated/RFC_Model/RFC_Model_phase2NNR_280.nc\n",
      "Saved /Volumes/Satyam/PaleotopographyFinal/NetCDF/25_processed_interpolated/RFC_Model/RFC_Model_phase2NNR_281.nc\n",
      "Saved /Volumes/Satyam/PaleotopographyFinal/NetCDF/25_processed_interpolated/RFC_Model/RFC_Model_phase2NNR_282.nc\n",
      "Saved /Volumes/Satyam/PaleotopographyFinal/NetCDF/25_processed_interpolated/RFC_Model/RFC_Model_phase2NNR_283.nc\n",
      "Saved /Volumes/Satyam/PaleotopographyFinal/NetCDF/25_processed_interpolated/RFC_Model/RFC_Model_phase2NNR_284.nc\n",
      "Saved /Volumes/Satyam/PaleotopographyFinal/NetCDF/25_processed_interpolated/RFC_Model/RFC_Model_phase2NNR_285.nc\n",
      "Saved /Volumes/Satyam/PaleotopographyFinal/NetCDF/25_processed_interpolated/RFC_Model/RFC_Model_phase2NNR_286.nc\n",
      "Saved /Volumes/Satyam/PaleotopographyFinal/NetCDF/25_processed_interpolated/RFC_Model/RFC_Model_phase2NNR_287.nc\n",
      "Saved /Volumes/Satyam/PaleotopographyFinal/NetCDF/25_processed_interpolated/RFC_Model/RFC_Model_phase2NNR_288.nc\n",
      "Saved /Volumes/Satyam/PaleotopographyFinal/NetCDF/25_processed_interpolated/RFC_Model/RFC_Model_phase2NNR_289.nc\n",
      "Saved /Volumes/Satyam/PaleotopographyFinal/NetCDF/25_processed_interpolated/RFC_Model/RFC_Model_phase2NNR_290.nc\n",
      "Saved /Volumes/Satyam/PaleotopographyFinal/NetCDF/25_processed_interpolated/RFC_Model/RFC_Model_phase2NNR_291.nc\n",
      "Saved /Volumes/Satyam/PaleotopographyFinal/NetCDF/25_processed_interpolated/RFC_Model/RFC_Model_phase2NNR_292.nc\n",
      "Saved /Volumes/Satyam/PaleotopographyFinal/NetCDF/25_processed_interpolated/RFC_Model/RFC_Model_phase2NNR_293.nc\n",
      "Saved /Volumes/Satyam/PaleotopographyFinal/NetCDF/25_processed_interpolated/RFC_Model/RFC_Model_phase2NNR_294.nc\n",
      "Saved /Volumes/Satyam/PaleotopographyFinal/NetCDF/25_processed_interpolated/RFC_Model/RFC_Model_phase2NNR_295.nc\n",
      "Saved /Volumes/Satyam/PaleotopographyFinal/NetCDF/25_processed_interpolated/RFC_Model/RFC_Model_phase2NNR_296.nc\n",
      "Saved /Volumes/Satyam/PaleotopographyFinal/NetCDF/25_processed_interpolated/RFC_Model/RFC_Model_phase2NNR_297.nc\n",
      "Saved /Volumes/Satyam/PaleotopographyFinal/NetCDF/25_processed_interpolated/RFC_Model/RFC_Model_phase2NNR_298.nc\n",
      "Saved /Volumes/Satyam/PaleotopographyFinal/NetCDF/25_processed_interpolated/RFC_Model/RFC_Model_phase2NNR_299.nc\n",
      "Saved /Volumes/Satyam/PaleotopographyFinal/NetCDF/25_processed_interpolated/RFC_Model/RFC_Model_phase2NNR_300.nc\n",
      "Saved /Volumes/Satyam/PaleotopographyFinal/NetCDF/25_processed_interpolated/RFC_Model/RFC_Model_phase2NNR_301.nc\n",
      "Saved /Volumes/Satyam/PaleotopographyFinal/NetCDF/25_processed_interpolated/RFC_Model/RFC_Model_phase2NNR_302.nc\n",
      "Saved /Volumes/Satyam/PaleotopographyFinal/NetCDF/25_processed_interpolated/RFC_Model/RFC_Model_phase2NNR_303.nc\n",
      "Saved /Volumes/Satyam/PaleotopographyFinal/NetCDF/25_processed_interpolated/RFC_Model/RFC_Model_phase2NNR_304.nc\n",
      "Saved /Volumes/Satyam/PaleotopographyFinal/NetCDF/25_processed_interpolated/RFC_Model/RFC_Model_phase2NNR_305.nc\n",
      "Saved /Volumes/Satyam/PaleotopographyFinal/NetCDF/25_processed_interpolated/RFC_Model/RFC_Model_phase2NNR_306.nc\n",
      "Saved /Volumes/Satyam/PaleotopographyFinal/NetCDF/25_processed_interpolated/RFC_Model/RFC_Model_phase2NNR_307.nc\n",
      "Saved /Volumes/Satyam/PaleotopographyFinal/NetCDF/25_processed_interpolated/RFC_Model/RFC_Model_phase2NNR_308.nc\n",
      "Saved /Volumes/Satyam/PaleotopographyFinal/NetCDF/25_processed_interpolated/RFC_Model/RFC_Model_phase2NNR_309.nc\n",
      "Saved /Volumes/Satyam/PaleotopographyFinal/NetCDF/25_processed_interpolated/RFC_Model/RFC_Model_phase2NNR_310.nc\n",
      "Saved /Volumes/Satyam/PaleotopographyFinal/NetCDF/25_processed_interpolated/RFC_Model/RFC_Model_phase2NNR_311.nc\n",
      "Saved /Volumes/Satyam/PaleotopographyFinal/NetCDF/25_processed_interpolated/RFC_Model/RFC_Model_phase2NNR_312.nc\n",
      "Saved /Volumes/Satyam/PaleotopographyFinal/NetCDF/25_processed_interpolated/RFC_Model/RFC_Model_phase2NNR_313.nc\n",
      "Saved /Volumes/Satyam/PaleotopographyFinal/NetCDF/25_processed_interpolated/RFC_Model/RFC_Model_phase2NNR_314.nc\n",
      "Saved /Volumes/Satyam/PaleotopographyFinal/NetCDF/25_processed_interpolated/RFC_Model/RFC_Model_phase2NNR_315.nc\n",
      "Saved /Volumes/Satyam/PaleotopographyFinal/NetCDF/25_processed_interpolated/RFC_Model/RFC_Model_phase2NNR_316.nc\n",
      "Saved /Volumes/Satyam/PaleotopographyFinal/NetCDF/25_processed_interpolated/RFC_Model/RFC_Model_phase2NNR_317.nc\n",
      "Saved /Volumes/Satyam/PaleotopographyFinal/NetCDF/25_processed_interpolated/RFC_Model/RFC_Model_phase2NNR_318.nc\n",
      "Saved /Volumes/Satyam/PaleotopographyFinal/NetCDF/25_processed_interpolated/RFC_Model/RFC_Model_phase2NNR_319.nc\n",
      "Saved /Volumes/Satyam/PaleotopographyFinal/NetCDF/25_processed_interpolated/RFC_Model/RFC_Model_phase2NNR_320.nc\n",
      "Saved /Volumes/Satyam/PaleotopographyFinal/NetCDF/25_processed_interpolated/RFC_Model/RFC_Model_phase2NNR_321.nc\n",
      "Saved /Volumes/Satyam/PaleotopographyFinal/NetCDF/25_processed_interpolated/RFC_Model/RFC_Model_phase2NNR_322.nc\n",
      "Saved /Volumes/Satyam/PaleotopographyFinal/NetCDF/25_processed_interpolated/RFC_Model/RFC_Model_phase2NNR_323.nc\n",
      "Saved /Volumes/Satyam/PaleotopographyFinal/NetCDF/25_processed_interpolated/RFC_Model/RFC_Model_phase2NNR_324.nc\n",
      "Saved /Volumes/Satyam/PaleotopographyFinal/NetCDF/25_processed_interpolated/RFC_Model/RFC_Model_phase2NNR_325.nc\n",
      "Saved /Volumes/Satyam/PaleotopographyFinal/NetCDF/25_processed_interpolated/RFC_Model/RFC_Model_phase2NNR_326.nc\n",
      "Saved /Volumes/Satyam/PaleotopographyFinal/NetCDF/25_processed_interpolated/RFC_Model/RFC_Model_phase2NNR_327.nc\n",
      "Saved /Volumes/Satyam/PaleotopographyFinal/NetCDF/25_processed_interpolated/RFC_Model/RFC_Model_phase2NNR_328.nc\n",
      "Saved /Volumes/Satyam/PaleotopographyFinal/NetCDF/25_processed_interpolated/RFC_Model/RFC_Model_phase2NNR_329.nc\n",
      "Saved /Volumes/Satyam/PaleotopographyFinal/NetCDF/25_processed_interpolated/RFC_Model/RFC_Model_phase2NNR_330.nc\n",
      "Saved /Volumes/Satyam/PaleotopographyFinal/NetCDF/25_processed_interpolated/RFC_Model/RFC_Model_phase2NNR_331.nc\n",
      "Saved /Volumes/Satyam/PaleotopographyFinal/NetCDF/25_processed_interpolated/RFC_Model/RFC_Model_phase2NNR_332.nc\n",
      "Saved /Volumes/Satyam/PaleotopographyFinal/NetCDF/25_processed_interpolated/RFC_Model/RFC_Model_phase2NNR_333.nc\n",
      "Saved /Volumes/Satyam/PaleotopographyFinal/NetCDF/25_processed_interpolated/RFC_Model/RFC_Model_phase2NNR_334.nc\n",
      "Saved /Volumes/Satyam/PaleotopographyFinal/NetCDF/25_processed_interpolated/RFC_Model/RFC_Model_phase2NNR_335.nc\n",
      "Saved /Volumes/Satyam/PaleotopographyFinal/NetCDF/25_processed_interpolated/RFC_Model/RFC_Model_phase2NNR_336.nc\n",
      "Saved /Volumes/Satyam/PaleotopographyFinal/NetCDF/25_processed_interpolated/RFC_Model/RFC_Model_phase2NNR_337.nc\n",
      "Saved /Volumes/Satyam/PaleotopographyFinal/NetCDF/25_processed_interpolated/RFC_Model/RFC_Model_phase2NNR_338.nc\n",
      "Saved /Volumes/Satyam/PaleotopographyFinal/NetCDF/25_processed_interpolated/RFC_Model/RFC_Model_phase2NNR_339.nc\n",
      "Saved /Volumes/Satyam/PaleotopographyFinal/NetCDF/25_processed_interpolated/RFC_Model/RFC_Model_phase2NNR_340.nc\n",
      "Saved /Volumes/Satyam/PaleotopographyFinal/NetCDF/25_processed_interpolated/RFC_Model/RFC_Model_phase2NNR_341.nc\n",
      "Saved /Volumes/Satyam/PaleotopographyFinal/NetCDF/25_processed_interpolated/RFC_Model/RFC_Model_phase2NNR_342.nc\n",
      "Saved /Volumes/Satyam/PaleotopographyFinal/NetCDF/25_processed_interpolated/RFC_Model/RFC_Model_phase2NNR_343.nc\n",
      "Saved /Volumes/Satyam/PaleotopographyFinal/NetCDF/25_processed_interpolated/RFC_Model/RFC_Model_phase2NNR_344.nc\n",
      "Saved /Volumes/Satyam/PaleotopographyFinal/NetCDF/25_processed_interpolated/RFC_Model/RFC_Model_phase2NNR_345.nc\n",
      "Saved /Volumes/Satyam/PaleotopographyFinal/NetCDF/25_processed_interpolated/RFC_Model/RFC_Model_phase2NNR_346.nc\n",
      "Saved /Volumes/Satyam/PaleotopographyFinal/NetCDF/25_processed_interpolated/RFC_Model/RFC_Model_phase2NNR_347.nc\n",
      "Saved /Volumes/Satyam/PaleotopographyFinal/NetCDF/25_processed_interpolated/RFC_Model/RFC_Model_phase2NNR_348.nc\n",
      "Saved /Volumes/Satyam/PaleotopographyFinal/NetCDF/25_processed_interpolated/RFC_Model/RFC_Model_phase2NNR_349.nc\n",
      "Saved /Volumes/Satyam/PaleotopographyFinal/NetCDF/25_processed_interpolated/RFC_Model/RFC_Model_phase2NNR_350.nc\n",
      "Saved /Volumes/Satyam/PaleotopographyFinal/NetCDF/25_processed_interpolated/RFC_Model/RFC_Model_phase2NNR_351.nc\n",
      "Saved /Volumes/Satyam/PaleotopographyFinal/NetCDF/25_processed_interpolated/RFC_Model/RFC_Model_phase2NNR_352.nc\n",
      "Saved /Volumes/Satyam/PaleotopographyFinal/NetCDF/25_processed_interpolated/RFC_Model/RFC_Model_phase2NNR_353.nc\n",
      "Saved /Volumes/Satyam/PaleotopographyFinal/NetCDF/25_processed_interpolated/RFC_Model/RFC_Model_phase2NNR_354.nc\n",
      "Saved /Volumes/Satyam/PaleotopographyFinal/NetCDF/25_processed_interpolated/RFC_Model/RFC_Model_phase2NNR_355.nc\n",
      "Saved /Volumes/Satyam/PaleotopographyFinal/NetCDF/25_processed_interpolated/RFC_Model/RFC_Model_phase2NNR_356.nc\n",
      "Saved /Volumes/Satyam/PaleotopographyFinal/NetCDF/25_processed_interpolated/RFC_Model/RFC_Model_phase2NNR_357.nc\n",
      "Saved /Volumes/Satyam/PaleotopographyFinal/NetCDF/25_processed_interpolated/RFC_Model/RFC_Model_phase2NNR_358.nc\n",
      "Saved /Volumes/Satyam/PaleotopographyFinal/NetCDF/25_processed_interpolated/RFC_Model/RFC_Model_phase2NNR_359.nc\n",
      "Saved /Volumes/Satyam/PaleotopographyFinal/NetCDF/25_processed_interpolated/RFC_Model/RFC_Model_phase2NNR_360.nc\n",
      "Saved /Volumes/Satyam/PaleotopographyFinal/NetCDF/25_processed_interpolated/RFC_Model/RFC_Model_phase2NNR_361.nc\n",
      "Saved /Volumes/Satyam/PaleotopographyFinal/NetCDF/25_processed_interpolated/RFC_Model/RFC_Model_phase2NNR_362.nc\n",
      "Saved /Volumes/Satyam/PaleotopographyFinal/NetCDF/25_processed_interpolated/RFC_Model/RFC_Model_phase2NNR_363.nc\n",
      "Saved /Volumes/Satyam/PaleotopographyFinal/NetCDF/25_processed_interpolated/RFC_Model/RFC_Model_phase2NNR_364.nc\n",
      "Saved /Volumes/Satyam/PaleotopographyFinal/NetCDF/25_processed_interpolated/RFC_Model/RFC_Model_phase2NNR_365.nc\n",
      "Saved /Volumes/Satyam/PaleotopographyFinal/NetCDF/25_processed_interpolated/RFC_Model/RFC_Model_phase2NNR_366.nc\n",
      "Saved /Volumes/Satyam/PaleotopographyFinal/NetCDF/25_processed_interpolated/RFC_Model/RFC_Model_phase2NNR_367.nc\n",
      "Saved /Volumes/Satyam/PaleotopographyFinal/NetCDF/25_processed_interpolated/RFC_Model/RFC_Model_phase2NNR_368.nc\n",
      "Saved /Volumes/Satyam/PaleotopographyFinal/NetCDF/25_processed_interpolated/RFC_Model/RFC_Model_phase2NNR_369.nc\n",
      "Saved /Volumes/Satyam/PaleotopographyFinal/NetCDF/25_processed_interpolated/RFC_Model/RFC_Model_phase2NNR_370.nc\n",
      "Saved /Volumes/Satyam/PaleotopographyFinal/NetCDF/25_processed_interpolated/RFC_Model/RFC_Model_phase2NNR_371.nc\n",
      "Saved /Volumes/Satyam/PaleotopographyFinal/NetCDF/25_processed_interpolated/RFC_Model/RFC_Model_phase2NNR_372.nc\n",
      "Saved /Volumes/Satyam/PaleotopographyFinal/NetCDF/25_processed_interpolated/RFC_Model/RFC_Model_phase2NNR_373.nc\n",
      "Saved /Volumes/Satyam/PaleotopographyFinal/NetCDF/25_processed_interpolated/RFC_Model/RFC_Model_phase2NNR_374.nc\n",
      "Saved /Volumes/Satyam/PaleotopographyFinal/NetCDF/25_processed_interpolated/RFC_Model/RFC_Model_phase2NNR_375.nc\n",
      "Saved /Volumes/Satyam/PaleotopographyFinal/NetCDF/25_processed_interpolated/RFC_Model/RFC_Model_phase2NNR_376.nc\n",
      "Saved /Volumes/Satyam/PaleotopographyFinal/NetCDF/25_processed_interpolated/RFC_Model/RFC_Model_phase2NNR_377.nc\n",
      "Saved /Volumes/Satyam/PaleotopographyFinal/NetCDF/25_processed_interpolated/RFC_Model/RFC_Model_phase2NNR_378.nc\n",
      "Process completed.\n"
     ]
    }
   ],
   "source": [
    "import xarray as xr\n",
    "import numpy as np\n",
    "\n",
    "create_directory_if_not_exists(f\"{DEFAULT_OUTPUT_NetCDF}/{WINDOW_SIZE}_processed_interpolated/{ml_model_name}_Model\")\n",
    "def moving_average(data, window_size):\n",
    "    return data.rolling(time=window_size, center=False).mean()\n",
    "\n",
    "# Load all your NetCDF files into a list of DataArrays\n",
    "# reconstruction_times = all_times[:138] # Your list of reconstruction times\n",
    "data_arrays = []\n",
    "\n",
    "print(\"Loading NetCDF files...\")\n",
    "\n",
    "for reconstruction_time in all_times:\n",
    "    file_path = f\"{DEFAULT_OUTPUT_NetCDF}/{WINDOW_SIZE}_processed/{ml_model_name}_Model/{ml_model_name}_Model_{MODEL_NAME}_{reconstruction_time}.nc\"\n",
    "    ds = xr.open_dataset(file_path)\n",
    "    data_arrays.append(ds)\n",
    "    print(f\"Loaded {file_path}\")\n",
    "\n",
    "# Combine them into a single Dataset with 'time' as a new dimension\n",
    "print(\"Combining datasets...\")\n",
    "combined_ds = xr.concat(data_arrays, dim='time')\n",
    "combined_ds['time'] = all_times\n",
    "\n",
    "# Sort the dataset by time (in case it's not already sorted)\n",
    "combined_ds = combined_ds.sortby('time')\n",
    "\n",
    "# Fill NaN values by linear interpolation over time\n",
    "print(\"Filling NaN values...\")\n",
    "combined_ds_filled = combined_ds.interpolate_na(dim='time', method='linear', max_gap=6, fill_value='extrapolate')\n",
    "\n",
    "# Create the target time array with 1 Ma intervals\n",
    "print(\"Creating target time array...\")\n",
    "target_times = np.arange(min(all_times), max(all_times) + 1, 1)\n",
    "\n",
    "# Perform the interpolation to every 1 Ma interval\n",
    "print(\"Interpolating to every 1 Ma interval...\")\n",
    "interpolated_ds = combined_ds_filled.interp(time=target_times)\n",
    "\n",
    "# Apply a moving average for temporal smoothing\n",
    "print(\"Applying temporal smoothing...\")\n",
    "window_size = 5  # Adjust this based on your needs (e.g., smoothing over 5 Ma)\n",
    "smoothed_ds = interpolated_ds.copy()\n",
    "\n",
    "for var in smoothed_ds.data_vars:\n",
    "    smoothed_ds[var] = moving_average(smoothed_ds[var], window_size=window_size)\n",
    "    print(f\"Applied smoothing to {var}\")\n",
    "\n",
    "# Define zlib compression options for each variable\n",
    "compression_settings = {var: {'zlib': True, 'complevel': 9} for var in smoothed_ds.data_vars}\n",
    "\n",
    "# Save the smoothed datasets at each 1 Ma interval with zlib compression\n",
    "print(\"Saving smoothed datasets...\")\n",
    "\n",
    "# Save the smoothed datasets at each 1 Ma interval with zlib compression\n",
    "print(\"Saving smoothed datasets...\")\n",
    "\n",
    "for reconstruction_time in target_times:\n",
    "    smoothed_file_path = f'{DEFAULT_OUTPUT_NetCDF}/{WINDOW_SIZE}_processed_interpolated/{ml_model_name}_Model/{ml_model_name}_Model_{MODEL_NAME}_{reconstruction_time}.nc'\n",
    "    smoothed_ds.sel(time=reconstruction_time).to_netcdf(smoothed_file_path, encoding=compression_settings)\n",
    "    print(f\"Saved {smoothed_file_path}\")\n",
    "\n",
    "print(\"Process completed.\")\n"
   ]
  },
  {
   "cell_type": "code",
   "execution_count": 1,
   "id": "fa983db4-93dd-498d-95fe-5ee3016f89cb",
   "metadata": {
    "tags": []
   },
   "outputs": [
    {
     "name": "stdout",
     "output_type": "stream",
     "text": [
      "Saving smoothed datasets...\n"
     ]
    },
    {
     "ename": "NameError",
     "evalue": "name 'target_times' is not defined",
     "output_type": "error",
     "traceback": [
      "\u001b[0;31m---------------------------------------------------------------------------\u001b[0m",
      "\u001b[0;31mNameError\u001b[0m                                 Traceback (most recent call last)",
      "Cell \u001b[0;32mIn[1], line 4\u001b[0m\n\u001b[1;32m      1\u001b[0m \u001b[38;5;66;03m# Save the smoothed datasets at each 1 Ma interval with zlib compression\u001b[39;00m\n\u001b[1;32m      2\u001b[0m \u001b[38;5;28mprint\u001b[39m(\u001b[38;5;124m\"\u001b[39m\u001b[38;5;124mSaving smoothed datasets...\u001b[39m\u001b[38;5;124m\"\u001b[39m)\n\u001b[0;32m----> 4\u001b[0m \u001b[38;5;28;01mfor\u001b[39;00m reconstruction_time \u001b[38;5;129;01min\u001b[39;00m \u001b[43mtarget_times\u001b[49m:\n\u001b[1;32m      5\u001b[0m     smoothed_file_path \u001b[38;5;241m=\u001b[39m \u001b[38;5;124mf\u001b[39m\u001b[38;5;124m'\u001b[39m\u001b[38;5;132;01m{\u001b[39;00mDEFAULT_OUTPUT_NetCDF\u001b[38;5;132;01m}\u001b[39;00m\u001b[38;5;124m/\u001b[39m\u001b[38;5;132;01m{\u001b[39;00mWINDOW_SIZE\u001b[38;5;132;01m}\u001b[39;00m\u001b[38;5;124m_processed_interpolated/\u001b[39m\u001b[38;5;132;01m{\u001b[39;00mml_model_name\u001b[38;5;132;01m}\u001b[39;00m\u001b[38;5;124m_Model/\u001b[39m\u001b[38;5;132;01m{\u001b[39;00mml_model_name\u001b[38;5;132;01m}\u001b[39;00m\u001b[38;5;124m_Model_\u001b[39m\u001b[38;5;132;01m{\u001b[39;00mMODEL_NAME\u001b[38;5;132;01m}\u001b[39;00m\u001b[38;5;124m_\u001b[39m\u001b[38;5;132;01m{\u001b[39;00mreconstruction_time\u001b[38;5;132;01m}\u001b[39;00m\u001b[38;5;124m.nc\u001b[39m\u001b[38;5;124m'\u001b[39m\n\u001b[1;32m      6\u001b[0m     smoothed_ds\u001b[38;5;241m.\u001b[39msel(time\u001b[38;5;241m=\u001b[39mreconstruction_time)\u001b[38;5;241m.\u001b[39mto_netcdf(smoothed_file_path, encoding\u001b[38;5;241m=\u001b[39mcompression_settings)\n",
      "\u001b[0;31mNameError\u001b[0m: name 'target_times' is not defined"
     ]
    }
   ],
   "source": [
    "# Save the smoothed datasets at each 1 Ma interval with zlib compression\n",
    "print(\"Saving smoothed datasets...\")\n",
    "\n",
    "for reconstruction_time in target_times:\n",
    "    smoothed_file_path = f'{DEFAULT_OUTPUT_NetCDF}/{WINDOW_SIZE}_processed_interpolated/{ml_model_name}_Model/{ml_model_name}_Model_{MODEL_NAME}_{reconstruction_time}.nc'\n",
    "    smoothed_ds.sel(time=reconstruction_time).to_netcdf(smoothed_file_path, encoding=compression_settings)\n",
    "    print(f\"Saved {smoothed_file_path}\")\n",
    "\n",
    "print(\"Process completed.\")\n"
   ]
  },
  {
   "cell_type": "code",
   "execution_count": null,
   "id": "9d7e1344-6ae6-4a72-88db-7e65a48e3b32",
   "metadata": {},
   "outputs": [],
   "source": []
  }
 ],
 "metadata": {
  "kernelspec": {
   "display_name": "Python 3 (ipykernel)",
   "language": "python",
   "name": "python3"
  },
  "language_info": {
   "codemirror_mode": {
    "name": "ipython",
    "version": 3
   },
   "file_extension": ".py",
   "mimetype": "text/x-python",
   "name": "python",
   "nbconvert_exporter": "python",
   "pygments_lexer": "ipython3",
   "version": "3.10.13"
  }
 },
 "nbformat": 4,
 "nbformat_minor": 5
}
